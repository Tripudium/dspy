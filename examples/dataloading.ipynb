{
 "cells": [
  {
   "cell_type": "code",
   "execution_count": 1,
   "metadata": {},
   "outputs": [],
   "source": [
    "%load_ext autoreload\n",
    "%autoreload 2"
   ]
  },
  {
   "cell_type": "code",
   "execution_count": 2,
   "metadata": {},
   "outputs": [],
   "source": [
    "import matplotlib.pyplot as plt # type: ignore\n",
    "import numpy as np\n",
    "import polars as pl"
   ]
  },
  {
   "cell_type": "code",
   "execution_count": 3,
   "metadata": {},
   "outputs": [],
   "source": [
    "from dspy.hdb import get_dataset"
   ]
  },
  {
   "cell_type": "code",
   "execution_count": 24,
   "metadata": {},
   "outputs": [],
   "source": [
    "RCS = [f\"{coin}USDT\" for coin in [\"BTC\", \"ETH\", \"SOL\", \"DOGE\", \"LINK\"]]\n",
    "TIMES = ['250120.000100', '250120.215000']"
   ]
  },
  {
   "cell_type": "markdown",
   "metadata": {
    "vscode": {
     "languageId": "plaintext"
    }
   },
   "source": [
    "# <font color=\"grey\">Data loading and handling</font>"
   ]
  },
  {
   "cell_type": "markdown",
   "metadata": {},
   "source": [
    "Data is available in two forms: limit order book (LOB) and trade data. The timestamps are given in nanosecond resolution as Unix timestamps, but the granularity of the data is not that fine. A simple dataloader and some helper function to convert Python datetime objects or strings of the form '240802.1450' into timestamps are provided. The 'book' data contains best bid and ask prices with corresponding volumes. The 'trade' data contains trades, with a signed quantity representing direction. There is also an associated trade id in order to identify individual trades."
   ]
  },
  {
   "cell_type": "code",
   "execution_count": 5,
   "metadata": {},
   "outputs": [],
   "source": [
    "dl = get_dataset(\"terank\")"
   ]
  },
  {
   "cell_type": "markdown",
   "metadata": {},
   "source": [
    "####  <a id='chapter1'> <font color=\"grey\">1. Book</font></a>"
   ]
  },
  {
   "cell_type": "code",
   "execution_count": 19,
   "metadata": {},
   "outputs": [],
   "source": [
    "df = dl.load_book(RCS[0:2], TIMES, lazy=True)\n",
    "# Add human readable timestamp and mid prices\n",
    "df = df.ds.add_datetime('ts').feature.add_mid(products=RCS[0:2])"
   ]
  },
  {
   "cell_type": "code",
   "execution_count": 20,
   "metadata": {},
   "outputs": [
    {
     "data": {
      "text/html": [
       "<div><style>\n",
       ".dataframe > thead > tr,\n",
       ".dataframe > tbody > tr {\n",
       "  text-align: right;\n",
       "  white-space: pre-wrap;\n",
       "}\n",
       "</style>\n",
       "<small>shape: (5, 12)</small><table border=\"1\" class=\"dataframe\"><thead><tr><th>ts</th><th>prc_s0_BTCUSDT</th><th>prc_s1_BTCUSDT</th><th>vol_s0_BTCUSDT</th><th>vol_s1_BTCUSDT</th><th>prc_s0_ETHUSDT</th><th>prc_s1_ETHUSDT</th><th>vol_s0_ETHUSDT</th><th>vol_s1_ETHUSDT</th><th>dts</th><th>mid_BTCUSDT</th><th>mid_ETHUSDT</th></tr><tr><td>i64</td><td>f64</td><td>f64</td><td>f64</td><td>f64</td><td>f64</td><td>f64</td><td>f64</td><td>f64</td><td>datetime[ns]</td><td>f64</td><td>f64</td></tr></thead><tbody><tr><td>1735725600012000000</td><td>93382.0</td><td>93382.1</td><td>11.471</td><td>1.673</td><td>3333.63</td><td>3333.64</td><td>93.753</td><td>0.555</td><td>2025-01-01 10:00:00.012</td><td>93382.05</td><td>3333.635</td></tr><tr><td>1735725600015000000</td><td>93382.0</td><td>93382.1</td><td>11.413</td><td>1.393</td><td>3333.63</td><td>3333.64</td><td>93.753</td><td>0.555</td><td>2025-01-01 10:00:00.015</td><td>93382.05</td><td>3333.635</td></tr><tr><td>1735725600061000000</td><td>93382.0</td><td>93382.1</td><td>11.413</td><td>1.393</td><td>3333.63</td><td>3333.64</td><td>93.782</td><td>0.555</td><td>2025-01-01 10:00:00.061</td><td>93382.05</td><td>3333.635</td></tr><tr><td>1735725600070000000</td><td>93382.0</td><td>93382.1</td><td>11.413</td><td>1.393</td><td>3333.63</td><td>3333.64</td><td>93.806</td><td>0.555</td><td>2025-01-01 10:00:00.070</td><td>93382.05</td><td>3333.635</td></tr><tr><td>1735725600075000000</td><td>93382.0</td><td>93382.1</td><td>11.355</td><td>1.393</td><td>3333.63</td><td>3333.64</td><td>93.806</td><td>0.555</td><td>2025-01-01 10:00:00.075</td><td>93382.05</td><td>3333.635</td></tr></tbody></table></div>"
      ],
      "text/plain": [
       "shape: (5, 12)\n",
       "┌───────────┬───────────┬───────────┬───────────┬───┬───────────┬───────────┬───────────┬──────────┐\n",
       "│ ts        ┆ prc_s0_BT ┆ prc_s1_BT ┆ vol_s0_BT ┆ … ┆ vol_s1_ET ┆ dts       ┆ mid_BTCUS ┆ mid_ETHU │\n",
       "│ ---       ┆ CUSDT     ┆ CUSDT     ┆ CUSDT     ┆   ┆ HUSDT     ┆ ---       ┆ DT        ┆ SDT      │\n",
       "│ i64       ┆ ---       ┆ ---       ┆ ---       ┆   ┆ ---       ┆ datetime[ ┆ ---       ┆ ---      │\n",
       "│           ┆ f64       ┆ f64       ┆ f64       ┆   ┆ f64       ┆ ns]       ┆ f64       ┆ f64      │\n",
       "╞═══════════╪═══════════╪═══════════╪═══════════╪═══╪═══════════╪═══════════╪═══════════╪══════════╡\n",
       "│ 173572560 ┆ 93382.0   ┆ 93382.1   ┆ 11.471    ┆ … ┆ 0.555     ┆ 2025-01-0 ┆ 93382.05  ┆ 3333.635 │\n",
       "│ 001200000 ┆           ┆           ┆           ┆   ┆           ┆ 1 10:00:0 ┆           ┆          │\n",
       "│ 0         ┆           ┆           ┆           ┆   ┆           ┆ 0.012     ┆           ┆          │\n",
       "│ 173572560 ┆ 93382.0   ┆ 93382.1   ┆ 11.413    ┆ … ┆ 0.555     ┆ 2025-01-0 ┆ 93382.05  ┆ 3333.635 │\n",
       "│ 001500000 ┆           ┆           ┆           ┆   ┆           ┆ 1 10:00:0 ┆           ┆          │\n",
       "│ 0         ┆           ┆           ┆           ┆   ┆           ┆ 0.015     ┆           ┆          │\n",
       "│ 173572560 ┆ 93382.0   ┆ 93382.1   ┆ 11.413    ┆ … ┆ 0.555     ┆ 2025-01-0 ┆ 93382.05  ┆ 3333.635 │\n",
       "│ 006100000 ┆           ┆           ┆           ┆   ┆           ┆ 1 10:00:0 ┆           ┆          │\n",
       "│ 0         ┆           ┆           ┆           ┆   ┆           ┆ 0.061     ┆           ┆          │\n",
       "│ 173572560 ┆ 93382.0   ┆ 93382.1   ┆ 11.413    ┆ … ┆ 0.555     ┆ 2025-01-0 ┆ 93382.05  ┆ 3333.635 │\n",
       "│ 007000000 ┆           ┆           ┆           ┆   ┆           ┆ 1 10:00:0 ┆           ┆          │\n",
       "│ 0         ┆           ┆           ┆           ┆   ┆           ┆ 0.070     ┆           ┆          │\n",
       "│ 173572560 ┆ 93382.0   ┆ 93382.1   ┆ 11.355    ┆ … ┆ 0.555     ┆ 2025-01-0 ┆ 93382.05  ┆ 3333.635 │\n",
       "│ 007500000 ┆           ┆           ┆           ┆   ┆           ┆ 1 10:00:0 ┆           ┆          │\n",
       "│ 0         ┆           ┆           ┆           ┆   ┆           ┆ 0.075     ┆           ┆          │\n",
       "└───────────┴───────────┴───────────┴───────────┴───┴───────────┴───────────┴───────────┴──────────┘"
      ]
     },
     "execution_count": 20,
     "metadata": {},
     "output_type": "execute_result"
    }
   ],
   "source": [
    "# This takes some time, not because of the loading but because of the aggregation\n",
    "df = df.collect()\n",
    "df.head()"
   ]
  },
  {
   "cell_type": "code",
   "execution_count": 8,
   "metadata": {},
   "outputs": [
    {
     "data": {
      "image/png": "[encoded data removed]",
      "text/plain": [
       "<Figure size 640x480 with 1 Axes>"
      ]
     },
     "metadata": {},
     "output_type": "display_data"
    }
   ],
   "source": [
    "plt.plot(df['dts'], df[f'mid_{RCS[0]}'])\n",
    "plt.xlabel('Time')\n",
    "plt.ylabel('Mid price')\n",
    "plt.title(f'{RCS[0]}')\n",
    "plt.show()"
   ]
  },
  {
   "cell_type": "code",
   "execution_count": 21,
   "metadata": {},
   "outputs": [],
   "source": [
    "# Add a column with random +1 or -1 entries\n",
    "df = df.with_columns(\n",
    "    pl.lit(np.random.choice([1., -1.], size=len(df))).alias('random_signal')\n",
    ")"
   ]
  },
  {
   "cell_type": "code",
   "execution_count": 31,
   "metadata": {},
   "outputs": [
    {
     "data": {
      "text/html": [
       "<div><style>\n",
       ".dataframe > thead > tr,\n",
       ".dataframe > tbody > tr {\n",
       "  text-align: right;\n",
       "  white-space: pre-wrap;\n",
       "}\n",
       "</style>\n",
       "<small>shape: (5, 14)</small><table border=\"1\" class=\"dataframe\"><thead><tr><th>ts</th><th>prc_s0_BTCUSDT</th><th>prc_s1_BTCUSDT</th><th>vol_s0_BTCUSDT</th><th>vol_s1_BTCUSDT</th><th>prc_s0_ETHUSDT</th><th>prc_s1_ETHUSDT</th><th>vol_s0_ETHUSDT</th><th>vol_s1_ETHUSDT</th><th>dts</th><th>mid_BTCUSDT</th><th>mid_ETHUSDT</th><th>random_signal</th><th>pnl_sig_1m</th></tr><tr><td>i64</td><td>f64</td><td>f64</td><td>f64</td><td>f64</td><td>f64</td><td>f64</td><td>f64</td><td>f64</td><td>datetime[ns]</td><td>f64</td><td>f64</td><td>f64</td><td>f64</td></tr></thead><tbody><tr><td>1735725600012000000</td><td>93382.0</td><td>93382.1</td><td>11.471</td><td>1.673</td><td>3333.63</td><td>3333.64</td><td>93.753</td><td>0.555</td><td>2025-01-01 10:00:00.012</td><td>93382.05</td><td>3333.635</td><td>1.0</td><td>-1.57</td></tr><tr><td>1735725600015000000</td><td>93382.0</td><td>93382.1</td><td>11.413</td><td>1.393</td><td>3333.63</td><td>3333.64</td><td>93.753</td><td>0.555</td><td>2025-01-01 10:00:00.015</td><td>93382.05</td><td>3333.635</td><td>-1.0</td><td>1.57</td></tr><tr><td>1735725600061000000</td><td>93382.0</td><td>93382.1</td><td>11.413</td><td>1.393</td><td>3333.63</td><td>3333.64</td><td>93.782</td><td>0.555</td><td>2025-01-01 10:00:00.061</td><td>93382.05</td><td>3333.635</td><td>-1.0</td><td>1.57</td></tr><tr><td>1735725600070000000</td><td>93382.0</td><td>93382.1</td><td>11.413</td><td>1.393</td><td>3333.63</td><td>3333.64</td><td>93.806</td><td>0.555</td><td>2025-01-01 10:00:00.070</td><td>93382.05</td><td>3333.635</td><td>1.0</td><td>-1.57</td></tr><tr><td>1735725600075000000</td><td>93382.0</td><td>93382.1</td><td>11.355</td><td>1.393</td><td>3333.63</td><td>3333.64</td><td>93.806</td><td>0.555</td><td>2025-01-01 10:00:00.075</td><td>93382.05</td><td>3333.635</td><td>1.0</td><td>-1.57</td></tr></tbody></table></div>"
      ],
      "text/plain": [
       "shape: (5, 14)\n",
       "┌───────────┬───────────┬───────────┬───────────┬───┬───────────┬───────────┬───────────┬──────────┐\n",
       "│ ts        ┆ prc_s0_BT ┆ prc_s1_BT ┆ vol_s0_BT ┆ … ┆ mid_BTCUS ┆ mid_ETHUS ┆ random_si ┆ pnl_sig_ │\n",
       "│ ---       ┆ CUSDT     ┆ CUSDT     ┆ CUSDT     ┆   ┆ DT        ┆ DT        ┆ gnal      ┆ 1m       │\n",
       "│ i64       ┆ ---       ┆ ---       ┆ ---       ┆   ┆ ---       ┆ ---       ┆ ---       ┆ ---      │\n",
       "│           ┆ f64       ┆ f64       ┆ f64       ┆   ┆ f64       ┆ f64       ┆ f64       ┆ f64      │\n",
       "╞═══════════╪═══════════╪═══════════╪═══════════╪═══╪═══════════╪═══════════╪═══════════╪══════════╡\n",
       "│ 173572560 ┆ 93382.0   ┆ 93382.1   ┆ 11.471    ┆ … ┆ 93382.05  ┆ 3333.635  ┆ 1.0       ┆ -1.57    │\n",
       "│ 001200000 ┆           ┆           ┆           ┆   ┆           ┆           ┆           ┆          │\n",
       "│ 0         ┆           ┆           ┆           ┆   ┆           ┆           ┆           ┆          │\n",
       "│ 173572560 ┆ 93382.0   ┆ 93382.1   ┆ 11.413    ┆ … ┆ 93382.05  ┆ 3333.635  ┆ -1.0      ┆ 1.57     │\n",
       "│ 001500000 ┆           ┆           ┆           ┆   ┆           ┆           ┆           ┆          │\n",
       "│ 0         ┆           ┆           ┆           ┆   ┆           ┆           ┆           ┆          │\n",
       "│ 173572560 ┆ 93382.0   ┆ 93382.1   ┆ 11.413    ┆ … ┆ 93382.05  ┆ 3333.635  ┆ -1.0      ┆ 1.57     │\n",
       "│ 006100000 ┆           ┆           ┆           ┆   ┆           ┆           ┆           ┆          │\n",
       "│ 0         ┆           ┆           ┆           ┆   ┆           ┆           ┆           ┆          │\n",
       "│ 173572560 ┆ 93382.0   ┆ 93382.1   ┆ 11.413    ┆ … ┆ 93382.05  ┆ 3333.635  ┆ 1.0       ┆ -1.57    │\n",
       "│ 007000000 ┆           ┆           ┆           ┆   ┆           ┆           ┆           ┆          │\n",
       "│ 0         ┆           ┆           ┆           ┆   ┆           ┆           ┆           ┆          │\n",
       "│ 173572560 ┆ 93382.0   ┆ 93382.1   ┆ 11.355    ┆ … ┆ 93382.05  ┆ 3333.635  ┆ 1.0       ┆ -1.57    │\n",
       "│ 007500000 ┆           ┆           ┆           ┆   ┆           ┆           ┆           ┆          │\n",
       "│ 0         ┆           ┆           ┆           ┆   ┆           ┆           ┆           ┆          │\n",
       "└───────────┴───────────┴───────────┴───────────┴───┴───────────┴───────────┴───────────┴──────────┘"
      ]
     },
     "execution_count": 31,
     "metadata": {},
     "output_type": "execute_result"
    }
   ],
   "source": [
    "pdf = df.target.add_sig_pnl(ts_col=\"ts\", col=\"mid_ETHUSDT\", signal=\"random_signal\", horizon=\"1m\", in_bp=False)\n",
    "pdf.head()"
   ]
  },
  {
   "cell_type": "markdown",
   "metadata": {},
   "source": [
    "####  <a id='chapter2'> <font color=\"grey\">2. Trades</font></a>"
   ]
  },
  {
   "cell_type": "code",
   "execution_count": 25,
   "metadata": {},
   "outputs": [],
   "source": [
    "products = ['BTCUSDT', 'ETHUSDT']"
   ]
  },
  {
   "cell_type": "code",
   "execution_count": 26,
   "metadata": {},
   "outputs": [],
   "source": [
    "tdf = dl.load_trades(products, TIMES, lazy=True)\n",
    "# By default, the timestamp column is named 'ts'\n",
    "tdf = tdf.trade.agg_trades().trade.add_side().ds.add_datetime()"
   ]
  },
  {
   "cell_type": "code",
   "execution_count": 27,
   "metadata": {},
   "outputs": [
    {
     "data": {
      "text/html": [
       "<div><style>\n",
       ".dataframe > thead > tr,\n",
       ".dataframe > tbody > tr {\n",
       "  text-align: right;\n",
       "  white-space: pre-wrap;\n",
       "}\n",
       "</style>\n",
       "<small>shape: (5, 7)</small><table border=\"1\" class=\"dataframe\"><thead><tr><th>ts</th><th>prc</th><th>product</th><th>trade_id</th><th>qty</th><th>side</th><th>dts</th></tr><tr><td>i64</td><td>f64</td><td>str</td><td>i64</td><td>f64</td><td>i32</td><td>datetime[ns]</td></tr></thead><tbody><tr><td>1737331260005000000</td><td>100950.2</td><td>&quot;BTCUSDT&quot;</td><td>5861367082</td><td>-0.001</td><td>-1</td><td>2025-01-20 00:01:00.005</td></tr><tr><td>1737331260005000000</td><td>100949.8</td><td>&quot;BTCUSDT&quot;</td><td>5861367083</td><td>-0.002</td><td>-1</td><td>2025-01-20 00:01:00.005</td></tr><tr><td>1737331260008000000</td><td>100949.8</td><td>&quot;BTCUSDT&quot;</td><td>5861367084</td><td>-0.019</td><td>-1</td><td>2025-01-20 00:01:00.008</td></tr><tr><td>1737331260008000000</td><td>100949.5</td><td>&quot;BTCUSDT&quot;</td><td>5861367086</td><td>-0.002</td><td>-1</td><td>2025-01-20 00:01:00.008</td></tr><tr><td>1737331260008000000</td><td>100948.1</td><td>&quot;BTCUSDT&quot;</td><td>5861367087</td><td>-0.002</td><td>-1</td><td>2025-01-20 00:01:00.008</td></tr></tbody></table></div>"
      ],
      "text/plain": [
       "shape: (5, 7)\n",
       "┌─────────────────────┬──────────┬─────────┬────────────┬────────┬──────┬─────────────────────────┐\n",
       "│ ts                  ┆ prc      ┆ product ┆ trade_id   ┆ qty    ┆ side ┆ dts                     │\n",
       "│ ---                 ┆ ---      ┆ ---     ┆ ---        ┆ ---    ┆ ---  ┆ ---                     │\n",
       "│ i64                 ┆ f64      ┆ str     ┆ i64        ┆ f64    ┆ i32  ┆ datetime[ns]            │\n",
       "╞═════════════════════╪══════════╪═════════╪════════════╪════════╪══════╪═════════════════════════╡\n",
       "│ 1737331260005000000 ┆ 100950.2 ┆ BTCUSDT ┆ 5861367082 ┆ -0.001 ┆ -1   ┆ 2025-01-20 00:01:00.005 │\n",
       "│ 1737331260005000000 ┆ 100949.8 ┆ BTCUSDT ┆ 5861367083 ┆ -0.002 ┆ -1   ┆ 2025-01-20 00:01:00.005 │\n",
       "│ 1737331260008000000 ┆ 100949.8 ┆ BTCUSDT ┆ 5861367084 ┆ -0.019 ┆ -1   ┆ 2025-01-20 00:01:00.008 │\n",
       "│ 1737331260008000000 ┆ 100949.5 ┆ BTCUSDT ┆ 5861367086 ┆ -0.002 ┆ -1   ┆ 2025-01-20 00:01:00.008 │\n",
       "│ 1737331260008000000 ┆ 100948.1 ┆ BTCUSDT ┆ 5861367087 ┆ -0.002 ┆ -1   ┆ 2025-01-20 00:01:00.008 │\n",
       "└─────────────────────┴──────────┴─────────┴────────────┴────────┴──────┴─────────────────────────┘"
      ]
     },
     "execution_count": 27,
     "metadata": {},
     "output_type": "execute_result"
    }
   ],
   "source": [
    "tdf = tdf.collect()\n",
    "tdf.head()"
   ]
  },
  {
   "cell_type": "markdown",
   "metadata": {},
   "source": [
    "####  <a id='chapter3'> <font color=\"grey\">3. Positions</font></a>"
   ]
  },
  {
   "cell_type": "code",
   "execution_count": 14,
   "metadata": {},
   "outputs": [],
   "source": [
    "from dspy.features.positions import create_test_positions_data"
   ]
  },
  {
   "cell_type": "code",
   "execution_count": 15,
   "metadata": {},
   "outputs": [
    {
     "name": "stdout",
     "output_type": "stream",
     "text": [
      "shape: (10, 8)\n",
      "┌────────────┬────────────┬────────────┬────────────┬────────────┬────────────┬───────────┬────────┐\n",
      "│ ts         ┆ mid_BTCUSD ┆ mid_ETHUSD ┆ pos_BTCUSD ┆ pos_ETHUSD ┆ pnl_BTCUSD ┆ pnl_ETHUS ┆ pnl    │\n",
      "│ ---        ┆ T          ┆ T          ┆ T          ┆ T          ┆ T          ┆ DT        ┆ ---    │\n",
      "│ datetime[μ ┆ ---        ┆ ---        ┆ ---        ┆ ---        ┆ ---        ┆ ---       ┆ f64    │\n",
      "│ s]         ┆ f64        ┆ f64        ┆ f64        ┆ f64        ┆ f64        ┆ f64       ┆        │\n",
      "╞════════════╪════════════╪════════════╪════════════╪════════════╪════════════╪═══════════╪════════╡\n",
      "│ 2023-01-01 ┆ 100.0      ┆ 50.0       ┆ 1.0        ┆ 0.5        ┆ -0.02      ┆ 0.0       ┆ -0.02  │\n",
      "│ 00:00:00   ┆            ┆            ┆            ┆            ┆            ┆           ┆        │\n",
      "│ 2023-01-01 ┆ 101.0      ┆ 50.5       ┆ 0.5        ┆ -0.5       ┆ 0.9699     ┆ 0.25      ┆ 1.2199 │\n",
      "│ 00:00:01   ┆            ┆            ┆            ┆            ┆            ┆           ┆        │\n",
      "│ 2023-01-01 ┆ 102.0      ┆ 51.0       ┆ -1.0       ┆ 1.5        ┆ 2.4495     ┆ 0.25      ┆ 2.6995 │\n",
      "│ 00:00:02   ┆            ┆            ┆            ┆            ┆            ┆           ┆        │\n",
      "│ 2023-01-01 ┆ 101.5      ┆ 51.5       ┆ 0.0        ┆ -1.0       ┆ 2.1995     ┆ 1.0       ┆ 3.1995 │\n",
      "│ 00:00:03   ┆            ┆            ┆            ┆            ┆            ┆           ┆        │\n",
      "│ 2023-01-01 ┆ 101.0      ┆ 52.0       ┆ -0.5       ┆ 0.5        ┆ 1.9394     ┆ 1.25      ┆ 3.1894 │\n",
      "│ 00:00:04   ┆            ┆            ┆            ┆            ┆            ┆           ┆        │\n",
      "│ 2023-01-01 ┆ 100.5      ┆ 51.5       ┆ 1.0        ┆ -0.5       ┆ 1.9193     ┆ 0.75      ┆ 2.6693 │\n",
      "│ 00:00:05   ┆            ┆            ┆            ┆            ┆            ┆           ┆        │\n",
      "│ 2023-01-01 ┆ 100.0      ┆ 51.0       ┆ 0.0        ┆ 1.0        ┆ 1.4193     ┆ 0.5       ┆ 1.9193 │\n",
      "│ 00:00:06   ┆            ┆            ┆            ┆            ┆            ┆           ┆        │\n",
      "│ 2023-01-01 ┆ 101.0      ┆ 52.0       ┆ 2.0        ┆ -1.0       ┆ 2.3789     ┆ 2.0       ┆ 4.3789 │\n",
      "│ 00:00:07   ┆            ┆            ┆            ┆            ┆            ┆           ┆        │\n",
      "│ 2023-01-01 ┆ 102.0      ┆ 53.0       ┆ -1.5       ┆ 0.5        ┆ 5.3483     ┆ 2.5       ┆ 7.8483 │\n",
      "│ 00:00:08   ┆            ┆            ┆            ┆            ┆            ┆           ┆        │\n",
      "│ 2023-01-01 ┆ 103.0      ┆ 52.5       ┆ 1.0        ┆ -0.5       ┆ 6.8277     ┆ 2.0       ┆ 8.8277 │\n",
      "│ 00:00:09   ┆            ┆            ┆            ┆            ┆            ┆           ┆        │\n",
      "└────────────┴────────────┴────────────┴────────────┴────────────┴────────────┴───────────┴────────┘\n"
     ]
    }
   ],
   "source": [
    "df = create_test_positions_data()\n",
    "print(df)"
   ]
  },
  {
   "cell_type": "markdown",
   "metadata": {},
   "source": [
    "####  <a id='chapter4'> <font color=\"grey\">4. Fixed-frequency data</font></a>"
   ]
  },
  {
   "cell_type": "code",
   "execution_count": 18,
   "metadata": {},
   "outputs": [
    {
     "data": {
      "text/html": [
       "<div><style>\n",
       ".dataframe > thead > tr,\n",
       ".dataframe > tbody > tr {\n",
       "  text-align: right;\n",
       "  white-space: pre-wrap;\n",
       "}\n",
       "</style>\n",
       "<small>shape: (5, 3)</small><table border=\"1\" class=\"dataframe\"><thead><tr><th>ts</th><th>mid_BTCUSDT</th><th>mid_ETHUSDT</th></tr><tr><td>datetime[ns]</td><td>f64</td><td>f64</td></tr></thead><tbody><tr><td>2025-01-01 10:00:01</td><td>93382.05</td><td>3333.445</td></tr><tr><td>2025-01-01 10:00:02</td><td>93382.05</td><td>3333.445</td></tr><tr><td>2025-01-01 10:00:03</td><td>93382.05</td><td>3333.065</td></tr><tr><td>2025-01-01 10:00:04</td><td>93382.05</td><td>3333.045</td></tr><tr><td>2025-01-01 10:00:05</td><td>93387.75</td><td>3333.355</td></tr></tbody></table></div>"
      ],
      "text/plain": [
       "shape: (5, 3)\n",
       "┌─────────────────────┬─────────────┬─────────────┐\n",
       "│ ts                  ┆ mid_BTCUSDT ┆ mid_ETHUSDT │\n",
       "│ ---                 ┆ ---         ┆ ---         │\n",
       "│ datetime[ns]        ┆ f64         ┆ f64         │\n",
       "╞═════════════════════╪═════════════╪═════════════╡\n",
       "│ 2025-01-01 10:00:01 ┆ 93382.05    ┆ 3333.445    │\n",
       "│ 2025-01-01 10:00:02 ┆ 93382.05    ┆ 3333.445    │\n",
       "│ 2025-01-01 10:00:03 ┆ 93382.05    ┆ 3333.065    │\n",
       "│ 2025-01-01 10:00:04 ┆ 93382.05    ┆ 3333.045    │\n",
       "│ 2025-01-01 10:00:05 ┆ 93387.75    ┆ 3333.355    │\n",
       "└─────────────────────┴─────────────┴─────────────┘"
      ]
     },
     "execution_count": 18,
     "metadata": {},
     "output_type": "execute_result"
    }
   ],
   "source": [
    "df = dl.load(products, TIMES, freq=\"1s\")\n",
    "df.head()"
   ]
  },
  {
   "cell_type": "markdown",
   "metadata": {},
   "source": [
    "####  <a id='chapter5'> <font color=\"grey\">5. Signals</font></a>"
   ]
  },
  {
   "cell_type": "code",
   "execution_count": null,
   "metadata": {},
   "outputs": [],
   "source": []
  }
 ],
 "metadata": {
  "kernelspec": {
   "display_name": "Python 3 (ipykernel)",
   "language": "python",
   "name": "python3"
  },
  "language_info": {
   "codemirror_mode": {
    "name": "ipython",
    "version": 3
   },
   "file_extension": ".py",
   "mimetype": "text/x-python",
   "name": "python",
   "nbconvert_exporter": "python",
   "pygments_lexer": "ipython3",
   "version": "3.13.2"
  }
 },
 "nbformat": 4,
 "nbformat_minor": 4
}
