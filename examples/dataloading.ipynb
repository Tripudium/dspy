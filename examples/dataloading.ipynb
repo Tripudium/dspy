{
 "cells": [
  {
   "cell_type": "code",
   "execution_count": 2,
   "metadata": {},
   "outputs": [
    {
     "name": "stdout",
     "output_type": "stream",
     "text": [
      "The autoreload extension is already loaded. To reload it, use:\n",
      "  %reload_ext autoreload\n"
     ]
    }
   ],
   "source": [
    "%load_ext autoreload\n",
    "%autoreload 2"
   ]
  },
  {
   "cell_type": "code",
   "execution_count": 3,
   "metadata": {},
   "outputs": [],
   "source": [
    "import matplotlib.pyplot as plt # type: ignore\n",
    "import numpy as np\n",
    "import polars as pl"
   ]
  },
  {
   "cell_type": "code",
   "execution_count": 9,
   "metadata": {},
   "outputs": [
    {
     "ename": "ModuleNotFoundError",
     "evalue": "No module named 'dspy'",
     "output_type": "error",
     "traceback": [
      "\u001b[31m---------------------------------------------------------------------------\u001b[39m",
      "\u001b[31mModuleNotFoundError\u001b[39m                       Traceback (most recent call last)",
      "\u001b[36mCell\u001b[39m\u001b[36m \u001b[39m\u001b[32mIn[9]\u001b[39m\u001b[32m, line 1\u001b[39m\n\u001b[32m----> \u001b[39m\u001b[32m1\u001b[39m \u001b[38;5;28;01mfrom\u001b[39;00m\u001b[38;5;250m \u001b[39m\u001b[34;01mdspy\u001b[39;00m\u001b[34;01m.\u001b[39;00m\u001b[34;01mhdb\u001b[39;00m\u001b[38;5;250m \u001b[39m\u001b[38;5;28;01mimport\u001b[39;00m get_dataset\n",
      "\u001b[31mModuleNotFoundError\u001b[39m: No module named 'dspy'"
     ]
    }
   ],
   "source": [
    "from dspy.hdb import get_dataset"
   ]
  },
  {
   "cell_type": "markdown",
   "metadata": {
    "vscode": {
     "languageId": "plaintext"
    }
   },
   "source": [
    "# <font color=\"grey\">Data loading and handling</font>"
   ]
  },
  {
   "cell_type": "markdown",
   "metadata": {},
   "source": [
    "Data is available in two forms: limit order book (LOB) and trade data. The timestamps are given in nanosecond resolution as Unix timestamps, but the granularity of the data is not that fine. A simple dataloader and some helper function to convert Python datetime objects or strings of the form '240802.1450' into timestamps are provided. The 'book' data contains best bid and ask prices with corresponding volumes. The 'trade' data contains trades, with a signed quantity representing direction. There is also an associated trade id in order to identify individual trades."
   ]
  },
  {
   "cell_type": "code",
   "execution_count": 4,
   "metadata": {},
   "outputs": [],
   "source": [
    "dl = get_dataset(\"terank\")"
   ]
  },
  {
   "cell_type": "code",
   "execution_count": 5,
   "metadata": {},
   "outputs": [],
   "source": [
    "RCS = [f\"{coin}USDT\" for coin in [\"BTC\", \"ETH\", \"SOL\", \"DOGE\", \"LINK\"]]\n",
    "TYPE = ['book', 'trade']\n",
    "MONTHS = ['06', '07', '08']\n",
    "TIMES = ['240720.000100', '240720.215000']"
   ]
  },
  {
   "cell_type": "markdown",
   "metadata": {},
   "source": [
    "####  <a id='chapter1'> <font color=\"grey\">1. Book</font></a>"
   ]
  },
  {
   "cell_type": "code",
   "execution_count": 6,
   "metadata": {},
   "outputs": [
    {
     "name": "stdout",
     "output_type": "stream",
     "text": [
      "Hello\n"
     ]
    }
   ],
   "source": [
    "df = dl.load_book(RCS[0:2], TIMES, lazy=True)\n",
    "# Add human readable timestamp and mid prices\n",
    "df = df.ds.add_datetime('ts').feature.add_mid(products=RCS[0:2])"
   ]
  },
  {
   "cell_type": "code",
   "execution_count": 7,
   "metadata": {},
   "outputs": [
    {
     "data": {
      "text/html": [
       "<div><style>\n",
       ".dataframe > thead > tr,\n",
       ".dataframe > tbody > tr {\n",
       "  text-align: right;\n",
       "  white-space: pre-wrap;\n",
       "}\n",
       "</style>\n",
       "<small>shape: (5, 12)</small><table border=\"1\" class=\"dataframe\"><thead><tr><th>ts</th><th>prc__s0_BTCUSDT</th><th>prc__s1_BTCUSDT</th><th>vol__s0_BTCUSDT</th><th>vol__s1_BTCUSDT</th><th>prc__s0_ETHUSDT</th><th>prc__s1_ETHUSDT</th><th>vol__s0_ETHUSDT</th><th>vol__s1_ETHUSDT</th><th>dts</th><th>mid_BTCUSDT</th><th>mid_ETHUSDT</th></tr><tr><td>u64</td><td>f64</td><td>f64</td><td>f64</td><td>f64</td><td>f64</td><td>f64</td><td>f64</td><td>f64</td><td>datetime[ns]</td><td>f64</td><td>f64</td></tr></thead><tbody><tr><td>1721433660056500000</td><td>66689.9</td><td>66690.0</td><td>7.331</td><td>10.59</td><td>3503.63</td><td>3503.64</td><td>12.785</td><td>82.869</td><td>2024-07-20 00:01:00.056500</td><td>66689.95</td><td>3503.635</td></tr><tr><td>1721433660058500000</td><td>66689.9</td><td>66690.0</td><td>7.331</td><td>10.531</td><td>3503.63</td><td>3503.64</td><td>12.785</td><td>82.869</td><td>2024-07-20 00:01:00.058500</td><td>66689.95</td><td>3503.635</td></tr><tr><td>1721433660063500000</td><td>66689.9</td><td>66690.0</td><td>7.329</td><td>10.531</td><td>3503.63</td><td>3503.64</td><td>0.332</td><td>82.869</td><td>2024-07-20 00:01:00.063500</td><td>66689.95</td><td>3503.635</td></tr><tr><td>1721433660066500000</td><td>66689.9</td><td>66690.0</td><td>6.079</td><td>10.531</td><td>3503.63</td><td>3503.64</td><td>0.332</td><td>82.883</td><td>2024-07-20 00:01:00.066500</td><td>66689.95</td><td>3503.635</td></tr><tr><td>1721433660069500000</td><td>66689.9</td><td>66690.0</td><td>6.079</td><td>10.513</td><td>3503.63</td><td>3503.64</td><td>0.332</td><td>82.883</td><td>2024-07-20 00:01:00.069500</td><td>66689.95</td><td>3503.635</td></tr></tbody></table></div>"
      ],
      "text/plain": [
       "shape: (5, 12)\n",
       "┌───────────┬───────────┬───────────┬───────────┬───┬───────────┬───────────┬───────────┬──────────┐\n",
       "│ ts        ┆ prc__s0_B ┆ prc__s1_B ┆ vol__s0_B ┆ … ┆ vol__s1_E ┆ dts       ┆ mid_BTCUS ┆ mid_ETHU │\n",
       "│ ---       ┆ TCUSDT    ┆ TCUSDT    ┆ TCUSDT    ┆   ┆ THUSDT    ┆ ---       ┆ DT        ┆ SDT      │\n",
       "│ u64       ┆ ---       ┆ ---       ┆ ---       ┆   ┆ ---       ┆ datetime[ ┆ ---       ┆ ---      │\n",
       "│           ┆ f64       ┆ f64       ┆ f64       ┆   ┆ f64       ┆ ns]       ┆ f64       ┆ f64      │\n",
       "╞═══════════╪═══════════╪═══════════╪═══════════╪═══╪═══════════╪═══════════╪═══════════╪══════════╡\n",
       "│ 172143366 ┆ 66689.9   ┆ 66690.0   ┆ 7.331     ┆ … ┆ 82.869    ┆ 2024-07-2 ┆ 66689.95  ┆ 3503.635 │\n",
       "│ 005650000 ┆           ┆           ┆           ┆   ┆           ┆ 0 00:01:0 ┆           ┆          │\n",
       "│ 0         ┆           ┆           ┆           ┆   ┆           ┆ 0.056500  ┆           ┆          │\n",
       "│ 172143366 ┆ 66689.9   ┆ 66690.0   ┆ 7.331     ┆ … ┆ 82.869    ┆ 2024-07-2 ┆ 66689.95  ┆ 3503.635 │\n",
       "│ 005850000 ┆           ┆           ┆           ┆   ┆           ┆ 0 00:01:0 ┆           ┆          │\n",
       "│ 0         ┆           ┆           ┆           ┆   ┆           ┆ 0.058500  ┆           ┆          │\n",
       "│ 172143366 ┆ 66689.9   ┆ 66690.0   ┆ 7.329     ┆ … ┆ 82.869    ┆ 2024-07-2 ┆ 66689.95  ┆ 3503.635 │\n",
       "│ 006350000 ┆           ┆           ┆           ┆   ┆           ┆ 0 00:01:0 ┆           ┆          │\n",
       "│ 0         ┆           ┆           ┆           ┆   ┆           ┆ 0.063500  ┆           ┆          │\n",
       "│ 172143366 ┆ 66689.9   ┆ 66690.0   ┆ 6.079     ┆ … ┆ 82.883    ┆ 2024-07-2 ┆ 66689.95  ┆ 3503.635 │\n",
       "│ 006650000 ┆           ┆           ┆           ┆   ┆           ┆ 0 00:01:0 ┆           ┆          │\n",
       "│ 0         ┆           ┆           ┆           ┆   ┆           ┆ 0.066500  ┆           ┆          │\n",
       "│ 172143366 ┆ 66689.9   ┆ 66690.0   ┆ 6.079     ┆ … ┆ 82.883    ┆ 2024-07-2 ┆ 66689.95  ┆ 3503.635 │\n",
       "│ 006950000 ┆           ┆           ┆           ┆   ┆           ┆ 0 00:01:0 ┆           ┆          │\n",
       "│ 0         ┆           ┆           ┆           ┆   ┆           ┆ 0.069500  ┆           ┆          │\n",
       "└───────────┴───────────┴───────────┴───────────┴───┴───────────┴───────────┴───────────┴──────────┘"
      ]
     },
     "execution_count": 7,
     "metadata": {},
     "output_type": "execute_result"
    }
   ],
   "source": [
    "# This takes some time, not because of the loading but because of the aggregation\n",
    "df = df.collect()\n",
    "df.head()"
   ]
  },
  {
   "cell_type": "code",
   "execution_count": 8,
   "metadata": {},
   "outputs": [],
   "source": [
    "# Add a column with random +1 or -1 entries\n",
    "df = df.with_columns(\n",
    "    pl.lit(np.random.choice([1., -1.], size=len(df))).alias('random_signal')\n",
    ")"
   ]
  },
  {
   "cell_type": "code",
   "execution_count": 9,
   "metadata": {},
   "outputs": [
    {
     "data": {
      "text/html": [
       "<div><style>\n",
       ".dataframe > thead > tr,\n",
       ".dataframe > tbody > tr {\n",
       "  text-align: right;\n",
       "  white-space: pre-wrap;\n",
       "}\n",
       "</style>\n",
       "<small>shape: (5, 14)</small><table border=\"1\" class=\"dataframe\"><thead><tr><th>ts</th><th>prc__s0_BTCUSDT</th><th>prc__s1_BTCUSDT</th><th>vol__s0_BTCUSDT</th><th>vol__s1_BTCUSDT</th><th>prc__s0_ETHUSDT</th><th>prc__s1_ETHUSDT</th><th>vol__s0_ETHUSDT</th><th>vol__s1_ETHUSDT</th><th>dts</th><th>mid_BTCUSDT</th><th>mid_ETHUSDT</th><th>random_signal</th><th>pnl_sig_1m</th></tr><tr><td>u64</td><td>f64</td><td>f64</td><td>f64</td><td>f64</td><td>f64</td><td>f64</td><td>f64</td><td>f64</td><td>datetime[ns]</td><td>f64</td><td>f64</td><td>f64</td><td>f64</td></tr></thead><tbody><tr><td>1721433660056500000</td><td>66689.9</td><td>66690.0</td><td>7.331</td><td>10.59</td><td>3503.63</td><td>3503.64</td><td>12.785</td><td>82.869</td><td>2024-07-20 00:01:00.056500</td><td>66689.95</td><td>3503.635</td><td>-1.0</td><td>-1.36</td></tr><tr><td>1721433660058500000</td><td>66689.9</td><td>66690.0</td><td>7.331</td><td>10.531</td><td>3503.63</td><td>3503.64</td><td>12.785</td><td>82.869</td><td>2024-07-20 00:01:00.058500</td><td>66689.95</td><td>3503.635</td><td>1.0</td><td>1.36</td></tr><tr><td>1721433660063500000</td><td>66689.9</td><td>66690.0</td><td>7.329</td><td>10.531</td><td>3503.63</td><td>3503.64</td><td>0.332</td><td>82.869</td><td>2024-07-20 00:01:00.063500</td><td>66689.95</td><td>3503.635</td><td>1.0</td><td>1.36</td></tr><tr><td>1721433660066500000</td><td>66689.9</td><td>66690.0</td><td>6.079</td><td>10.531</td><td>3503.63</td><td>3503.64</td><td>0.332</td><td>82.883</td><td>2024-07-20 00:01:00.066500</td><td>66689.95</td><td>3503.635</td><td>-1.0</td><td>-1.36</td></tr><tr><td>1721433660069500000</td><td>66689.9</td><td>66690.0</td><td>6.079</td><td>10.513</td><td>3503.63</td><td>3503.64</td><td>0.332</td><td>82.883</td><td>2024-07-20 00:01:00.069500</td><td>66689.95</td><td>3503.635</td><td>-1.0</td><td>-1.36</td></tr></tbody></table></div>"
      ],
      "text/plain": [
       "shape: (5, 14)\n",
       "┌───────────┬───────────┬───────────┬───────────┬───┬───────────┬───────────┬───────────┬──────────┐\n",
       "│ ts        ┆ prc__s0_B ┆ prc__s1_B ┆ vol__s0_B ┆ … ┆ mid_BTCUS ┆ mid_ETHUS ┆ random_si ┆ pnl_sig_ │\n",
       "│ ---       ┆ TCUSDT    ┆ TCUSDT    ┆ TCUSDT    ┆   ┆ DT        ┆ DT        ┆ gnal      ┆ 1m       │\n",
       "│ u64       ┆ ---       ┆ ---       ┆ ---       ┆   ┆ ---       ┆ ---       ┆ ---       ┆ ---      │\n",
       "│           ┆ f64       ┆ f64       ┆ f64       ┆   ┆ f64       ┆ f64       ┆ f64       ┆ f64      │\n",
       "╞═══════════╪═══════════╪═══════════╪═══════════╪═══╪═══════════╪═══════════╪═══════════╪══════════╡\n",
       "│ 172143366 ┆ 66689.9   ┆ 66690.0   ┆ 7.331     ┆ … ┆ 66689.95  ┆ 3503.635  ┆ -1.0      ┆ -1.36    │\n",
       "│ 005650000 ┆           ┆           ┆           ┆   ┆           ┆           ┆           ┆          │\n",
       "│ 0         ┆           ┆           ┆           ┆   ┆           ┆           ┆           ┆          │\n",
       "│ 172143366 ┆ 66689.9   ┆ 66690.0   ┆ 7.331     ┆ … ┆ 66689.95  ┆ 3503.635  ┆ 1.0       ┆ 1.36     │\n",
       "│ 005850000 ┆           ┆           ┆           ┆   ┆           ┆           ┆           ┆          │\n",
       "│ 0         ┆           ┆           ┆           ┆   ┆           ┆           ┆           ┆          │\n",
       "│ 172143366 ┆ 66689.9   ┆ 66690.0   ┆ 7.329     ┆ … ┆ 66689.95  ┆ 3503.635  ┆ 1.0       ┆ 1.36     │\n",
       "│ 006350000 ┆           ┆           ┆           ┆   ┆           ┆           ┆           ┆          │\n",
       "│ 0         ┆           ┆           ┆           ┆   ┆           ┆           ┆           ┆          │\n",
       "│ 172143366 ┆ 66689.9   ┆ 66690.0   ┆ 6.079     ┆ … ┆ 66689.95  ┆ 3503.635  ┆ -1.0      ┆ -1.36    │\n",
       "│ 006650000 ┆           ┆           ┆           ┆   ┆           ┆           ┆           ┆          │\n",
       "│ 0         ┆           ┆           ┆           ┆   ┆           ┆           ┆           ┆          │\n",
       "│ 172143366 ┆ 66689.9   ┆ 66690.0   ┆ 6.079     ┆ … ┆ 66689.95  ┆ 3503.635  ┆ -1.0      ┆ -1.36    │\n",
       "│ 006950000 ┆           ┆           ┆           ┆   ┆           ┆           ┆           ┆          │\n",
       "│ 0         ┆           ┆           ┆           ┆   ┆           ┆           ┆           ┆          │\n",
       "└───────────┴───────────┴───────────┴───────────┴───┴───────────┴───────────┴───────────┴──────────┘"
      ]
     },
     "execution_count": 9,
     "metadata": {},
     "output_type": "execute_result"
    }
   ],
   "source": [
    "pdf = df.target.add_sig_pnl(ts_col=\"ts\", col=\"mid_ETHUSDT\", signal=\"random_signal\", horizon=\"1m\", in_bp=False)\n",
    "pdf.head()"
   ]
  },
  {
   "cell_type": "code",
   "execution_count": 10,
   "metadata": {},
   "outputs": [
    {
     "data": {
      "image/png": "[encoded data removed]",
      "text/plain": [
       "<Figure size 640x480 with 1 Axes>"
      ]
     },
     "metadata": {},
     "output_type": "display_data"
    }
   ],
   "source": [
    "plt.plot(df['dts'], df['mid_ETHUSDT'])\n",
    "plt.xlabel('Time')\n",
    "plt.ylabel('Mid price')\n",
    "plt.title('Mid price over time')\n",
    "plt.show()"
   ]
  },
  {
   "cell_type": "code",
   "execution_count": 12,
   "metadata": {},
   "outputs": [
    {
     "data": {
      "text/html": [
       "<div><style>\n",
       ".dataframe > thead > tr,\n",
       ".dataframe > tbody > tr {\n",
       "  text-align: right;\n",
       "  white-space: pre-wrap;\n",
       "}\n",
       "</style>\n",
       "<small>shape: (5, 15)</small><table border=\"1\" class=\"dataframe\"><thead><tr><th>ts</th><th>prc__s0_BTCUSDT</th><th>prc__s1_BTCUSDT</th><th>vol__s0_BTCUSDT</th><th>vol__s1_BTCUSDT</th><th>prc__s0_ETHUSDT</th><th>prc__s1_ETHUSDT</th><th>vol__s0_ETHUSDT</th><th>vol__s1_ETHUSDT</th><th>dts</th><th>mid_BTCUSDT</th><th>mid_ETHUSDT</th><th>random_signal</th><th>vwap_BTCUSDT</th><th>vwap_ETHUSDT</th></tr><tr><td>u64</td><td>f64</td><td>f64</td><td>f64</td><td>f64</td><td>f64</td><td>f64</td><td>f64</td><td>f64</td><td>datetime[ns]</td><td>f64</td><td>f64</td><td>f64</td><td>f64</td><td>f64</td></tr></thead><tbody><tr><td>1721433660056500000</td><td>66689.9</td><td>66690.0</td><td>7.331</td><td>10.59</td><td>3503.63</td><td>3503.64</td><td>12.785</td><td>82.869</td><td>2024-07-20 00:01:00.056500</td><td>66689.95</td><td>3503.635</td><td>-1.0</td><td>66689.959093</td><td>3503.638663</td></tr><tr><td>1721433660058500000</td><td>66689.9</td><td>66690.0</td><td>7.331</td><td>10.531</td><td>3503.63</td><td>3503.64</td><td>12.785</td><td>82.869</td><td>2024-07-20 00:01:00.058500</td><td>66689.95</td><td>3503.635</td><td>1.0</td><td>66689.958958</td><td>3503.638663</td></tr><tr><td>1721433660063500000</td><td>66689.9</td><td>66690.0</td><td>7.329</td><td>10.531</td><td>3503.63</td><td>3503.64</td><td>0.332</td><td>82.869</td><td>2024-07-20 00:01:00.063500</td><td>66689.95</td><td>3503.635</td><td>1.0</td><td>66689.958964</td><td>3503.63996</td></tr><tr><td>1721433660066500000</td><td>66689.9</td><td>66690.0</td><td>6.079</td><td>10.531</td><td>3503.63</td><td>3503.64</td><td>0.332</td><td>82.883</td><td>2024-07-20 00:01:00.066500</td><td>66689.95</td><td>3503.635</td><td>-1.0</td><td>66689.963402</td><td>3503.63996</td></tr><tr><td>1721433660069500000</td><td>66689.9</td><td>66690.0</td><td>6.079</td><td>10.513</td><td>3503.63</td><td>3503.64</td><td>0.332</td><td>82.883</td><td>2024-07-20 00:01:00.069500</td><td>66689.95</td><td>3503.635</td><td>-1.0</td><td>66689.963362</td><td>3503.63996</td></tr></tbody></table></div>"
      ],
      "text/plain": [
       "shape: (5, 15)\n",
       "┌───────────┬───────────┬───────────┬───────────┬───┬───────────┬───────────┬───────────┬──────────┐\n",
       "│ ts        ┆ prc__s0_B ┆ prc__s1_B ┆ vol__s0_B ┆ … ┆ mid_ETHUS ┆ random_si ┆ vwap_BTCU ┆ vwap_ETH │\n",
       "│ ---       ┆ TCUSDT    ┆ TCUSDT    ┆ TCUSDT    ┆   ┆ DT        ┆ gnal      ┆ SDT       ┆ USDT     │\n",
       "│ u64       ┆ ---       ┆ ---       ┆ ---       ┆   ┆ ---       ┆ ---       ┆ ---       ┆ ---      │\n",
       "│           ┆ f64       ┆ f64       ┆ f64       ┆   ┆ f64       ┆ f64       ┆ f64       ┆ f64      │\n",
       "╞═══════════╪═══════════╪═══════════╪═══════════╪═══╪═══════════╪═══════════╪═══════════╪══════════╡\n",
       "│ 172143366 ┆ 66689.9   ┆ 66690.0   ┆ 7.331     ┆ … ┆ 3503.635  ┆ -1.0      ┆ 66689.959 ┆ 3503.638 │\n",
       "│ 005650000 ┆           ┆           ┆           ┆   ┆           ┆           ┆ 093       ┆ 663      │\n",
       "│ 0         ┆           ┆           ┆           ┆   ┆           ┆           ┆           ┆          │\n",
       "│ 172143366 ┆ 66689.9   ┆ 66690.0   ┆ 7.331     ┆ … ┆ 3503.635  ┆ 1.0       ┆ 66689.958 ┆ 3503.638 │\n",
       "│ 005850000 ┆           ┆           ┆           ┆   ┆           ┆           ┆ 958       ┆ 663      │\n",
       "│ 0         ┆           ┆           ┆           ┆   ┆           ┆           ┆           ┆          │\n",
       "│ 172143366 ┆ 66689.9   ┆ 66690.0   ┆ 7.329     ┆ … ┆ 3503.635  ┆ 1.0       ┆ 66689.958 ┆ 3503.639 │\n",
       "│ 006350000 ┆           ┆           ┆           ┆   ┆           ┆           ┆ 964       ┆ 96       │\n",
       "│ 0         ┆           ┆           ┆           ┆   ┆           ┆           ┆           ┆          │\n",
       "│ 172143366 ┆ 66689.9   ┆ 66690.0   ┆ 6.079     ┆ … ┆ 3503.635  ┆ -1.0      ┆ 66689.963 ┆ 3503.639 │\n",
       "│ 006650000 ┆           ┆           ┆           ┆   ┆           ┆           ┆ 402       ┆ 96       │\n",
       "│ 0         ┆           ┆           ┆           ┆   ┆           ┆           ┆           ┆          │\n",
       "│ 172143366 ┆ 66689.9   ┆ 66690.0   ┆ 6.079     ┆ … ┆ 3503.635  ┆ -1.0      ┆ 66689.963 ┆ 3503.639 │\n",
       "│ 006950000 ┆           ┆           ┆           ┆   ┆           ┆           ┆ 362       ┆ 96       │\n",
       "│ 0         ┆           ┆           ┆           ┆   ┆           ┆           ┆           ┆          │\n",
       "└───────────┴───────────┴───────────┴───────────┴───┴───────────┴───────────┴───────────┴──────────┘"
      ]
     },
     "execution_count": 12,
     "metadata": {},
     "output_type": "execute_result"
    }
   ],
   "source": [
    "df = df.feature.add_vwap(cols=[\"prc__s0\", \"prc__s1\", \"vol__s0\", \"vol__s1\"])\n",
    "df.head()"
   ]
  },
  {
   "cell_type": "markdown",
   "metadata": {},
   "source": [
    "####  <a id='chapter2'> <font color=\"grey\">2. Trades</font></a>"
   ]
  },
  {
   "cell_type": "code",
   "execution_count": 15,
   "metadata": {},
   "outputs": [],
   "source": [
    "tdf = dl.load_trades(RCS[0:2], TIMES, lazy=True)\n",
    "# By default, the timestamp column is named 'ts'\n",
    "tdf = tdf.trade.agg_trades().trade.add_side().ds.add_datetime()"
   ]
  },
  {
   "cell_type": "code",
   "execution_count": 16,
   "metadata": {},
   "outputs": [
    {
     "data": {
      "text/html": [
       "<div><style>\n",
       ".dataframe > thead > tr,\n",
       ".dataframe > tbody > tr {\n",
       "  text-align: right;\n",
       "  white-space: pre-wrap;\n",
       "}\n",
       "</style>\n",
       "<small>shape: (5, 7)</small><table border=\"1\" class=\"dataframe\"><thead><tr><th>ts</th><th>prc</th><th>product</th><th>trade_id</th><th>qty</th><th>side</th><th>dts</th></tr><tr><td>u64</td><td>f64</td><td>str</td><td>u64</td><td>f64</td><td>i32</td><td>datetime[ns]</td></tr></thead><tbody><tr><td>1721433660058500000</td><td>66690.0</td><td>&quot;BTCUSDT&quot;</td><td>5185491785</td><td>0.059</td><td>1</td><td>2024-07-20 00:01:00.058500</td></tr><tr><td>1721433660069500000</td><td>66690.0</td><td>&quot;BTCUSDT&quot;</td><td>5185491786</td><td>0.018</td><td>1</td><td>2024-07-20 00:01:00.069500</td></tr><tr><td>1721433660157500000</td><td>66690.0</td><td>&quot;BTCUSDT&quot;</td><td>5185491787</td><td>0.003</td><td>1</td><td>2024-07-20 00:01:00.157500</td></tr><tr><td>1721433660303500000</td><td>3503.64</td><td>&quot;ETHUSDT&quot;</td><td>4221078684</td><td>0.014</td><td>1</td><td>2024-07-20 00:01:00.303500</td></tr><tr><td>1721433660481500000</td><td>3503.63</td><td>&quot;ETHUSDT&quot;</td><td>4221078685</td><td>-0.006</td><td>-1</td><td>2024-07-20 00:01:00.481500</td></tr></tbody></table></div>"
      ],
      "text/plain": [
       "shape: (5, 7)\n",
       "┌─────────────────────┬─────────┬─────────┬────────────┬────────┬──────┬─────────────────┐\n",
       "│ ts                  ┆ prc     ┆ product ┆ trade_id   ┆ qty    ┆ side ┆ dts             │\n",
       "│ ---                 ┆ ---     ┆ ---     ┆ ---        ┆ ---    ┆ ---  ┆ ---             │\n",
       "│ u64                 ┆ f64     ┆ str     ┆ u64        ┆ f64    ┆ i32  ┆ datetime[ns]    │\n",
       "╞═════════════════════╪═════════╪═════════╪════════════╪════════╪══════╪═════════════════╡\n",
       "│ 1721433660058500000 ┆ 66690.0 ┆ BTCUSDT ┆ 5185491785 ┆ 0.059  ┆ 1    ┆ 2024-07-20      │\n",
       "│                     ┆         ┆         ┆            ┆        ┆      ┆ 00:01:00.058500 │\n",
       "│ 1721433660069500000 ┆ 66690.0 ┆ BTCUSDT ┆ 5185491786 ┆ 0.018  ┆ 1    ┆ 2024-07-20      │\n",
       "│                     ┆         ┆         ┆            ┆        ┆      ┆ 00:01:00.069500 │\n",
       "│ 1721433660157500000 ┆ 66690.0 ┆ BTCUSDT ┆ 5185491787 ┆ 0.003  ┆ 1    ┆ 2024-07-20      │\n",
       "│                     ┆         ┆         ┆            ┆        ┆      ┆ 00:01:00.157500 │\n",
       "│ 1721433660303500000 ┆ 3503.64 ┆ ETHUSDT ┆ 4221078684 ┆ 0.014  ┆ 1    ┆ 2024-07-20      │\n",
       "│                     ┆         ┆         ┆            ┆        ┆      ┆ 00:01:00.303500 │\n",
       "│ 1721433660481500000 ┆ 3503.63 ┆ ETHUSDT ┆ 4221078685 ┆ -0.006 ┆ -1   ┆ 2024-07-20      │\n",
       "│                     ┆         ┆         ┆            ┆        ┆      ┆ 00:01:00.481500 │\n",
       "└─────────────────────┴─────────┴─────────┴────────────┴────────┴──────┴─────────────────┘"
      ]
     },
     "execution_count": 16,
     "metadata": {},
     "output_type": "execute_result"
    }
   ],
   "source": [
    "# Just to check that it works\n",
    "tdf = tdf.collect()\n",
    "tdf.head()"
   ]
  },
  {
   "cell_type": "code",
   "execution_count": null,
   "metadata": {},
   "outputs": [],
   "source": []
  }
 ],
 "metadata": {
  "kernelspec": {
   "display_name": "Python 3 (ipykernel)",
   "language": "python",
   "name": "python3"
  },
  "language_info": {
   "codemirror_mode": {
    "name": "ipython",
    "version": 3
   },
   "file_extension": ".py",
   "mimetype": "text/x-python",
   "name": "python",
   "nbconvert_exporter": "python",
   "pygments_lexer": "ipython3",
   "version": "3.13.2"
  }
 },
 "nbformat": 4,
 "nbformat_minor": 4
}
