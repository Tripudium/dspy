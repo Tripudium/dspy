{
 "cells": [
  {
   "cell_type": "code",
   "execution_count": 1,
   "metadata": {},
   "outputs": [],
   "source": [
    "%load_ext autoreload\n",
    "%autoreload 2"
   ]
  },
  {
   "cell_type": "code",
   "execution_count": 2,
   "metadata": {},
   "outputs": [],
   "source": [
    "import matplotlib.pyplot as plt"
   ]
  },
  {
   "cell_type": "code",
   "execution_count": 3,
   "metadata": {},
   "outputs": [],
   "source": [
    "from dspy.hdb import get_dataset"
   ]
  },
  {
   "cell_type": "code",
   "execution_count": null,
   "metadata": {},
   "outputs": [],
   "source": [
    "RCS = [f\"{coin}USDT\" for coin in [\"BTC\", \"ETH\", \"XRP\", \"SOL\", \"DOGE\"]]\n",
    "TIMES = ['250601.000100', '250720.215000']"
   ]
  },
  {
   "cell_type": "markdown",
   "metadata": {
    "vscode": {
     "languageId": "plaintext"
    }
   },
   "source": [
    "# <font color=\"grey\">Data loading and handling</font>"
   ]
  },
  {
   "cell_type": "markdown",
   "metadata": {},
   "source": [
    "Data is available in two forms: limit order book (LOB) and data sampled at fixed intervals (for example, seconds). The timestamps are given in nanosecond resolution as Unix timestamps, but the granularity of the data is not that fine. A simple dataloader and some helper function to convert Python datetime objects or strings of the form '240802.1450' into timestamps are provided. The 'book' data contains the bid and ask prices and volumes up to a specified depth (the maximum depth is currently 25)."
   ]
  },
  {
   "cell_type": "code",
   "execution_count": 19,
   "metadata": {},
   "outputs": [],
   "source": [
    "# At the moment, we are only concerned with data available through the Tardis dataset.\n",
    "dl = get_dataset(\"tardis\")"
   ]
  },
  {
   "cell_type": "code",
   "execution_count": null,
   "metadata": {},
   "outputs": [],
   "source": [
    "tdf = dl.load_trades([\"BTCUSDT\", \"ETHUSDT\", \"SOLUSDT\", \"XRPUSDT\", \"DOGEUSDT\"], TIMES)\n",
    "tdf.head()"
   ]
  },
  {
   "cell_type": "code",
   "execution_count": 21,
   "metadata": {},
   "outputs": [
    {
     "data": {
      "text/html": [
       "<div><style>\n",
       ".dataframe > thead > tr,\n",
       ".dataframe > tbody > tr {\n",
       "  text-align: right;\n",
       "  white-space: pre-wrap;\n",
       "}\n",
       "</style>\n",
       "<small>shape: (5, 7)</small><table border=\"1\" class=\"dataframe\"><thead><tr><th>ts</th><th>ts_local</th><th>product</th><th>id</th><th>side</th><th>price</th><th>vol</th></tr><tr><td>i64</td><td>i64</td><td>str</td><td>i64</td><td>i32</td><td>f64</td><td>f64</td></tr></thead><tbody><tr><td>1749945660170000000</td><td>1749945660172614000</td><td>&quot;BTCUSDT&quot;</td><td>6398513364</td><td>-1</td><td>105378.5</td><td>0.004</td></tr><tr><td>1749945660209000000</td><td>1749945660212434000</td><td>&quot;BTCUSDT&quot;</td><td>6398513365</td><td>-1</td><td>105378.5</td><td>0.004</td></tr><tr><td>1749945660377000000</td><td>1749945660380384000</td><td>&quot;BTCUSDT&quot;</td><td>6398513366</td><td>1</td><td>105378.6</td><td>0.006</td></tr><tr><td>1749945660617000000</td><td>1749945660619750000</td><td>&quot;BTCUSDT&quot;</td><td>6398513367</td><td>1</td><td>105378.6</td><td>0.005</td></tr><tr><td>1749945660634000000</td><td>1749945660637283000</td><td>&quot;BTCUSDT&quot;</td><td>6398513368</td><td>1</td><td>105378.6</td><td>0.004</td></tr></tbody></table></div>"
      ],
      "text/plain": [
       "shape: (5, 7)\n",
       "┌─────────────────────┬─────────────────────┬─────────┬────────────┬──────┬──────────┬───────┐\n",
       "│ ts                  ┆ ts_local            ┆ product ┆ id         ┆ side ┆ price    ┆ vol   │\n",
       "│ ---                 ┆ ---                 ┆ ---     ┆ ---        ┆ ---  ┆ ---      ┆ ---   │\n",
       "│ i64                 ┆ i64                 ┆ str     ┆ i64        ┆ i32  ┆ f64      ┆ f64   │\n",
       "╞═════════════════════╪═════════════════════╪═════════╪════════════╪══════╪══════════╪═══════╡\n",
       "│ 1749945660170000000 ┆ 1749945660172614000 ┆ BTCUSDT ┆ 6398513364 ┆ -1   ┆ 105378.5 ┆ 0.004 │\n",
       "│ 1749945660209000000 ┆ 1749945660212434000 ┆ BTCUSDT ┆ 6398513365 ┆ -1   ┆ 105378.5 ┆ 0.004 │\n",
       "│ 1749945660377000000 ┆ 1749945660380384000 ┆ BTCUSDT ┆ 6398513366 ┆ 1    ┆ 105378.6 ┆ 0.006 │\n",
       "│ 1749945660617000000 ┆ 1749945660619750000 ┆ BTCUSDT ┆ 6398513367 ┆ 1    ┆ 105378.6 ┆ 0.005 │\n",
       "│ 1749945660634000000 ┆ 1749945660637283000 ┆ BTCUSDT ┆ 6398513368 ┆ 1    ┆ 105378.6 ┆ 0.004 │\n",
       "└─────────────────────┴─────────────────────┴─────────┴────────────┴──────┴──────────┴───────┘"
      ]
     },
     "execution_count": 21,
     "metadata": {},
     "output_type": "execute_result"
    }
   ],
   "source": [
    "tdf.head()"
   ]
  },
  {
   "cell_type": "code",
   "execution_count": null,
   "metadata": {},
   "outputs": [
    {
     "name": "stdout",
     "output_type": "stream",
     "text": [
      "All timestamps unique: True\n"
     ]
    }
   ],
   "source": [
    "ts_unique = tdf.n_unique(subset=[\"ts\"])\n",
    "ts_side_price_unique =\n",
    "tdf.n_unique(subset=[\"ts\", \"side\", \"price\"])\n",
    "\n",
    "  identical_duplicates = (ts_unique ==\n",
    "  ts_side_price_unique)\n",
    "  print(f\"All duplicate timestamps have \n",
    "  identical side+price: \n",
    "  {identical_duplicates}\")"
   ]
  },
  {
   "cell_type": "markdown",
   "metadata": {},
   "source": [
    "####  <a id='chapter1'> <font color=\"grey\">1. Limit Order Book</font></a>"
   ]
  },
  {
   "cell_type": "code",
   "execution_count": 11,
   "metadata": {},
   "outputs": [],
   "source": [
    "df = dl.load_book(\"BTCUSDT\", TIMES, depth=10)"
   ]
  },
  {
   "cell_type": "code",
   "execution_count": 12,
   "metadata": {},
   "outputs": [
    {
     "data": {
      "text/plain": [
       "(14105160, 42)"
      ]
     },
     "execution_count": 12,
     "metadata": {},
     "output_type": "execute_result"
    }
   ],
   "source": [
    "df.shape"
   ]
  },
  {
   "cell_type": "code",
   "execution_count": 13,
   "metadata": {},
   "outputs": [
    {
     "data": {
      "text/html": [
       "<div><style>\n",
       ".dataframe > thead > tr,\n",
       ".dataframe > tbody > tr {\n",
       "  text-align: right;\n",
       "  white-space: pre-wrap;\n",
       "}\n",
       "</style>\n",
       "<small>shape: (5, 43)</small><table border=\"1\" class=\"dataframe\"><thead><tr><th>ts</th><th>ts_local</th><th>asks[0].price</th><th>asks[0].amount</th><th>bids[0].price</th><th>bids[0].amount</th><th>asks[1].price</th><th>asks[1].amount</th><th>bids[1].price</th><th>bids[1].amount</th><th>asks[2].price</th><th>asks[2].amount</th><th>bids[2].price</th><th>bids[2].amount</th><th>asks[3].price</th><th>asks[3].amount</th><th>bids[3].price</th><th>bids[3].amount</th><th>asks[4].price</th><th>asks[4].amount</th><th>bids[4].price</th><th>bids[4].amount</th><th>asks[5].price</th><th>asks[5].amount</th><th>bids[5].price</th><th>bids[5].amount</th><th>asks[6].price</th><th>asks[6].amount</th><th>bids[6].price</th><th>bids[6].amount</th><th>asks[7].price</th><th>asks[7].amount</th><th>bids[7].price</th><th>bids[7].amount</th><th>asks[8].price</th><th>asks[8].amount</th><th>bids[8].price</th><th>bids[8].amount</th><th>asks[9].price</th><th>asks[9].amount</th><th>bids[9].price</th><th>bids[9].amount</th><th>dts</th></tr><tr><td>i64</td><td>i64</td><td>f64</td><td>f64</td><td>f64</td><td>f64</td><td>f64</td><td>f64</td><td>f64</td><td>f64</td><td>f64</td><td>f64</td><td>f64</td><td>f64</td><td>f64</td><td>f64</td><td>f64</td><td>f64</td><td>f64</td><td>f64</td><td>f64</td><td>f64</td><td>f64</td><td>f64</td><td>f64</td><td>f64</td><td>f64</td><td>f64</td><td>f64</td><td>f64</td><td>f64</td><td>f64</td><td>f64</td><td>f64</td><td>f64</td><td>f64</td><td>f64</td><td>f64</td><td>f64</td><td>f64</td><td>f64</td><td>f64</td><td>datetime[ns]</td></tr></thead><tbody><tr><td>1749945660012000000</td><td>1749945660013768000</td><td>105378.6</td><td>16.907</td><td>105378.5</td><td>8.632</td><td>105378.7</td><td>0.514</td><td>105378.4</td><td>0.171</td><td>105378.8</td><td>0.515</td><td>105378.3</td><td>1.398</td><td>105378.9</td><td>0.514</td><td>105378.2</td><td>0.002</td><td>105379.0</td><td>0.559</td><td>105378.0</td><td>0.188</td><td>105379.1</td><td>0.012</td><td>105377.9</td><td>0.002</td><td>105379.2</td><td>0.03</td><td>105377.5</td><td>0.005</td><td>105379.3</td><td>0.015</td><td>105377.4</td><td>2.664</td><td>105379.4</td><td>0.021</td><td>105377.3</td><td>0.1</td><td>105379.7</td><td>0.743</td><td>105376.4</td><td>0.072</td><td>2025-06-15 00:01:00.012</td></tr><tr><td>1749945660064000000</td><td>1749945660066738000</td><td>105378.6</td><td>16.926</td><td>105378.5</td><td>8.629</td><td>105378.7</td><td>0.514</td><td>105378.4</td><td>0.171</td><td>105378.8</td><td>0.515</td><td>105378.3</td><td>1.398</td><td>105378.9</td><td>0.514</td><td>105378.2</td><td>0.002</td><td>105379.0</td><td>0.559</td><td>105378.0</td><td>0.188</td><td>105379.1</td><td>0.012</td><td>105377.9</td><td>0.002</td><td>105379.2</td><td>0.03</td><td>105377.5</td><td>0.005</td><td>105379.3</td><td>0.015</td><td>105377.4</td><td>2.664</td><td>105379.4</td><td>0.021</td><td>105377.3</td><td>0.1</td><td>105379.7</td><td>0.743</td><td>105376.4</td><td>0.072</td><td>2025-06-15 00:01:00.064</td></tr><tr><td>1749945660116000000</td><td>1749945660118072000</td><td>105378.6</td><td>17.202</td><td>105378.5</td><td>8.63</td><td>105378.7</td><td>0.514</td><td>105378.4</td><td>0.171</td><td>105378.8</td><td>0.515</td><td>105378.3</td><td>1.398</td><td>105378.9</td><td>0.512</td><td>105378.2</td><td>0.002</td><td>105379.0</td><td>0.557</td><td>105378.0</td><td>0.188</td><td>105379.1</td><td>0.012</td><td>105377.9</td><td>0.002</td><td>105379.2</td><td>0.03</td><td>105377.5</td><td>0.005</td><td>105379.3</td><td>0.015</td><td>105377.4</td><td>2.664</td><td>105379.4</td><td>0.021</td><td>105377.3</td><td>0.1</td><td>105379.7</td><td>0.743</td><td>105376.4</td><td>0.072</td><td>2025-06-15 00:01:00.116</td></tr><tr><td>1749945660169000000</td><td>1749945660171689000</td><td>105378.6</td><td>17.265</td><td>105378.5</td><td>8.63</td><td>105378.7</td><td>0.514</td><td>105378.4</td><td>0.171</td><td>105378.8</td><td>0.515</td><td>105378.3</td><td>1.398</td><td>105378.9</td><td>0.514</td><td>105378.2</td><td>0.002</td><td>105379.0</td><td>0.559</td><td>105378.0</td><td>0.188</td><td>105379.1</td><td>0.012</td><td>105377.9</td><td>0.002</td><td>105379.2</td><td>0.03</td><td>105377.5</td><td>0.005</td><td>105379.3</td><td>0.015</td><td>105377.4</td><td>2.664</td><td>105379.4</td><td>0.021</td><td>105377.3</td><td>0.1</td><td>105379.7</td><td>0.743</td><td>105376.4</td><td>0.072</td><td>2025-06-15 00:01:00.169</td></tr><tr><td>1749945660220000000</td><td>1749945660223083000</td><td>105378.6</td><td>17.006</td><td>105378.5</td><td>8.622</td><td>105378.7</td><td>0.514</td><td>105378.4</td><td>0.171</td><td>105378.8</td><td>0.515</td><td>105378.3</td><td>1.398</td><td>105378.9</td><td>0.514</td><td>105378.2</td><td>0.002</td><td>105379.0</td><td>0.559</td><td>105378.0</td><td>0.188</td><td>105379.1</td><td>0.012</td><td>105377.9</td><td>0.002</td><td>105379.2</td><td>0.03</td><td>105377.5</td><td>0.005</td><td>105379.3</td><td>0.015</td><td>105377.4</td><td>2.664</td><td>105379.4</td><td>0.021</td><td>105377.3</td><td>0.1</td><td>105379.7</td><td>0.743</td><td>105376.4</td><td>0.072</td><td>2025-06-15 00:01:00.220</td></tr></tbody></table></div>"
      ],
      "text/plain": [
       "shape: (5, 43)\n",
       "┌───────────┬───────────┬───────────┬───────────┬───┬───────────┬───────────┬───────────┬──────────┐\n",
       "│ ts        ┆ ts_local  ┆ asks[0].p ┆ asks[0].a ┆ … ┆ asks[9].a ┆ bids[9].p ┆ bids[9].a ┆ dts      │\n",
       "│ ---       ┆ ---       ┆ rice      ┆ mount     ┆   ┆ mount     ┆ rice      ┆ mount     ┆ ---      │\n",
       "│ i64       ┆ i64       ┆ ---       ┆ ---       ┆   ┆ ---       ┆ ---       ┆ ---       ┆ datetime │\n",
       "│           ┆           ┆ f64       ┆ f64       ┆   ┆ f64       ┆ f64       ┆ f64       ┆ [ns]     │\n",
       "╞═══════════╪═══════════╪═══════════╪═══════════╪═══╪═══════════╪═══════════╪═══════════╪══════════╡\n",
       "│ 174994566 ┆ 174994566 ┆ 105378.6  ┆ 16.907    ┆ … ┆ 0.743     ┆ 105376.4  ┆ 0.072     ┆ 2025-06- │\n",
       "│ 001200000 ┆ 001376800 ┆           ┆           ┆   ┆           ┆           ┆           ┆ 15 00:01 │\n",
       "│ 0         ┆ 0         ┆           ┆           ┆   ┆           ┆           ┆           ┆ :00.012  │\n",
       "│ 174994566 ┆ 174994566 ┆ 105378.6  ┆ 16.926    ┆ … ┆ 0.743     ┆ 105376.4  ┆ 0.072     ┆ 2025-06- │\n",
       "│ 006400000 ┆ 006673800 ┆           ┆           ┆   ┆           ┆           ┆           ┆ 15 00:01 │\n",
       "│ 0         ┆ 0         ┆           ┆           ┆   ┆           ┆           ┆           ┆ :00.064  │\n",
       "│ 174994566 ┆ 174994566 ┆ 105378.6  ┆ 17.202    ┆ … ┆ 0.743     ┆ 105376.4  ┆ 0.072     ┆ 2025-06- │\n",
       "│ 011600000 ┆ 011807200 ┆           ┆           ┆   ┆           ┆           ┆           ┆ 15 00:01 │\n",
       "│ 0         ┆ 0         ┆           ┆           ┆   ┆           ┆           ┆           ┆ :00.116  │\n",
       "│ 174994566 ┆ 174994566 ┆ 105378.6  ┆ 17.265    ┆ … ┆ 0.743     ┆ 105376.4  ┆ 0.072     ┆ 2025-06- │\n",
       "│ 016900000 ┆ 017168900 ┆           ┆           ┆   ┆           ┆           ┆           ┆ 15 00:01 │\n",
       "│ 0         ┆ 0         ┆           ┆           ┆   ┆           ┆           ┆           ┆ :00.169  │\n",
       "│ 174994566 ┆ 174994566 ┆ 105378.6  ┆ 17.006    ┆ … ┆ 0.743     ┆ 105376.4  ┆ 0.072     ┆ 2025-06- │\n",
       "│ 022000000 ┆ 022308300 ┆           ┆           ┆   ┆           ┆           ┆           ┆ 15 00:01 │\n",
       "│ 0         ┆ 0         ┆           ┆           ┆   ┆           ┆           ┆           ┆ :00.220  │\n",
       "└───────────┴───────────┴───────────┴───────────┴───┴───────────┴───────────┴───────────┴──────────┘"
      ]
     },
     "execution_count": 13,
     "metadata": {},
     "output_type": "execute_result"
    }
   ],
   "source": [
    "# Add human readable timestamp and mid prices\n",
    "df = df.ds.add_datetime('ts')\n",
    "df.head()"
   ]
  },
  {
   "cell_type": "code",
   "execution_count": null,
   "metadata": {},
   "outputs": [],
   "source": [
    "plt.plot(df['dts'], df['asks[0].price'], df['dts'], df['bids[0].price'])\n",
    "plt.xlabel('Time')\n",
    "plt.ylabel('Bid and ask prices')\n",
    "plt.title(f'{RCS[0]}')\n",
    "plt.show()"
   ]
  },
  {
   "cell_type": "code",
   "execution_count": null,
   "metadata": {},
   "outputs": [],
   "source": [
    "df = dl.load_book(\"BTCUSDT\", [\"250605.120000\", \"250605.130000\"], depth=1)\n",
    "df = df.ds.add_datetime('ts')\n",
    "fig, ax = plt.subplots(1,2, figsize=(12,6))\n",
    "ax[0].plot(df['dts'], df['asks[0].price'], df['dts'], df['bids[0].price'])\n",
    "ax[1].plot(df['dts'], df['asks[0].price'] - df['bids[0].price'])\n",
    "ax[0].set_xlabel('Time')\n",
    "ax[0].set_ylabel('Prices')\n",
    "ax[1].set_xlabel('Time')\n",
    "ax[1].set_ylabel('Bid-ask spread')\n",
    "plt.show()"
   ]
  },
  {
   "cell_type": "markdown",
   "metadata": {},
   "source": [
    "####  <a id='chapter2'> <font color=\"grey\">2. Fixed-frequency data (bars)</font></a>"
   ]
  },
  {
   "cell_type": "code",
   "execution_count": null,
   "metadata": {},
   "outputs": [],
   "source": [
    "df = dl.load_bar([\"BTCUSDT\", \"ETHUSDT\"], [\"250605.120000\", \"250605.150000\"], col=\"mid\", freq=\"1s\")"
   ]
  },
  {
   "cell_type": "code",
   "execution_count": null,
   "metadata": {},
   "outputs": [],
   "source": [
    "df.head()"
   ]
  },
  {
   "cell_type": "code",
   "execution_count": null,
   "metadata": {},
   "outputs": [],
   "source": [
    "plt.plot(df['ts'], df['mid_BTCUSDT'])\n",
    "plt.show()"
   ]
  }
 ],
 "metadata": {
  "kernelspec": {
   "display_name": ".venv",
   "language": "python",
   "name": "python3"
  },
  "language_info": {
   "codemirror_mode": {
    "name": "ipython",
    "version": 3
   },
   "file_extension": ".py",
   "mimetype": "text/x-python",
   "name": "python",
   "nbconvert_exporter": "python",
   "pygments_lexer": "ipython3",
   "version": "3.13.5"
  }
 },
 "nbformat": 4,
 "nbformat_minor": 4
}
