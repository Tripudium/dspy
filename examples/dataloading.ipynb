{
 "cells": [
  {
   "cell_type": "code",
   "execution_count": 1,
   "metadata": {},
   "outputs": [],
   "source": [
    "%load_ext autoreload\n",
    "%autoreload 2"
   ]
  },
  {
   "cell_type": "code",
   "execution_count": 2,
   "metadata": {},
   "outputs": [],
   "source": [
    "import matplotlib.pyplot as plt # type: ignore\n",
    "import numpy as np\n",
    "import polars as pl"
   ]
  },
  {
   "cell_type": "code",
   "execution_count": 5,
   "metadata": {},
   "outputs": [],
   "source": [
    "from dspy.hdb import get_dataset"
   ]
  },
  {
   "cell_type": "markdown",
   "metadata": {
    "vscode": {
     "languageId": "plaintext"
    }
   },
   "source": [
    "# <font color=\"grey\">Data loading and handling</font>"
   ]
  },
  {
   "cell_type": "markdown",
   "metadata": {},
   "source": [
    "Data is available in two forms: limit order book (LOB) and trade data. The timestamps are given in nanosecond resolution as Unix timestamps, but the granularity of the data is not that fine. A simple dataloader and some helper function to convert Python datetime objects or strings of the form '240802.1450' into timestamps are provided. The 'book' data contains best bid and ask prices with corresponding volumes. The 'trade' data contains trades, with a signed quantity representing direction. There is also an associated trade id in order to identify individual trades."
   ]
  },
  {
   "cell_type": "code",
   "execution_count": 6,
   "metadata": {},
   "outputs": [],
   "source": [
    "dl = get_dataset(\"terank\")"
   ]
  },
  {
   "cell_type": "code",
   "execution_count": 8,
   "metadata": {},
   "outputs": [],
   "source": [
    "RCS = [f\"{coin}USDT\" for coin in [\"BTC\", \"ETH\", \"SOL\", \"DOGE\", \"LINK\"]]\n",
    "TYPE = ['book', 'trade']\n",
    "MONTHS = ['06', '07', '08']\n",
    "TIMES = ['240720.000100', '240720.215000']"
   ]
  },
  {
   "cell_type": "markdown",
   "metadata": {},
   "source": [
    "####  <a id='chapter1'> <font color=\"grey\">1. Book</font></a>"
   ]
  },
  {
   "cell_type": "code",
   "execution_count": 6,
   "metadata": {},
   "outputs": [],
   "source": [
    "df = dl.load_book(RCS[0:2], TIMES, lazy=True)\n",
    "# Add human readable timestamp and mid prices\n",
    "df = df.ds.add_datetime('ts').feature.add_mid(products=RCS[0:2])"
   ]
  },
  {
   "cell_type": "code",
   "execution_count": 7,
   "metadata": {},
   "outputs": [],
   "source": [
    "# This takes some time, not because of the loading but because of the aggregation\n",
    "df = df.collect()\n",
    "df.head()"
   ]
  },
  {
   "cell_type": "code",
   "execution_count": 8,
   "metadata": {},
   "outputs": [],
   "source": [
    "# Add a column with random +1 or -1 entries\n",
    "df = df.with_columns(\n",
    "    pl.lit(np.random.choice([1., -1.], size=len(df))).alias('random_signal')\n",
    ")"
   ]
  },
  {
   "cell_type": "code",
   "execution_count": 9,
   "metadata": {},
   "outputs": [],
   "source": [
    "pdf = df.target.add_sig_pnl(ts_col=\"ts\", col=\"mid_ETHUSDT\", signal=\"random_signal\", horizon=\"1m\", in_bp=False)\n",
    "pdf.head()"
   ]
  },
  {
   "cell_type": "code",
   "execution_count": 10,
   "metadata": {},
   "outputs": [],
   "source": [
    "plt.plot(df['dts'], df['mid_ETHUSDT'])\n",
    "plt.xlabel('Time')\n",
    "plt.ylabel('Mid price')\n",
    "plt.title('Mid price over time')\n",
    "plt.show()"
   ]
  },
  {
   "cell_type": "code",
   "execution_count": 12,
   "metadata": {},
   "outputs": [],
   "source": [
    "df = df.feature.add_vwap(cols=[\"prc__s0\", \"prc__s1\", \"vol__s0\", \"vol__s1\"])\n",
    "df.head()"
   ]
  },
  {
   "cell_type": "markdown",
   "metadata": {},
   "source": [
    "####  <a id='chapter2'> <font color=\"grey\">2. Trades</font></a>"
   ]
  },
  {
   "cell_type": "code",
   "execution_count": 25,
   "metadata": {},
   "outputs": [],
   "source": [
    "TIMES = ['250101.100000', '250101.120000']\n",
    "products = ['BTCUSDT', 'ETHUSDT']"
   ]
  },
  {
   "cell_type": "code",
   "execution_count": 26,
   "metadata": {},
   "outputs": [],
   "source": [
    "tdf = dl.load_trades(products, TIMES, lazy=True)\n",
    "# By default, the timestamp column is named 'ts'\n",
    "tdf = tdf.trade.agg_trades().trade.add_side().ds.add_datetime()"
   ]
  },
  {
   "cell_type": "code",
   "execution_count": 27,
   "metadata": {},
   "outputs": [
    {
     "data": {
      "text/html": [
       "<div><style>\n",
       ".dataframe > thead > tr,\n",
       ".dataframe > tbody > tr {\n",
       "  text-align: right;\n",
       "  white-space: pre-wrap;\n",
       "}\n",
       "</style>\n",
       "<small>shape: (5, 7)</small><table border=\"1\" class=\"dataframe\"><thead><tr><th>ts</th><th>prc</th><th>product</th><th>trade_id</th><th>qty</th><th>side</th><th>dts</th></tr><tr><td>i64</td><td>f64</td><td>str</td><td>i64</td><td>f64</td><td>i32</td><td>datetime[ns]</td></tr></thead><tbody><tr><td>1735725600175000000</td><td>3333.63</td><td>&quot;ETHUSDT&quot;</td><td>4937545734</td><td>-0.086</td><td>-1</td><td>2025-01-01 10:00:00.175</td></tr><tr><td>1735725600242000000</td><td>3333.64</td><td>&quot;ETHUSDT&quot;</td><td>4937545735</td><td>0.543</td><td>1</td><td>2025-01-01 10:00:00.242</td></tr><tr><td>1735725600340000000</td><td>3333.64</td><td>&quot;ETHUSDT&quot;</td><td>4937545738</td><td>0.015</td><td>1</td><td>2025-01-01 10:00:00.340</td></tr><tr><td>1735725600353000000</td><td>93382.1</td><td>&quot;BTCUSDT&quot;</td><td>5793674893</td><td>0.036</td><td>1</td><td>2025-01-01 10:00:00.353</td></tr><tr><td>1735725600393000000</td><td>3333.63</td><td>&quot;ETHUSDT&quot;</td><td>4937545740</td><td>-8.023</td><td>-1</td><td>2025-01-01 10:00:00.393</td></tr></tbody></table></div>"
      ],
      "text/plain": [
       "shape: (5, 7)\n",
       "┌─────────────────────┬─────────┬─────────┬────────────┬────────┬──────┬─────────────────────────┐\n",
       "│ ts                  ┆ prc     ┆ product ┆ trade_id   ┆ qty    ┆ side ┆ dts                     │\n",
       "│ ---                 ┆ ---     ┆ ---     ┆ ---        ┆ ---    ┆ ---  ┆ ---                     │\n",
       "│ i64                 ┆ f64     ┆ str     ┆ i64        ┆ f64    ┆ i32  ┆ datetime[ns]            │\n",
       "╞═════════════════════╪═════════╪═════════╪════════════╪════════╪══════╪═════════════════════════╡\n",
       "│ 1735725600175000000 ┆ 3333.63 ┆ ETHUSDT ┆ 4937545734 ┆ -0.086 ┆ -1   ┆ 2025-01-01 10:00:00.175 │\n",
       "│ 1735725600242000000 ┆ 3333.64 ┆ ETHUSDT ┆ 4937545735 ┆ 0.543  ┆ 1    ┆ 2025-01-01 10:00:00.242 │\n",
       "│ 1735725600340000000 ┆ 3333.64 ┆ ETHUSDT ┆ 4937545738 ┆ 0.015  ┆ 1    ┆ 2025-01-01 10:00:00.340 │\n",
       "│ 1735725600353000000 ┆ 93382.1 ┆ BTCUSDT ┆ 5793674893 ┆ 0.036  ┆ 1    ┆ 2025-01-01 10:00:00.353 │\n",
       "│ 1735725600393000000 ┆ 3333.63 ┆ ETHUSDT ┆ 4937545740 ┆ -8.023 ┆ -1   ┆ 2025-01-01 10:00:00.393 │\n",
       "└─────────────────────┴─────────┴─────────┴────────────┴────────┴──────┴─────────────────────────┘"
      ]
     },
     "execution_count": 27,
     "metadata": {},
     "output_type": "execute_result"
    }
   ],
   "source": [
    "tdf = tdf.collect()\n",
    "tdf.head()"
   ]
  }
 ],
 "metadata": {
  "kernelspec": {
   "display_name": "Python 3 (ipykernel)",
   "language": "python",
   "name": "python3"
  },
  "language_info": {
   "codemirror_mode": {
    "name": "ipython",
    "version": 3
   },
   "file_extension": ".py",
   "mimetype": "text/x-python",
   "name": "python",
   "nbconvert_exporter": "python",
   "pygments_lexer": "ipython3",
   "version": "3.13.2"
  }
 },
 "nbformat": 4,
 "nbformat_minor": 4
}
