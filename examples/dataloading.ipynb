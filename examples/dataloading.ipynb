{
 "cells": [
  {
   "cell_type": "code",
   "execution_count": 1,
   "metadata": {},
   "outputs": [],
   "source": [
    "%load_ext autoreload\n",
    "%autoreload 2"
   ]
  },
  {
   "cell_type": "code",
   "execution_count": 3,
   "metadata": {},
   "outputs": [],
   "source": [
    "import matplotlib.pyplot as plt # type: ignore\n",
    "import numpy as np\n",
    "import polars as pl"
   ]
  },
  {
   "cell_type": "code",
   "execution_count": 4,
   "metadata": {},
   "outputs": [],
   "source": [
    "from dspy.hdb import get_dataset"
   ]
  },
  {
   "cell_type": "code",
   "execution_count": 22,
   "metadata": {},
   "outputs": [],
   "source": [
    "RCS = [f\"{coin}USDT\" for coin in [\"BTC\", \"ETH\", \"SOL\", \"DOGE\", \"LINK\"]]\n",
    "TIMES = ['250401.000100', '250430.215000']"
   ]
  },
  {
   "cell_type": "markdown",
   "metadata": {
    "vscode": {
     "languageId": "plaintext"
    }
   },
   "source": [
    "# <font color=\"grey\">Data loading and handling</font>"
   ]
  },
  {
   "cell_type": "markdown",
   "metadata": {},
   "source": [
    "Data is available in two forms: limit order book (LOB) and data sampled at fixed intervals (for example, seconds). The timestamps are given in nanosecond resolution as Unix timestamps, but the granularity of the data is not that fine. A simple dataloader and some helper function to convert Python datetime objects or strings of the form '240802.1450' into timestamps are provided. The 'book' data contains the bid and ask prices and volumes up to a specified depth (the maximum depth is currently 25)."
   ]
  },
  {
   "cell_type": "code",
   "execution_count": null,
   "metadata": {},
   "outputs": [],
   "source": [
    "# At the moment, we are only concerned with data available through the Tardis dataset.\n",
    "dl = get_dataset(\"tardis\")"
   ]
  },
  {
   "cell_type": "markdown",
   "metadata": {},
   "source": [
    "####  <a id='chapter1'> <font color=\"grey\">1. Limit Order Book</font></a>"
   ]
  },
  {
   "cell_type": "code",
   "execution_count": null,
   "metadata": {},
   "outputs": [],
   "source": [
    "df = dl.load_book(\"BTCUSDT\", TIMES, depth=10)"
   ]
  },
  {
   "cell_type": "code",
   "execution_count": 16,
   "metadata": {},
   "outputs": [
    {
     "data": {
      "text/html": [
       "<div><style>\n",
       ".dataframe > thead > tr,\n",
       ".dataframe > tbody > tr {\n",
       "  text-align: right;\n",
       "  white-space: pre-wrap;\n",
       "}\n",
       "</style>\n",
       "<small>shape: (5, 43)</small><table border=\"1\" class=\"dataframe\"><thead><tr><th>ts</th><th>ts_local</th><th>asks[0].price</th><th>asks[0].amount</th><th>bids[0].price</th><th>bids[0].amount</th><th>asks[1].price</th><th>asks[1].amount</th><th>bids[1].price</th><th>bids[1].amount</th><th>asks[2].price</th><th>asks[2].amount</th><th>bids[2].price</th><th>bids[2].amount</th><th>asks[3].price</th><th>asks[3].amount</th><th>bids[3].price</th><th>bids[3].amount</th><th>asks[4].price</th><th>asks[4].amount</th><th>bids[4].price</th><th>bids[4].amount</th><th>asks[5].price</th><th>asks[5].amount</th><th>bids[5].price</th><th>bids[5].amount</th><th>asks[6].price</th><th>asks[6].amount</th><th>bids[6].price</th><th>bids[6].amount</th><th>asks[7].price</th><th>asks[7].amount</th><th>bids[7].price</th><th>bids[7].amount</th><th>asks[8].price</th><th>asks[8].amount</th><th>bids[8].price</th><th>bids[8].amount</th><th>asks[9].price</th><th>asks[9].amount</th><th>bids[9].price</th><th>bids[9].amount</th><th>dts</th></tr><tr><td>i64</td><td>i64</td><td>f64</td><td>f64</td><td>f64</td><td>f64</td><td>f64</td><td>f64</td><td>f64</td><td>f64</td><td>f64</td><td>f64</td><td>f64</td><td>f64</td><td>f64</td><td>f64</td><td>f64</td><td>f64</td><td>f64</td><td>f64</td><td>f64</td><td>f64</td><td>f64</td><td>f64</td><td>f64</td><td>f64</td><td>f64</td><td>f64</td><td>f64</td><td>f64</td><td>f64</td><td>f64</td><td>f64</td><td>f64</td><td>f64</td><td>f64</td><td>f64</td><td>f64</td><td>f64</td><td>f64</td><td>f64</td><td>f64</td><td>datetime[ns]</td></tr></thead><tbody><tr><td>1748822460029000000</td><td>1748822460032326000</td><td>105554.9</td><td>9.979</td><td>105554.8</td><td>4.289</td><td>105555.0</td><td>0.016</td><td>105554.7</td><td>0.002</td><td>105555.1</td><td>0.002</td><td>105554.3</td><td>0.001</td><td>105555.4</td><td>0.006</td><td>105554.0</td><td>0.002</td><td>105555.8</td><td>0.001</td><td>105553.9</td><td>0.001</td><td>105555.9</td><td>0.003</td><td>105553.7</td><td>0.002</td><td>105556.2</td><td>0.001</td><td>105553.5</td><td>0.001</td><td>105556.3</td><td>0.172</td><td>105553.1</td><td>0.001</td><td>105556.4</td><td>0.04</td><td>105553.0</td><td>0.04</td><td>105556.5</td><td>0.027</td><td>105552.9</td><td>0.01</td><td>2025-06-02 00:01:00.029</td></tr><tr><td>1748822460132000000</td><td>1748822460135215000</td><td>105554.9</td><td>9.979</td><td>105554.8</td><td>4.288</td><td>105555.0</td><td>0.016</td><td>105554.7</td><td>0.002</td><td>105555.1</td><td>0.002</td><td>105554.3</td><td>0.001</td><td>105555.4</td><td>0.006</td><td>105554.0</td><td>0.002</td><td>105555.8</td><td>0.001</td><td>105553.9</td><td>0.001</td><td>105555.9</td><td>0.003</td><td>105553.7</td><td>0.002</td><td>105556.2</td><td>0.001</td><td>105553.5</td><td>0.001</td><td>105556.3</td><td>0.172</td><td>105553.1</td><td>0.001</td><td>105556.4</td><td>0.04</td><td>105553.0</td><td>0.04</td><td>105556.5</td><td>0.027</td><td>105552.9</td><td>0.01</td><td>2025-06-02 00:01:00.132</td></tr><tr><td>1748822460185000000</td><td>1748822460187873000</td><td>105554.9</td><td>9.851</td><td>105554.8</td><td>4.286</td><td>105555.0</td><td>0.016</td><td>105554.7</td><td>0.002</td><td>105555.1</td><td>0.002</td><td>105554.3</td><td>0.001</td><td>105555.4</td><td>0.006</td><td>105554.0</td><td>0.002</td><td>105555.8</td><td>0.001</td><td>105553.9</td><td>0.001</td><td>105555.9</td><td>0.003</td><td>105553.7</td><td>0.002</td><td>105556.2</td><td>0.001</td><td>105553.5</td><td>0.001</td><td>105556.3</td><td>0.172</td><td>105553.1</td><td>0.001</td><td>105556.4</td><td>0.04</td><td>105553.0</td><td>0.04</td><td>105556.5</td><td>0.027</td><td>105552.9</td><td>0.01</td><td>2025-06-02 00:01:00.185</td></tr><tr><td>1748822460237000000</td><td>1748822460240149000</td><td>105554.9</td><td>9.851</td><td>105554.8</td><td>4.293</td><td>105555.0</td><td>0.016</td><td>105554.7</td><td>0.002</td><td>105555.1</td><td>0.002</td><td>105554.3</td><td>0.001</td><td>105555.4</td><td>0.006</td><td>105554.0</td><td>0.002</td><td>105555.8</td><td>0.001</td><td>105553.9</td><td>0.001</td><td>105555.9</td><td>0.003</td><td>105553.7</td><td>0.002</td><td>105556.2</td><td>0.001</td><td>105553.5</td><td>0.001</td><td>105556.3</td><td>0.172</td><td>105553.1</td><td>0.001</td><td>105556.4</td><td>0.04</td><td>105553.0</td><td>0.04</td><td>105556.5</td><td>0.027</td><td>105552.9</td><td>0.01</td><td>2025-06-02 00:01:00.237</td></tr><tr><td>1748822460288000000</td><td>1748822460291489000</td><td>105554.9</td><td>9.842</td><td>105554.8</td><td>4.198</td><td>105555.0</td><td>0.016</td><td>105554.7</td><td>0.002</td><td>105555.1</td><td>0.002</td><td>105554.3</td><td>0.001</td><td>105555.4</td><td>0.006</td><td>105554.0</td><td>0.002</td><td>105555.8</td><td>0.001</td><td>105553.9</td><td>0.001</td><td>105555.9</td><td>0.003</td><td>105553.7</td><td>0.002</td><td>105556.2</td><td>0.001</td><td>105553.5</td><td>0.001</td><td>105556.3</td><td>0.172</td><td>105553.1</td><td>0.001</td><td>105556.4</td><td>0.04</td><td>105553.0</td><td>0.04</td><td>105556.5</td><td>0.027</td><td>105552.9</td><td>0.01</td><td>2025-06-02 00:01:00.288</td></tr></tbody></table></div>"
      ],
      "text/plain": [
       "shape: (5, 43)\n",
       "┌───────────┬───────────┬───────────┬───────────┬───┬───────────┬───────────┬───────────┬──────────┐\n",
       "│ ts        ┆ ts_local  ┆ asks[0].p ┆ asks[0].a ┆ … ┆ asks[9].a ┆ bids[9].p ┆ bids[9].a ┆ dts      │\n",
       "│ ---       ┆ ---       ┆ rice      ┆ mount     ┆   ┆ mount     ┆ rice      ┆ mount     ┆ ---      │\n",
       "│ i64       ┆ i64       ┆ ---       ┆ ---       ┆   ┆ ---       ┆ ---       ┆ ---       ┆ datetime │\n",
       "│           ┆           ┆ f64       ┆ f64       ┆   ┆ f64       ┆ f64       ┆ f64       ┆ [ns]     │\n",
       "╞═══════════╪═══════════╪═══════════╪═══════════╪═══╪═══════════╪═══════════╪═══════════╪══════════╡\n",
       "│ 174882246 ┆ 174882246 ┆ 105554.9  ┆ 9.979     ┆ … ┆ 0.027     ┆ 105552.9  ┆ 0.01      ┆ 2025-06- │\n",
       "│ 002900000 ┆ 003232600 ┆           ┆           ┆   ┆           ┆           ┆           ┆ 02 00:01 │\n",
       "│ 0         ┆ 0         ┆           ┆           ┆   ┆           ┆           ┆           ┆ :00.029  │\n",
       "│ 174882246 ┆ 174882246 ┆ 105554.9  ┆ 9.979     ┆ … ┆ 0.027     ┆ 105552.9  ┆ 0.01      ┆ 2025-06- │\n",
       "│ 013200000 ┆ 013521500 ┆           ┆           ┆   ┆           ┆           ┆           ┆ 02 00:01 │\n",
       "│ 0         ┆ 0         ┆           ┆           ┆   ┆           ┆           ┆           ┆ :00.132  │\n",
       "│ 174882246 ┆ 174882246 ┆ 105554.9  ┆ 9.851     ┆ … ┆ 0.027     ┆ 105552.9  ┆ 0.01      ┆ 2025-06- │\n",
       "│ 018500000 ┆ 018787300 ┆           ┆           ┆   ┆           ┆           ┆           ┆ 02 00:01 │\n",
       "│ 0         ┆ 0         ┆           ┆           ┆   ┆           ┆           ┆           ┆ :00.185  │\n",
       "│ 174882246 ┆ 174882246 ┆ 105554.9  ┆ 9.851     ┆ … ┆ 0.027     ┆ 105552.9  ┆ 0.01      ┆ 2025-06- │\n",
       "│ 023700000 ┆ 024014900 ┆           ┆           ┆   ┆           ┆           ┆           ┆ 02 00:01 │\n",
       "│ 0         ┆ 0         ┆           ┆           ┆   ┆           ┆           ┆           ┆ :00.237  │\n",
       "│ 174882246 ┆ 174882246 ┆ 105554.9  ┆ 9.842     ┆ … ┆ 0.027     ┆ 105552.9  ┆ 0.01      ┆ 2025-06- │\n",
       "│ 028800000 ┆ 029148900 ┆           ┆           ┆   ┆           ┆           ┆           ┆ 02 00:01 │\n",
       "│ 0         ┆ 0         ┆           ┆           ┆   ┆           ┆           ┆           ┆ :00.288  │\n",
       "└───────────┴───────────┴───────────┴───────────┴───┴───────────┴───────────┴───────────┴──────────┘"
      ]
     },
     "execution_count": 16,
     "metadata": {},
     "output_type": "execute_result"
    }
   ],
   "source": [
    "# Add human readable timestamp and mid prices\n",
    "df = df.ds.add_datetime('ts')\n",
    "df.head()"
   ]
  },
  {
   "cell_type": "code",
   "execution_count": null,
   "metadata": {},
   "outputs": [],
   "source": [
    "plt.plot(df['dts'], df[f'mid_{RCS[0]}'])\n",
    "plt.xlabel('Time')\n",
    "plt.ylabel('Mid price')\n",
    "plt.title(f'{RCS[0]}')\n",
    "plt.show()"
   ]
  },
  {
   "cell_type": "code",
   "execution_count": null,
   "metadata": {},
   "outputs": [],
   "source": [
    "# Add a column with random +1 or -1 entries\n",
    "df = df.with_columns(\n",
    "    pl.lit(np.random.choice([1., -1.], size=len(df))).alias('random_signal')\n",
    ")"
   ]
  },
  {
   "cell_type": "code",
   "execution_count": null,
   "metadata": {},
   "outputs": [],
   "source": [
    "pdf = df.target.add_sig_pnl(ts_col=\"ts\", col=\"mid_ETHUSDT\", signal=\"random_signal\", horizon=\"1m\", in_bp=False)\n",
    "pdf.head()"
   ]
  },
  {
   "cell_type": "markdown",
   "metadata": {},
   "source": [
    "####  <a id='chapter2'> <font color=\"grey\">2. Fixed-frequency data (bars)</font></a>"
   ]
  },
  {
   "cell_type": "code",
   "execution_count": null,
   "metadata": {},
   "outputs": [],
   "source": []
  }
 ],
 "metadata": {
  "kernelspec": {
   "display_name": ".venv",
   "language": "python",
   "name": "python3"
  },
  "language_info": {
   "codemirror_mode": {
    "name": "ipython",
    "version": 3
   },
   "file_extension": ".py",
   "mimetype": "text/x-python",
   "name": "python",
   "nbconvert_exporter": "python",
   "pygments_lexer": "ipython3",
   "version": "3.13.2"
  }
 },
 "nbformat": 4,
 "nbformat_minor": 4
}
