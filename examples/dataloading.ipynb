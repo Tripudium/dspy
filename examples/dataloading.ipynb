{
 "cells": [
  {
   "cell_type": "code",
   "execution_count": 1,
   "metadata": {},
   "outputs": [],
   "source": [
    "%load_ext autoreload\n",
    "%autoreload 2"
   ]
  },
  {
   "cell_type": "code",
   "execution_count": 17,
   "metadata": {},
   "outputs": [],
   "source": [
    "import matplotlib.pyplot as plt # type: ignore\n",
    "import numpy as np\n",
    "import polars as pl"
   ]
  },
  {
   "cell_type": "code",
   "execution_count": 3,
   "metadata": {},
   "outputs": [],
   "source": [
    "from dspy.hdb import get_dataset"
   ]
  },
  {
   "cell_type": "markdown",
   "metadata": {
    "vscode": {
     "languageId": "plaintext"
    }
   },
   "source": [
    "# <font color=\"grey\">Data loading and handling</font>"
   ]
  },
  {
   "cell_type": "markdown",
   "metadata": {},
   "source": [
    "Data is available in two forms: limit order book (LOB) and trade data. The timestamps are given in nanosecond resolution as Unix timestamps, but the granularity of the data is not that fine. A simple dataloader and some helper function to convert Python datetime objects or strings of the form '240802.1450' into timestamps are provided. The 'book' data contains best bid and ask prices with corresponding volumes. The 'trade' data contains trades, with a signed quantity representing direction. There is also an associated trade id in order to identify individual trades."
   ]
  },
  {
   "cell_type": "code",
   "execution_count": 4,
   "metadata": {},
   "outputs": [],
   "source": [
    "dl = get_dataset(\"tardis\")"
   ]
  },
  {
   "cell_type": "code",
   "execution_count": 13,
   "metadata": {},
   "outputs": [],
   "source": [
    "RCS = [f\"{coin}USDT\" for coin in [\"BTC\", \"ETH\", \"SOL\", \"DOGE\", \"LINK\"]]\n",
    "TYPE = ['book', 'trade']\n",
    "MONTHS = ['06', '07', '08']\n",
    "TIMES = ['240720.000100', '240720.215000']"
   ]
  },
  {
   "cell_type": "markdown",
   "metadata": {},
   "source": [
    "####  <a id='chapter1'> <font color=\"grey\">1. Book</font></a>"
   ]
  },
  {
   "cell_type": "code",
   "execution_count": 51,
   "metadata": {},
   "outputs": [],
   "source": [
    "df = dl.load_book(RCS[0:2], TIMES, lazy=True)\n",
    "# Add human readable timestamp and mid prices\n",
    "df = df.ds.add_datetime('ts').feature.add_mid(products=RCS[0:2])"
   ]
  },
  {
   "cell_type": "code",
   "execution_count": 52,
   "metadata": {},
   "outputs": [
    {
     "data": {
      "text/html": [
       "<div><style>\n",
       ".dataframe > thead > tr,\n",
       ".dataframe > tbody > tr {\n",
       "  text-align: right;\n",
       "  white-space: pre-wrap;\n",
       "}\n",
       "</style>\n",
       "<small>shape: (5, 12)</small><table border=\"1\" class=\"dataframe\"><thead><tr><th>ts</th><th>prc__s0_BTCUSDT</th><th>prc__s1_BTCUSDT</th><th>vol__s0_BTCUSDT</th><th>vol__s1_BTCUSDT</th><th>prc__s0_ETHUSDT</th><th>prc__s1_ETHUSDT</th><th>vol__s0_ETHUSDT</th><th>vol__s1_ETHUSDT</th><th>dts</th><th>mid_BTCUSDT</th><th>mid_ETHUSDT</th></tr><tr><td>u64</td><td>f64</td><td>f64</td><td>f64</td><td>f64</td><td>f64</td><td>f64</td><td>f64</td><td>f64</td><td>datetime[ns]</td><td>f64</td><td>f64</td></tr></thead><tbody><tr><td>1721433660056500000</td><td>66689.9</td><td>66690.0</td><td>7.331</td><td>10.59</td><td>3503.63</td><td>3503.64</td><td>12.785</td><td>82.869</td><td>2024-07-20 00:01:00.056500</td><td>66689.95</td><td>3503.635</td></tr><tr><td>1721433660058500000</td><td>66689.9</td><td>66690.0</td><td>7.331</td><td>10.531</td><td>3503.63</td><td>3503.64</td><td>12.785</td><td>82.869</td><td>2024-07-20 00:01:00.058500</td><td>66689.95</td><td>3503.635</td></tr><tr><td>1721433660063500000</td><td>66689.9</td><td>66690.0</td><td>7.329</td><td>10.531</td><td>3503.63</td><td>3503.64</td><td>0.332</td><td>82.869</td><td>2024-07-20 00:01:00.063500</td><td>66689.95</td><td>3503.635</td></tr><tr><td>1721433660066500000</td><td>66689.9</td><td>66690.0</td><td>6.079</td><td>10.531</td><td>3503.63</td><td>3503.64</td><td>0.332</td><td>82.883</td><td>2024-07-20 00:01:00.066500</td><td>66689.95</td><td>3503.635</td></tr><tr><td>1721433660069500000</td><td>66689.9</td><td>66690.0</td><td>6.079</td><td>10.513</td><td>3503.63</td><td>3503.64</td><td>0.332</td><td>82.883</td><td>2024-07-20 00:01:00.069500</td><td>66689.95</td><td>3503.635</td></tr></tbody></table></div>"
      ],
      "text/plain": [
       "shape: (5, 12)\n",
       "┌───────────┬───────────┬───────────┬───────────┬───┬───────────┬───────────┬───────────┬──────────┐\n",
       "│ ts        ┆ prc__s0_B ┆ prc__s1_B ┆ vol__s0_B ┆ … ┆ vol__s1_E ┆ dts       ┆ mid_BTCUS ┆ mid_ETHU │\n",
       "│ ---       ┆ TCUSDT    ┆ TCUSDT    ┆ TCUSDT    ┆   ┆ THUSDT    ┆ ---       ┆ DT        ┆ SDT      │\n",
       "│ u64       ┆ ---       ┆ ---       ┆ ---       ┆   ┆ ---       ┆ datetime[ ┆ ---       ┆ ---      │\n",
       "│           ┆ f64       ┆ f64       ┆ f64       ┆   ┆ f64       ┆ ns]       ┆ f64       ┆ f64      │\n",
       "╞═══════════╪═══════════╪═══════════╪═══════════╪═══╪═══════════╪═══════════╪═══════════╪══════════╡\n",
       "│ 172143366 ┆ 66689.9   ┆ 66690.0   ┆ 7.331     ┆ … ┆ 82.869    ┆ 2024-07-2 ┆ 66689.95  ┆ 3503.635 │\n",
       "│ 005650000 ┆           ┆           ┆           ┆   ┆           ┆ 0 00:01:0 ┆           ┆          │\n",
       "│ 0         ┆           ┆           ┆           ┆   ┆           ┆ 0.056500  ┆           ┆          │\n",
       "│ 172143366 ┆ 66689.9   ┆ 66690.0   ┆ 7.331     ┆ … ┆ 82.869    ┆ 2024-07-2 ┆ 66689.95  ┆ 3503.635 │\n",
       "│ 005850000 ┆           ┆           ┆           ┆   ┆           ┆ 0 00:01:0 ┆           ┆          │\n",
       "│ 0         ┆           ┆           ┆           ┆   ┆           ┆ 0.058500  ┆           ┆          │\n",
       "│ 172143366 ┆ 66689.9   ┆ 66690.0   ┆ 7.329     ┆ … ┆ 82.869    ┆ 2024-07-2 ┆ 66689.95  ┆ 3503.635 │\n",
       "│ 006350000 ┆           ┆           ┆           ┆   ┆           ┆ 0 00:01:0 ┆           ┆          │\n",
       "│ 0         ┆           ┆           ┆           ┆   ┆           ┆ 0.063500  ┆           ┆          │\n",
       "│ 172143366 ┆ 66689.9   ┆ 66690.0   ┆ 6.079     ┆ … ┆ 82.883    ┆ 2024-07-2 ┆ 66689.95  ┆ 3503.635 │\n",
       "│ 006650000 ┆           ┆           ┆           ┆   ┆           ┆ 0 00:01:0 ┆           ┆          │\n",
       "│ 0         ┆           ┆           ┆           ┆   ┆           ┆ 0.066500  ┆           ┆          │\n",
       "│ 172143366 ┆ 66689.9   ┆ 66690.0   ┆ 6.079     ┆ … ┆ 82.883    ┆ 2024-07-2 ┆ 66689.95  ┆ 3503.635 │\n",
       "│ 006950000 ┆           ┆           ┆           ┆   ┆           ┆ 0 00:01:0 ┆           ┆          │\n",
       "│ 0         ┆           ┆           ┆           ┆   ┆           ┆ 0.069500  ┆           ┆          │\n",
       "└───────────┴───────────┴───────────┴───────────┴───┴───────────┴───────────┴───────────┴──────────┘"
      ]
     },
     "execution_count": 52,
     "metadata": {},
     "output_type": "execute_result"
    }
   ],
   "source": [
    "# This takes some time, not because of the loading but because of the aggregation\n",
    "df = df.collect()\n",
    "df.head()"
   ]
  },
  {
   "cell_type": "code",
   "execution_count": 53,
   "metadata": {},
   "outputs": [],
   "source": [
    "# Add a column with random +1 or -1 entries\n",
    "df = df.with_columns(\n",
    "    pl.lit(np.random.choice([1., -1.], size=len(df))).alias('random_signal')\n",
    ")"
   ]
  },
  {
   "cell_type": "code",
   "execution_count": null,
   "metadata": {},
   "outputs": [
    {
     "data": {
      "text/html": [
       "<div><style>\n",
       ".dataframe > thead > tr,\n",
       ".dataframe > tbody > tr {\n",
       "  text-align: right;\n",
       "  white-space: pre-wrap;\n",
       "}\n",
       "</style>\n",
       "<small>shape: (5, 14)</small><table border=\"1\" class=\"dataframe\"><thead><tr><th>ts</th><th>prc__s0_BTCUSDT</th><th>prc__s1_BTCUSDT</th><th>vol__s0_BTCUSDT</th><th>vol__s1_BTCUSDT</th><th>prc__s0_ETHUSDT</th><th>prc__s1_ETHUSDT</th><th>vol__s0_ETHUSDT</th><th>vol__s1_ETHUSDT</th><th>dts</th><th>mid_BTCUSDT</th><th>mid_ETHUSDT</th><th>random_signal</th><th>pnl_sig_1m</th></tr><tr><td>u64</td><td>f64</td><td>f64</td><td>f64</td><td>f64</td><td>f64</td><td>f64</td><td>f64</td><td>f64</td><td>datetime[ns]</td><td>f64</td><td>f64</td><td>f64</td><td>f64</td></tr></thead><tbody><tr><td>1721512139491500000</td><td>67068.0</td><td>67068.1</td><td>1.536</td><td>3.698</td><td>3515.36</td><td>3515.37</td><td>31.002</td><td>16.106</td><td>2024-07-20 21:48:59.491500</td><td>67068.05</td><td>3515.365</td><td>1.0</td><td>1.45</td></tr><tr><td>1721512139557500000</td><td>67068.0</td><td>67068.1</td><td>1.536</td><td>3.698</td><td>3515.36</td><td>3515.37</td><td>31.012</td><td>16.096</td><td>2024-07-20 21:48:59.557500</td><td>67068.05</td><td>3515.365</td><td>-1.0</td><td>-1.45</td></tr><tr><td>1721512139705500000</td><td>67068.0</td><td>67068.1</td><td>1.536</td><td>3.694</td><td>3515.36</td><td>3515.37</td><td>31.012</td><td>16.096</td><td>2024-07-20 21:48:59.705500</td><td>67068.05</td><td>3515.365</td><td>-1.0</td><td>-1.45</td></tr><tr><td>1721512139785500000</td><td>67068.0</td><td>67068.1</td><td>1.536</td><td>3.694</td><td>3515.36</td><td>3515.37</td><td>31.012</td><td>19.457</td><td>2024-07-20 21:48:59.785500</td><td>67068.05</td><td>3515.365</td><td>1.0</td><td>1.45</td></tr><tr><td>1721512139793500000</td><td>67068.0</td><td>67068.1</td><td>1.536</td><td>3.694</td><td>3515.36</td><td>3515.37</td><td>31.002</td><td>19.467</td><td>2024-07-20 21:48:59.793500</td><td>67068.05</td><td>3515.365</td><td>-1.0</td><td>-1.45</td></tr></tbody></table></div>"
      ],
      "text/plain": [
       "shape: (5, 14)\n",
       "┌───────────┬───────────┬───────────┬───────────┬───┬───────────┬───────────┬───────────┬──────────┐\n",
       "│ ts        ┆ prc__s0_B ┆ prc__s1_B ┆ vol__s0_B ┆ … ┆ mid_BTCUS ┆ mid_ETHUS ┆ random_si ┆ pnl_sig_ │\n",
       "│ ---       ┆ TCUSDT    ┆ TCUSDT    ┆ TCUSDT    ┆   ┆ DT        ┆ DT        ┆ gnal      ┆ 1m       │\n",
       "│ u64       ┆ ---       ┆ ---       ┆ ---       ┆   ┆ ---       ┆ ---       ┆ ---       ┆ ---      │\n",
       "│           ┆ f64       ┆ f64       ┆ f64       ┆   ┆ f64       ┆ f64       ┆ f64       ┆ f64      │\n",
       "╞═══════════╪═══════════╪═══════════╪═══════════╪═══╪═══════════╪═══════════╪═══════════╪══════════╡\n",
       "│ 172151213 ┆ 67068.0   ┆ 67068.1   ┆ 1.536     ┆ … ┆ 67068.05  ┆ 3515.365  ┆ 1.0       ┆ 1.45     │\n",
       "│ 949150000 ┆           ┆           ┆           ┆   ┆           ┆           ┆           ┆          │\n",
       "│ 0         ┆           ┆           ┆           ┆   ┆           ┆           ┆           ┆          │\n",
       "│ 172151213 ┆ 67068.0   ┆ 67068.1   ┆ 1.536     ┆ … ┆ 67068.05  ┆ 3515.365  ┆ -1.0      ┆ -1.45    │\n",
       "│ 955750000 ┆           ┆           ┆           ┆   ┆           ┆           ┆           ┆          │\n",
       "│ 0         ┆           ┆           ┆           ┆   ┆           ┆           ┆           ┆          │\n",
       "│ 172151213 ┆ 67068.0   ┆ 67068.1   ┆ 1.536     ┆ … ┆ 67068.05  ┆ 3515.365  ┆ -1.0      ┆ -1.45    │\n",
       "│ 970550000 ┆           ┆           ┆           ┆   ┆           ┆           ┆           ┆          │\n",
       "│ 0         ┆           ┆           ┆           ┆   ┆           ┆           ┆           ┆          │\n",
       "│ 172151213 ┆ 67068.0   ┆ 67068.1   ┆ 1.536     ┆ … ┆ 67068.05  ┆ 3515.365  ┆ 1.0       ┆ 1.45     │\n",
       "│ 978550000 ┆           ┆           ┆           ┆   ┆           ┆           ┆           ┆          │\n",
       "│ 0         ┆           ┆           ┆           ┆   ┆           ┆           ┆           ┆          │\n",
       "│ 172151213 ┆ 67068.0   ┆ 67068.1   ┆ 1.536     ┆ … ┆ 67068.05  ┆ 3515.365  ┆ -1.0      ┆ -1.45    │\n",
       "│ 979350000 ┆           ┆           ┆           ┆   ┆           ┆           ┆           ┆          │\n",
       "│ 0         ┆           ┆           ┆           ┆   ┆           ┆           ┆           ┆          │\n",
       "└───────────┴───────────┴───────────┴───────────┴───┴───────────┴───────────┴───────────┴──────────┘"
      ]
     },
     "execution_count": 55,
     "metadata": {},
     "output_type": "execute_result"
    }
   ],
   "source": [
    "pdf = df.target.add_sig_pnl(ts_col=\"ts\", col=\"mid_ETHUSDT\", signal=\"random_signal\", horizon=\"1m\", in_bp=False)\n",
    "pdf.head()"
   ]
  },
  {
   "cell_type": "code",
   "execution_count": null,
   "metadata": {},
   "outputs": [],
   "source": [
    "plt.plot(df['dts'], df['mid_ETHUSDT'])\n",
    "plt.xlabel('Time')\n",
    "plt.ylabel('Mid price')\n",
    "plt.title('Mid price over time')\n",
    "plt.show()"
   ]
  },
  {
   "cell_type": "code",
   "execution_count": null,
   "metadata": {},
   "outputs": [],
   "source": [
    "df = df._feat.add_vwap(cols=[\"prc__s0\", \"prc__s1\", \"vol__s0\", \"vol__s1\"])\n",
    "df.head()"
   ]
  },
  {
   "cell_type": "code",
   "execution_count": null,
   "metadata": {},
   "outputs": [],
   "source": [
    "from datetime import datetime, timedelta\n",
    "t = datetime.strptime(TIMES[0], \"%y%m%d.%H%M%S\")\n",
    "t"
   ]
  },
  {
   "cell_type": "code",
   "execution_count": null,
   "metadata": {},
   "outputs": [],
   "source": [
    "td = timedelta(minutes=1)\n",
    "td.total_seconds()"
   ]
  },
  {
   "cell_type": "code",
   "execution_count": 35,
   "metadata": {},
   "outputs": [],
   "source": [
    "from dspy.utils import round_up_to_nearest"
   ]
  },
  {
   "cell_type": "code",
   "execution_count": null,
   "metadata": {},
   "outputs": [],
   "source": [
    "df['dts'][0]"
   ]
  },
  {
   "cell_type": "code",
   "execution_count": null,
   "metadata": {},
   "outputs": [],
   "source": [
    "round_up_to_nearest(df['dts'][0], td)"
   ]
  },
  {
   "cell_type": "code",
   "execution_count": null,
   "metadata": {},
   "outputs": [],
   "source": [
    "rdf = dl.load(RCS[0:2], TIMES)\n",
    "rdf.head()"
   ]
  },
  {
   "cell_type": "markdown",
   "metadata": {},
   "source": [
    "####  <a id='chapter2'> <font color=\"grey\">2. Trades</font></a>"
   ]
  },
  {
   "cell_type": "code",
   "execution_count": 9,
   "metadata": {},
   "outputs": [],
   "source": [
    "tdf = dl.load_trades(RCS[0:2], TIMES, lazy=True)\n",
    "# By default, the timestamp column is named 'ts'\n",
    "tdf = tdf._trade.agg_trades()._trade.add_side()._dt.add_datetime()"
   ]
  },
  {
   "cell_type": "code",
   "execution_count": null,
   "metadata": {},
   "outputs": [],
   "source": [
    "# Just to check that it works\n",
    "tdf = tdf.collect()\n",
    "tdf.head()"
   ]
  }
 ],
 "metadata": {
  "kernelspec": {
   "display_name": ".venv",
   "language": "python",
   "name": "python3"
  },
  "language_info": {
   "codemirror_mode": {
    "name": "ipython",
    "version": 3
   },
   "file_extension": ".py",
   "mimetype": "text/x-python",
   "name": "python",
   "nbconvert_exporter": "python",
   "pygments_lexer": "ipython3",
   "version": "3.12.8"
  }
 },
 "nbformat": 4,
 "nbformat_minor": 4
}
