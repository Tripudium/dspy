{
 "cells": [
  {
   "cell_type": "code",
   "execution_count": 1,
   "metadata": {},
   "outputs": [],
   "source": [
    "%load_ext autoreload\n",
    "%autoreload 2"
   ]
  },
  {
   "cell_type": "code",
   "execution_count": 2,
   "metadata": {},
   "outputs": [],
   "source": [
    "import matplotlib.pyplot as plt # type: ignore\n",
    "import numpy as np\n",
    "import polars as pl"
   ]
  },
  {
   "cell_type": "code",
   "execution_count": 5,
   "metadata": {},
   "outputs": [],
   "source": [
    "from dspy.hdb import get_dataset"
   ]
  },
  {
   "cell_type": "markdown",
   "metadata": {
    "vscode": {
     "languageId": "plaintext"
    }
   },
   "source": [
    "# <font color=\"grey\">Data loading and handling</font>"
   ]
  },
  {
   "cell_type": "markdown",
   "metadata": {},
   "source": [
    "Data is available in two forms: limit order book (LOB) and trade data. The timestamps are given in nanosecond resolution as Unix timestamps, but the granularity of the data is not that fine. A simple dataloader and some helper function to convert Python datetime objects or strings of the form '240802.1450' into timestamps are provided. The 'book' data contains best bid and ask prices with corresponding volumes. The 'trade' data contains trades, with a signed quantity representing direction. There is also an associated trade id in order to identify individual trades."
   ]
  },
  {
   "cell_type": "code",
   "execution_count": 37,
   "metadata": {},
   "outputs": [],
   "source": [
    "RCS = [f\"{coin}USDT\" for coin in [\"BTC\", \"ETH\", \"SOL\", \"DOGE\", \"LINK\"]]\n",
    "TIMES = ['250120.000100', '250120.215000']"
   ]
  },
  {
   "cell_type": "code",
   "execution_count": 35,
   "metadata": {},
   "outputs": [],
   "source": [
    "dl = get_dataset(\"terank\")"
   ]
  },
  {
   "cell_type": "markdown",
   "metadata": {},
   "source": [
    "####  <a id='chapter1'> <font color=\"grey\">1. Book</font></a>"
   ]
  },
  {
   "cell_type": "code",
   "execution_count": 36,
   "metadata": {},
   "outputs": [
    {
     "ename": "ColumnNotFoundError",
     "evalue": "prc__s0\n\nResolved plan until failure:\n\n\t---> FAILED HERE RESOLVING 'select' <---\nFILTER [([(col(\"tsr_fh\")) >= (1737331260000000000)]) & ([(col(\"tsr_fh\")) <= (1737409800000000000)])] FROM\n  Parquet SCAN [/mnt/data/archive/external/tardis_parquet_test/update_type=depth/mic_seg=BNCE_USDTM/base=BTC/quote=USDT/date=2025-01-20/2025-01-20__BNCE_USDTM__BTC_USDT__depth.parquet]\n  PROJECT */17 COLUMNS",
     "output_type": "error",
     "traceback": [
      "\u001b[0;31m---------------------------------------------------------------------------\u001b[0m",
      "\u001b[0;31mColumnNotFoundError\u001b[0m                       Traceback (most recent call last)",
      "Cell \u001b[0;32mIn[36], line 1\u001b[0m\n\u001b[0;32m----> 1\u001b[0m df \u001b[38;5;241m=\u001b[39m \u001b[43mdl\u001b[49m\u001b[38;5;241;43m.\u001b[39;49m\u001b[43mload_book\u001b[49m\u001b[43m(\u001b[49m\u001b[43mRCS\u001b[49m\u001b[43m[\u001b[49m\u001b[38;5;241;43m0\u001b[39;49m\u001b[43m:\u001b[49m\u001b[38;5;241;43m2\u001b[39;49m\u001b[43m]\u001b[49m\u001b[43m,\u001b[49m\u001b[43m \u001b[49m\u001b[43mTIMES\u001b[49m\u001b[43m,\u001b[49m\u001b[43m \u001b[49m\u001b[43mlazy\u001b[49m\u001b[38;5;241;43m=\u001b[39;49m\u001b[38;5;28;43;01mTrue\u001b[39;49;00m\u001b[43m)\u001b[49m\n\u001b[1;32m      2\u001b[0m \u001b[38;5;66;03m# Add human readable timestamp and mid prices\u001b[39;00m\n\u001b[1;32m      3\u001b[0m df \u001b[38;5;241m=\u001b[39m df\u001b[38;5;241m.\u001b[39mds\u001b[38;5;241m.\u001b[39madd_datetime(\u001b[38;5;124m'\u001b[39m\u001b[38;5;124mts\u001b[39m\u001b[38;5;124m'\u001b[39m)\u001b[38;5;241m.\u001b[39mfeature\u001b[38;5;241m.\u001b[39madd_mid(products\u001b[38;5;241m=\u001b[39mRCS[\u001b[38;5;241m0\u001b[39m:\u001b[38;5;241m2\u001b[39m])\n",
      "File \u001b[0;32m~/code/dspy/src/dspy/hdb/terank_dataloader.py:50\u001b[0m, in \u001b[0;36mTerankData.load_book\u001b[0;34m(self, products, times, depth, lazy)\u001b[0m\n\u001b[1;32m     44\u001b[0m df \u001b[38;5;241m=\u001b[39m df\u001b[38;5;241m.\u001b[39mselect([pl\u001b[38;5;241m.\u001b[39mcol(\u001b[38;5;124m\"\u001b[39m\u001b[38;5;124mtse\u001b[39m\u001b[38;5;124m\"\u001b[39m)\u001b[38;5;241m.\u001b[39malias(\u001b[38;5;124m\"\u001b[39m\u001b[38;5;124mts\u001b[39m\u001b[38;5;124m\"\u001b[39m), \n\u001b[1;32m     45\u001b[0m                 pl\u001b[38;5;241m.\u001b[39mcol(\u001b[38;5;124m\"\u001b[39m\u001b[38;5;124mprc__s0\u001b[39m\u001b[38;5;124m\"\u001b[39m), \n\u001b[1;32m     46\u001b[0m                 pl\u001b[38;5;241m.\u001b[39mcol(\u001b[38;5;124m\"\u001b[39m\u001b[38;5;124mprc__s1\u001b[39m\u001b[38;5;124m\"\u001b[39m),\n\u001b[1;32m     47\u001b[0m                 pl\u001b[38;5;241m.\u001b[39mcol(\u001b[38;5;124m\"\u001b[39m\u001b[38;5;124mvol__s0\u001b[39m\u001b[38;5;124m\"\u001b[39m),\n\u001b[1;32m     48\u001b[0m                 pl\u001b[38;5;241m.\u001b[39mcol(\u001b[38;5;124m\"\u001b[39m\u001b[38;5;124mvol__s1\u001b[39m\u001b[38;5;124m\"\u001b[39m)])\n\u001b[1;32m     49\u001b[0m \u001b[38;5;28;01mif\u001b[39;00m lazy:\n\u001b[0;32m---> 50\u001b[0m     columns \u001b[38;5;241m=\u001b[39m \u001b[43mdf\u001b[49m\u001b[38;5;241;43m.\u001b[39;49m\u001b[43mcollect_schema\u001b[49m\u001b[43m(\u001b[49m\u001b[43m)\u001b[49m\u001b[38;5;241m.\u001b[39mnames()\n\u001b[1;32m     51\u001b[0m \u001b[38;5;28;01melse\u001b[39;00m:\n\u001b[1;32m     52\u001b[0m     df \u001b[38;5;241m=\u001b[39m df\u001b[38;5;241m.\u001b[39mcollect()\n",
      "File \u001b[0;32m~/code/dspy/.venv/lib/python3.13/site-packages/polars/lazyframe/frame.py:2285\u001b[0m, in \u001b[0;36mLazyFrame.collect_schema\u001b[0;34m(self)\u001b[0m\n\u001b[1;32m   2255\u001b[0m \u001b[38;5;28;01mdef\u001b[39;00m\u001b[38;5;250m \u001b[39m\u001b[38;5;21mcollect_schema\u001b[39m(\u001b[38;5;28mself\u001b[39m) \u001b[38;5;241m-\u001b[39m\u001b[38;5;241m>\u001b[39m Schema:\n\u001b[1;32m   2256\u001b[0m \u001b[38;5;250m    \u001b[39m\u001b[38;5;124;03m\"\"\"\u001b[39;00m\n\u001b[1;32m   2257\u001b[0m \u001b[38;5;124;03m    Resolve the schema of this LazyFrame.\u001b[39;00m\n\u001b[1;32m   2258\u001b[0m \n\u001b[0;32m   (...)\u001b[0m\n\u001b[1;32m   2283\u001b[0m \u001b[38;5;124;03m    3\u001b[39;00m\n\u001b[1;32m   2284\u001b[0m \u001b[38;5;124;03m    \"\"\"\u001b[39;00m\n\u001b[0;32m-> 2285\u001b[0m     \u001b[38;5;28;01mreturn\u001b[39;00m Schema(\u001b[38;5;28;43mself\u001b[39;49m\u001b[38;5;241;43m.\u001b[39;49m\u001b[43m_ldf\u001b[49m\u001b[38;5;241;43m.\u001b[39;49m\u001b[43mcollect_schema\u001b[49m\u001b[43m(\u001b[49m\u001b[43m)\u001b[49m, check_dtypes\u001b[38;5;241m=\u001b[39m\u001b[38;5;28;01mFalse\u001b[39;00m)\n",
      "\u001b[0;31mColumnNotFoundError\u001b[0m: prc__s0\n\nResolved plan until failure:\n\n\t---> FAILED HERE RESOLVING 'select' <---\nFILTER [([(col(\"tsr_fh\")) >= (1737331260000000000)]) & ([(col(\"tsr_fh\")) <= (1737409800000000000)])] FROM\n  Parquet SCAN [/mnt/data/archive/external/tardis_parquet_test/update_type=depth/mic_seg=BNCE_USDTM/base=BTC/quote=USDT/date=2025-01-20/2025-01-20__BNCE_USDTM__BTC_USDT__depth.parquet]\n  PROJECT */17 COLUMNS"
     ]
    }
   ],
   "source": [
    "df = dl.load_book(RCS[0:2], TIMES, lazy=True)\n",
    "# Add human readable timestamp and mid prices\n",
    "df = df.ds.add_datetime('ts').feature.add_mid(products=RCS[0:2])"
   ]
  },
  {
   "cell_type": "code",
   "execution_count": 7,
   "metadata": {},
   "outputs": [],
   "source": [
    "# This takes some time, not because of the loading but because of the aggregation\n",
    "df = df.collect()\n",
    "df.head()"
   ]
  },
  {
   "cell_type": "code",
   "execution_count": 8,
   "metadata": {},
   "outputs": [],
   "source": [
    "# Add a column with random +1 or -1 entries\n",
    "df = df.with_columns(\n",
    "    pl.lit(np.random.choice([1., -1.], size=len(df))).alias('random_signal')\n",
    ")"
   ]
  },
  {
   "cell_type": "code",
   "execution_count": 9,
   "metadata": {},
   "outputs": [],
   "source": [
    "pdf = df.target.add_sig_pnl(ts_col=\"ts\", col=\"mid_ETHUSDT\", signal=\"random_signal\", horizon=\"1m\", in_bp=False)\n",
    "pdf.head()"
   ]
  },
  {
   "cell_type": "code",
   "execution_count": 10,
   "metadata": {},
   "outputs": [],
   "source": [
    "plt.plot(df['dts'], df['mid_ETHUSDT'])\n",
    "plt.xlabel('Time')\n",
    "plt.ylabel('Mid price')\n",
    "plt.title('Mid price over time')\n",
    "plt.show()"
   ]
  },
  {
   "cell_type": "code",
   "execution_count": 12,
   "metadata": {},
   "outputs": [],
   "source": [
    "df = df.feature.add_vwap(cols=[\"prc__s0\", \"prc__s1\", \"vol__s0\", \"vol__s1\"])\n",
    "df.head()"
   ]
  },
  {
   "cell_type": "markdown",
   "metadata": {},
   "source": [
    "####  <a id='chapter2'> <font color=\"grey\">2. Trades</font></a>"
   ]
  },
  {
   "cell_type": "code",
   "execution_count": 25,
   "metadata": {},
   "outputs": [],
   "source": [
    "TIMES = ['250101.100000', '250101.120000']\n",
    "products = ['BTCUSDT', 'ETHUSDT']"
   ]
  },
  {
   "cell_type": "code",
   "execution_count": 26,
   "metadata": {},
   "outputs": [],
   "source": [
    "tdf = dl.load_trades(products, TIMES, lazy=True)\n",
    "# By default, the timestamp column is named 'ts'\n",
    "tdf = tdf.trade.agg_trades().trade.add_side().ds.add_datetime()"
   ]
  },
  {
   "cell_type": "code",
   "execution_count": 27,
   "metadata": {},
   "outputs": [
    {
     "data": {
      "text/html": [
       "<div><style>\n",
       ".dataframe > thead > tr,\n",
       ".dataframe > tbody > tr {\n",
       "  text-align: right;\n",
       "  white-space: pre-wrap;\n",
       "}\n",
       "</style>\n",
       "<small>shape: (5, 7)</small><table border=\"1\" class=\"dataframe\"><thead><tr><th>ts</th><th>prc</th><th>product</th><th>trade_id</th><th>qty</th><th>side</th><th>dts</th></tr><tr><td>i64</td><td>f64</td><td>str</td><td>i64</td><td>f64</td><td>i32</td><td>datetime[ns]</td></tr></thead><tbody><tr><td>1735725600175000000</td><td>3333.63</td><td>&quot;ETHUSDT&quot;</td><td>4937545734</td><td>-0.086</td><td>-1</td><td>2025-01-01 10:00:00.175</td></tr><tr><td>1735725600242000000</td><td>3333.64</td><td>&quot;ETHUSDT&quot;</td><td>4937545735</td><td>0.543</td><td>1</td><td>2025-01-01 10:00:00.242</td></tr><tr><td>1735725600340000000</td><td>3333.64</td><td>&quot;ETHUSDT&quot;</td><td>4937545738</td><td>0.015</td><td>1</td><td>2025-01-01 10:00:00.340</td></tr><tr><td>1735725600353000000</td><td>93382.1</td><td>&quot;BTCUSDT&quot;</td><td>5793674893</td><td>0.036</td><td>1</td><td>2025-01-01 10:00:00.353</td></tr><tr><td>1735725600393000000</td><td>3333.63</td><td>&quot;ETHUSDT&quot;</td><td>4937545740</td><td>-8.023</td><td>-1</td><td>2025-01-01 10:00:00.393</td></tr></tbody></table></div>"
      ],
      "text/plain": [
       "shape: (5, 7)\n",
       "┌─────────────────────┬─────────┬─────────┬────────────┬────────┬──────┬─────────────────────────┐\n",
       "│ ts                  ┆ prc     ┆ product ┆ trade_id   ┆ qty    ┆ side ┆ dts                     │\n",
       "│ ---                 ┆ ---     ┆ ---     ┆ ---        ┆ ---    ┆ ---  ┆ ---                     │\n",
       "│ i64                 ┆ f64     ┆ str     ┆ i64        ┆ f64    ┆ i32  ┆ datetime[ns]            │\n",
       "╞═════════════════════╪═════════╪═════════╪════════════╪════════╪══════╪═════════════════════════╡\n",
       "│ 1735725600175000000 ┆ 3333.63 ┆ ETHUSDT ┆ 4937545734 ┆ -0.086 ┆ -1   ┆ 2025-01-01 10:00:00.175 │\n",
       "│ 1735725600242000000 ┆ 3333.64 ┆ ETHUSDT ┆ 4937545735 ┆ 0.543  ┆ 1    ┆ 2025-01-01 10:00:00.242 │\n",
       "│ 1735725600340000000 ┆ 3333.64 ┆ ETHUSDT ┆ 4937545738 ┆ 0.015  ┆ 1    ┆ 2025-01-01 10:00:00.340 │\n",
       "│ 1735725600353000000 ┆ 93382.1 ┆ BTCUSDT ┆ 5793674893 ┆ 0.036  ┆ 1    ┆ 2025-01-01 10:00:00.353 │\n",
       "│ 1735725600393000000 ┆ 3333.63 ┆ ETHUSDT ┆ 4937545740 ┆ -8.023 ┆ -1   ┆ 2025-01-01 10:00:00.393 │\n",
       "└─────────────────────┴─────────┴─────────┴────────────┴────────┴──────┴─────────────────────────┘"
      ]
     },
     "execution_count": 27,
     "metadata": {},
     "output_type": "execute_result"
    }
   ],
   "source": [
    "tdf = tdf.collect()\n",
    "tdf.head()"
   ]
  },
  {
   "cell_type": "code",
   "execution_count": 28,
   "metadata": {},
   "outputs": [],
   "source": [
    "from trpy_data.data.load_data import load_contract"
   ]
  },
  {
   "cell_type": "code",
   "execution_count": 38,
   "metadata": {},
   "outputs": [],
   "source": [
    "df = load_contract(update_type=\"depth\", contract_spec=\"BTCUSDT__BNCE_USDTM\", times_range=\"250101.1000:250101.1200\")"
   ]
  },
  {
   "cell_type": "code",
   "execution_count": 39,
   "metadata": {},
   "outputs": [],
   "source": [
    "df = df.collect()"
   ]
  },
  {
   "cell_type": "code",
   "execution_count": 44,
   "metadata": {},
   "outputs": [
    {
     "data": {
      "text/html": [
       "<div><style>\n",
       ".dataframe > thead > tr,\n",
       ".dataframe > tbody > tr {\n",
       "  text-align: right;\n",
       "  white-space: pre-wrap;\n",
       "}\n",
       "</style>\n",
       "<small>shape: (256,)</small><table border=\"1\" class=\"dataframe\"><thead><tr><th></th></tr><tr><td>f64</td></tr></thead><tbody><tr><td>11.355</td></tr><tr><td>0.01</td></tr><tr><td>0.002</td></tr><tr><td>-8.0</td></tr><tr><td>0.043</td></tr><tr><td>&hellip;</td></tr><tr><td>1.578</td></tr><tr><td>0.869</td></tr><tr><td>0.887</td></tr><tr><td>0.002</td></tr><tr><td>0.042</td></tr></tbody></table></div>"
      ],
      "text/plain": [
       "shape: (256,)\n",
       "Series: '' [f64]\n",
       "[\n",
       "\t11.355\n",
       "\t0.01\n",
       "\t0.002\n",
       "\t-8.0\n",
       "\t0.043\n",
       "\t…\n",
       "\t1.578\n",
       "\t0.869\n",
       "\t0.887\n",
       "\t0.002\n",
       "\t0.042\n",
       "]"
      ]
     },
     "execution_count": 44,
     "metadata": {},
     "output_type": "execute_result"
    }
   ],
   "source": [
    "df['vols_s0'][3]"
   ]
  },
  {
   "cell_type": "code",
   "execution_count": 45,
   "metadata": {},
   "outputs": [
    {
     "data": {
      "text/html": [
       "<div><style>\n",
       ".dataframe > thead > tr,\n",
       ".dataframe > tbody > tr {\n",
       "  text-align: right;\n",
       "  white-space: pre-wrap;\n",
       "}\n",
       "</style>\n",
       "<small>shape: (5, 17)</small><table border=\"1\" class=\"dataframe\"><thead><tr><th>tsr</th><th>tsr_fh</th><th>tse</th><th>tst</th><th>contract_id</th><th>connection_id</th><th>transport_seq_num</th><th>update_type</th><th>message_type</th><th>message_idx</th><th>blended_id</th><th>blended_id_2nd</th><th>update_mode</th><th>prc_s0</th><th>prc_s1</th><th>vols_s0</th><th>vols_s1</th></tr><tr><td>i64</td><td>i64</td><td>i64</td><td>i64</td><td>i64</td><td>i64</td><td>i32</td><td>i8</td><td>i8</td><td>i16</td><td>i64</td><td>i64</td><td>i8</td><td>f64</td><td>f64</td><td>list[f64]</td><td>list[f64]</td></tr></thead><tbody><tr><td>0</td><td>1735725600022607000</td><td>1735725600020000000</td><td>1735725600020000000</td><td>72092781901848124</td><td>89244403905331200</td><td>685033</td><td>5</td><td>0</td><td>0</td><td>6299303228640</td><td>6299303221714</td><td>33</td><td>93382.0</td><td>93382.1</td><td>[11.413, 0.01, … 0.887]</td><td>[1.393, -3.0, … 0.013]</td></tr><tr><td>0</td><td>1735725600074820500</td><td>1735725600072000000</td><td>1735725600072000000</td><td>72092781901848124</td><td>89244403905331200</td><td>685034</td><td>5</td><td>0</td><td>0</td><td>6299303235509</td><td>6299303228640</td><td>33</td><td>93382.0</td><td>93382.1</td><td>[11.413, 0.01, … 0.042]</td><td>[1.393, -3.0, … 0.013]</td></tr><tr><td>0</td><td>1735725600127636700</td><td>1735725600125000000</td><td>1735725600125000000</td><td>72092781901848124</td><td>89244403905331200</td><td>685035</td><td>5</td><td>0</td><td>0</td><td>6299303244354</td><td>6299303235509</td><td>33</td><td>93382.0</td><td>93382.1</td><td>[11.355, 0.01, … 0.042]</td><td>[1.393, -3.0, … 0.013]</td></tr><tr><td>0</td><td>1735725600178598800</td><td>1735725600176000000</td><td>1735725600175000000</td><td>72092781901848124</td><td>89244403905331200</td><td>685036</td><td>5</td><td>0</td><td>0</td><td>6299303249092</td><td>6299303244354</td><td>33</td><td>93382.0</td><td>93382.1</td><td>[11.355, 0.01, … 0.042]</td><td>[1.351, -3.0, … 0.006]</td></tr><tr><td>0</td><td>1735725600230414200</td><td>1735725600227000000</td><td>1735725600225000000</td><td>72092781901848124</td><td>89244403905331200</td><td>685037</td><td>5</td><td>0</td><td>0</td><td>6299303254584</td><td>6299303249092</td><td>33</td><td>93382.0</td><td>93382.1</td><td>[11.36, 0.01, … 0.042]</td><td>[1.351, -3.0, … 0.006]</td></tr></tbody></table></div>"
      ],
      "text/plain": [
       "shape: (5, 17)\n",
       "┌─────┬─────────────┬─────────────┬─────────────┬───┬─────────┬─────────┬─────────────┬────────────┐\n",
       "│ tsr ┆ tsr_fh      ┆ tse         ┆ tst         ┆ … ┆ prc_s0  ┆ prc_s1  ┆ vols_s0     ┆ vols_s1    │\n",
       "│ --- ┆ ---         ┆ ---         ┆ ---         ┆   ┆ ---     ┆ ---     ┆ ---         ┆ ---        │\n",
       "│ i64 ┆ i64         ┆ i64         ┆ i64         ┆   ┆ f64     ┆ f64     ┆ list[f64]   ┆ list[f64]  │\n",
       "╞═════╪═════════════╪═════════════╪═════════════╪═══╪═════════╪═════════╪═════════════╪════════════╡\n",
       "│ 0   ┆ 17357256000 ┆ 17357256000 ┆ 17357256000 ┆ … ┆ 93382.0 ┆ 93382.1 ┆ [11.413,    ┆ [1.393,    │\n",
       "│     ┆ 22607000    ┆ 20000000    ┆ 20000000    ┆   ┆         ┆         ┆ 0.01, …     ┆ -3.0, …    │\n",
       "│     ┆             ┆             ┆             ┆   ┆         ┆         ┆ 0.887]      ┆ 0.013]     │\n",
       "│ 0   ┆ 17357256000 ┆ 17357256000 ┆ 17357256000 ┆ … ┆ 93382.0 ┆ 93382.1 ┆ [11.413,    ┆ [1.393,    │\n",
       "│     ┆ 74820500    ┆ 72000000    ┆ 72000000    ┆   ┆         ┆         ┆ 0.01, …     ┆ -3.0, …    │\n",
       "│     ┆             ┆             ┆             ┆   ┆         ┆         ┆ 0.042]      ┆ 0.013]     │\n",
       "│ 0   ┆ 17357256001 ┆ 17357256001 ┆ 17357256001 ┆ … ┆ 93382.0 ┆ 93382.1 ┆ [11.355,    ┆ [1.393,    │\n",
       "│     ┆ 27636700    ┆ 25000000    ┆ 25000000    ┆   ┆         ┆         ┆ 0.01, …     ┆ -3.0, …    │\n",
       "│     ┆             ┆             ┆             ┆   ┆         ┆         ┆ 0.042]      ┆ 0.013]     │\n",
       "│ 0   ┆ 17357256001 ┆ 17357256001 ┆ 17357256001 ┆ … ┆ 93382.0 ┆ 93382.1 ┆ [11.355,    ┆ [1.351,    │\n",
       "│     ┆ 78598800    ┆ 76000000    ┆ 75000000    ┆   ┆         ┆         ┆ 0.01, …     ┆ -3.0, …    │\n",
       "│     ┆             ┆             ┆             ┆   ┆         ┆         ┆ 0.042]      ┆ 0.006]     │\n",
       "│ 0   ┆ 17357256002 ┆ 17357256002 ┆ 17357256002 ┆ … ┆ 93382.0 ┆ 93382.1 ┆ [11.36,     ┆ [1.351,    │\n",
       "│     ┆ 30414200    ┆ 27000000    ┆ 25000000    ┆   ┆         ┆         ┆ 0.01, …     ┆ -3.0, …    │\n",
       "│     ┆             ┆             ┆             ┆   ┆         ┆         ┆ 0.042]      ┆ 0.006]     │\n",
       "└─────┴─────────────┴─────────────┴─────────────┴───┴─────────┴─────────┴─────────────┴────────────┘"
      ]
     },
     "execution_count": 45,
     "metadata": {},
     "output_type": "execute_result"
    }
   ],
   "source": [
    "df.head()"
   ]
  },
  {
   "cell_type": "code",
   "execution_count": null,
   "metadata": {},
   "outputs": [],
   "source": []
  }
 ],
 "metadata": {
  "kernelspec": {
   "display_name": "Python 3 (ipykernel)",
   "language": "python",
   "name": "python3"
  },
  "language_info": {
   "codemirror_mode": {
    "name": "ipython",
    "version": 3
   },
   "file_extension": ".py",
   "mimetype": "text/x-python",
   "name": "python",
   "nbconvert_exporter": "python",
   "pygments_lexer": "ipython3",
   "version": "3.13.2"
  }
 },
 "nbformat": 4,
 "nbformat_minor": 4
}
