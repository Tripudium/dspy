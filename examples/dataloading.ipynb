{
 "cells": [
  {
   "cell_type": "code",
   "execution_count": 1,
   "metadata": {},
   "outputs": [],
   "source": [
    "%load_ext autoreload\n",
    "%autoreload 2"
   ]
  },
  {
   "cell_type": "code",
   "execution_count": 2,
   "metadata": {},
   "outputs": [],
   "source": [
    "import matplotlib.pyplot as plt # type: ignore\n",
    "import numpy as np\n",
    "import polars as pl"
   ]
  },
  {
   "cell_type": "code",
   "execution_count": 3,
   "metadata": {},
   "outputs": [],
   "source": [
    "from dspy.hdb import get_dataset"
   ]
  },
  {
   "cell_type": "code",
   "execution_count": 4,
   "metadata": {},
   "outputs": [],
   "source": [
    "RCS = [f\"{coin}USDT\" for coin in [\"BTC\", \"ETH\", \"SOL\", \"DOGE\", \"LINK\"]]\n",
    "TIMES = ['250120.000100', '250120.215000']"
   ]
  },
  {
   "cell_type": "markdown",
   "metadata": {
    "vscode": {
     "languageId": "plaintext"
    }
   },
   "source": [
    "# <font color=\"grey\">Data loading and handling</font>"
   ]
  },
  {
   "cell_type": "markdown",
   "metadata": {},
   "source": [
    "Data is available in two forms: limit order book (LOB) and trade data. The timestamps are given in nanosecond resolution as Unix timestamps, but the granularity of the data is not that fine. A simple dataloader and some helper function to convert Python datetime objects or strings of the form '240802.1450' into timestamps are provided. The 'book' data contains best bid and ask prices with corresponding volumes. The 'trade' data contains trades, with a signed quantity representing direction. There is also an associated trade id in order to identify individual trades."
   ]
  },
  {
   "cell_type": "code",
   "execution_count": 5,
   "metadata": {},
   "outputs": [],
   "source": [
    "dl = get_dataset(\"terank\")"
   ]
  },
  {
   "cell_type": "markdown",
   "metadata": {},
   "source": [
    "####  <a id='chapter1'> <font color=\"grey\">1. Book</font></a>"
   ]
  },
  {
   "cell_type": "code",
   "execution_count": 6,
   "metadata": {},
   "outputs": [],
   "source": [
    "df = dl.load_book(RCS[0:2], TIMES, lazy=True)\n",
    "# Add human readable timestamp and mid prices\n",
    "df = df.ds.add_datetime('ts').feature.add_mid(products=RCS[0:2])"
   ]
  },
  {
   "cell_type": "code",
   "execution_count": 7,
   "metadata": {},
   "outputs": [
    {
     "data": {
      "text/html": [
       "<div><style>\n",
       ".dataframe > thead > tr,\n",
       ".dataframe > tbody > tr {\n",
       "  text-align: right;\n",
       "  white-space: pre-wrap;\n",
       "}\n",
       "</style>\n",
       "<small>shape: (5, 12)</small><table border=\"1\" class=\"dataframe\"><thead><tr><th>ts</th><th>prc_s0_BTCUSDT</th><th>prc_s1_BTCUSDT</th><th>vol_s0_BTCUSDT</th><th>vol_s1_BTCUSDT</th><th>prc_s0_ETHUSDT</th><th>prc_s1_ETHUSDT</th><th>vol_s0_ETHUSDT</th><th>vol_s1_ETHUSDT</th><th>dts</th><th>mid_BTCUSDT</th><th>mid_ETHUSDT</th></tr><tr><td>i64</td><td>f64</td><td>f64</td><td>f64</td><td>f64</td><td>f64</td><td>f64</td><td>f64</td><td>f64</td><td>datetime[ns]</td><td>f64</td><td>f64</td></tr></thead><tbody><tr><td>1737331260001000000</td><td>100950.2</td><td>100950.5</td><td>0.001</td><td>0.74</td><td>3201.16</td><td>3201.18</td><td>0.049</td><td>13.713</td><td>2025-01-20 00:01:00.001</td><td>100950.35</td><td>3201.17</td></tr><tr><td>1737331260005000000</td><td>100949.8</td><td>100950.5</td><td>0.019</td><td>0.74</td><td>3201.16</td><td>3201.18</td><td>0.049</td><td>13.713</td><td>2025-01-20 00:01:00.005</td><td>100950.15</td><td>3201.17</td></tr><tr><td>1737331260007000000</td><td>100949.8</td><td>100950.5</td><td>0.019</td><td>0.469</td><td>3201.16</td><td>3201.18</td><td>0.049</td><td>13.713</td><td>2025-01-20 00:01:00.007</td><td>100950.15</td><td>3201.17</td></tr><tr><td>1737331260008000000</td><td>100943.3</td><td>100945.3</td><td>0.002</td><td>0.001</td><td>3201.16</td><td>3201.18</td><td>0.049</td><td>13.713</td><td>2025-01-20 00:01:00.008</td><td>100944.3</td><td>3201.17</td></tr><tr><td>1737331260017000000</td><td>100943.3</td><td>100945.3</td><td>0.002</td><td>0.001</td><td>3201.16</td><td>3201.17</td><td>0.049</td><td>0.9</td><td>2025-01-20 00:01:00.017</td><td>100944.3</td><td>3201.165</td></tr></tbody></table></div>"
      ],
      "text/plain": [
       "shape: (5, 12)\n",
       "┌───────────┬───────────┬───────────┬───────────┬───┬───────────┬───────────┬───────────┬──────────┐\n",
       "│ ts        ┆ prc_s0_BT ┆ prc_s1_BT ┆ vol_s0_BT ┆ … ┆ vol_s1_ET ┆ dts       ┆ mid_BTCUS ┆ mid_ETHU │\n",
       "│ ---       ┆ CUSDT     ┆ CUSDT     ┆ CUSDT     ┆   ┆ HUSDT     ┆ ---       ┆ DT        ┆ SDT      │\n",
       "│ i64       ┆ ---       ┆ ---       ┆ ---       ┆   ┆ ---       ┆ datetime[ ┆ ---       ┆ ---      │\n",
       "│           ┆ f64       ┆ f64       ┆ f64       ┆   ┆ f64       ┆ ns]       ┆ f64       ┆ f64      │\n",
       "╞═══════════╪═══════════╪═══════════╪═══════════╪═══╪═══════════╪═══════════╪═══════════╪══════════╡\n",
       "│ 173733126 ┆ 100950.2  ┆ 100950.5  ┆ 0.001     ┆ … ┆ 13.713    ┆ 2025-01-2 ┆ 100950.35 ┆ 3201.17  │\n",
       "│ 000100000 ┆           ┆           ┆           ┆   ┆           ┆ 0 00:01:0 ┆           ┆          │\n",
       "│ 0         ┆           ┆           ┆           ┆   ┆           ┆ 0.001     ┆           ┆          │\n",
       "│ 173733126 ┆ 100949.8  ┆ 100950.5  ┆ 0.019     ┆ … ┆ 13.713    ┆ 2025-01-2 ┆ 100950.15 ┆ 3201.17  │\n",
       "│ 000500000 ┆           ┆           ┆           ┆   ┆           ┆ 0 00:01:0 ┆           ┆          │\n",
       "│ 0         ┆           ┆           ┆           ┆   ┆           ┆ 0.005     ┆           ┆          │\n",
       "│ 173733126 ┆ 100949.8  ┆ 100950.5  ┆ 0.019     ┆ … ┆ 13.713    ┆ 2025-01-2 ┆ 100950.15 ┆ 3201.17  │\n",
       "│ 000700000 ┆           ┆           ┆           ┆   ┆           ┆ 0 00:01:0 ┆           ┆          │\n",
       "│ 0         ┆           ┆           ┆           ┆   ┆           ┆ 0.007     ┆           ┆          │\n",
       "│ 173733126 ┆ 100943.3  ┆ 100945.3  ┆ 0.002     ┆ … ┆ 13.713    ┆ 2025-01-2 ┆ 100944.3  ┆ 3201.17  │\n",
       "│ 000800000 ┆           ┆           ┆           ┆   ┆           ┆ 0 00:01:0 ┆           ┆          │\n",
       "│ 0         ┆           ┆           ┆           ┆   ┆           ┆ 0.008     ┆           ┆          │\n",
       "│ 173733126 ┆ 100943.3  ┆ 100945.3  ┆ 0.002     ┆ … ┆ 0.9       ┆ 2025-01-2 ┆ 100944.3  ┆ 3201.165 │\n",
       "│ 001700000 ┆           ┆           ┆           ┆   ┆           ┆ 0 00:01:0 ┆           ┆          │\n",
       "│ 0         ┆           ┆           ┆           ┆   ┆           ┆ 0.017     ┆           ┆          │\n",
       "└───────────┴───────────┴───────────┴───────────┴───┴───────────┴───────────┴───────────┴──────────┘"
      ]
     },
     "execution_count": 7,
     "metadata": {},
     "output_type": "execute_result"
    }
   ],
   "source": [
    "# This takes some time, not because of the loading but because of the aggregation\n",
    "df = df.collect()\n",
    "df.head()"
   ]
  },
  {
   "cell_type": "code",
   "execution_count": 8,
   "metadata": {},
   "outputs": [
    {
     "data": {
      "image/png": "[encoded data removed]",
      "text/plain": [
       "<Figure size 640x480 with 1 Axes>"
      ]
     },
     "metadata": {},
     "output_type": "display_data"
    }
   ],
   "source": [
    "plt.plot(df['dts'], df[f'mid_{RCS[0]}'])\n",
    "plt.xlabel('Time')\n",
    "plt.ylabel('Mid price')\n",
    "plt.title(f'{RCS[0]}')\n",
    "plt.show()"
   ]
  },
  {
   "cell_type": "code",
   "execution_count": 8,
   "metadata": {},
   "outputs": [],
   "source": [
    "# Add a column with random +1 or -1 entries\n",
    "df = df.with_columns(\n",
    "    pl.lit(np.random.choice([1., -1.], size=len(df))).alias('random_signal')\n",
    ")"
   ]
  },
  {
   "cell_type": "code",
   "execution_count": 9,
   "metadata": {},
   "outputs": [],
   "source": [
    "pdf = df.target.add_sig_pnl(ts_col=\"ts\", col=\"mid_ETHUSDT\", signal=\"random_signal\", horizon=\"1m\", in_bp=False)\n",
    "pdf.head()"
   ]
  },
  {
   "cell_type": "code",
   "execution_count": 40,
   "metadata": {},
   "outputs": [],
   "source": [
    "df = load_contract(update_type=\"bbo\", contract_spec=\"BTCUSDT__BNCE_USDTM\", times_range=TIMES[0][:-2]+\":\"+TIMES[1][:-2]).collect()   \n",
    "sdf = df.select(['tse', 'prc_s0', 'prc_s1', 'vol_s0', 'vol_s1'])"
   ]
  },
  {
   "cell_type": "code",
   "execution_count": 41,
   "metadata": {},
   "outputs": [],
   "source": [
    "ddf = load_contract(update_type=\"depth\", contract_spec=\"BTCUSDT__BNCE_USDTM\", times_range=TIMES[0][:-2]+\":\"+TIMES[1][:-2]).collect()\n",
    "sddf = ddf.select(['tse', 'prc_s0', 'prc_s1', 'vols_s0', 'vols_s1'])"
   ]
  },
  {
   "cell_type": "code",
   "execution_count": null,
   "metadata": {},
   "outputs": [],
   "source": [
    "print(df.collect().shape)\n",
    "print(ddf.collect().shape)"
   ]
  },
  {
   "cell_type": "code",
   "execution_count": null,
   "metadata": {},
   "outputs": [],
   "source": [
    "print(df.columns)\n",
    "print(ddf.columns)"
   ]
  },
  {
   "cell_type": "code",
   "execution_count": null,
   "metadata": {},
   "outputs": [],
   "source": [
    "print(df.head())\n",
    "print(ddf.head())"
   ]
  },
  {
   "cell_type": "code",
   "execution_count": 51,
   "metadata": {},
   "outputs": [],
   "source": [
    "sdf = df.select(['tse', 'prc_s0', 'prc_s1', 'vol_s0', 'vol_s1']).ds.add_datetime('tse')\n",
    "sddf = ddf.select(['tse', 'prc_s0', 'prc_s1', 'vols_s0', 'vols_s1']).ds.add_datetime('tse')"
   ]
  },
  {
   "cell_type": "code",
   "execution_count": 73,
   "metadata": {},
   "outputs": [],
   "source": [
    "diff_count = ddf.filter(pl.col('tse') != pl.col('tst'))\n",
    "\n",
    "\n"
   ]
  },
  {
   "cell_type": "code",
   "execution_count": null,
   "metadata": {},
   "outputs": [],
   "source": [
    "diff_count = diff_count.select(['tse', 'tst']).with_columns((pl.col('tse') - pl.col('tst')).alias('diff')).head()"
   ]
  },
  {
   "cell_type": "code",
   "execution_count": null,
   "metadata": {},
   "outputs": [],
   "source": [
    "# To get the values from a Polars Series, use .to_list() or .unique() to see distinct values\n",
    "print(\"Unique differences between tse and tst:\")\n",
    "print(diff_count['diff'].unique())\n",
    "\n",
    "# Alternative way to see all values\n",
    "print(\"\\nAll difference values:\")\n",
    "print(diff_count['diff'].to_list())"
   ]
  },
  {
   "cell_type": "code",
   "execution_count": null,
   "metadata": {},
   "outputs": [],
   "source": [
    "sdf[:20]"
   ]
  },
  {
   "cell_type": "code",
   "execution_count": null,
   "metadata": {},
   "outputs": [],
   "source": [
    "sddf.head()"
   ]
  },
  {
   "cell_type": "code",
   "execution_count": 12,
   "metadata": {},
   "outputs": [],
   "source": [
    "df = df.feature.add_vwap(cols=[\"prc__s0\", \"prc__s1\", \"vol__s0\", \"vol__s1\"])\n",
    "df.head()"
   ]
  },
  {
   "cell_type": "markdown",
   "metadata": {},
   "source": [
    "####  <a id='chapter2'> <font color=\"grey\">2. Trades</font></a>"
   ]
  },
  {
   "cell_type": "code",
   "execution_count": 25,
   "metadata": {},
   "outputs": [],
   "source": [
    "TIMES = ['250101.100000', '250101.120000']\n",
    "products = ['BTCUSDT', 'ETHUSDT']"
   ]
  },
  {
   "cell_type": "code",
   "execution_count": 26,
   "metadata": {},
   "outputs": [],
   "source": [
    "tdf = dl.load_trades(products, TIMES, lazy=True)\n",
    "# By default, the timestamp column is named 'ts'\n",
    "tdf = tdf.trade.agg_trades().trade.add_side().ds.add_datetime()"
   ]
  },
  {
   "cell_type": "code",
   "execution_count": null,
   "metadata": {},
   "outputs": [],
   "source": [
    "tdf = tdf.collect()\n",
    "tdf.head()"
   ]
  },
  {
   "cell_type": "code",
   "execution_count": 28,
   "metadata": {},
   "outputs": [],
   "source": [
    "from trpy_data.data.load_data import load_contract"
   ]
  },
  {
   "cell_type": "code",
   "execution_count": 38,
   "metadata": {},
   "outputs": [],
   "source": [
    "df = load_contract(update_type=\"depth\", contract_spec=\"BTCUSDT__BNCE_USDTM\", times_range=\"250101.1000:250101.1200\")"
   ]
  },
  {
   "cell_type": "code",
   "execution_count": null,
   "metadata": {},
   "outputs": [],
   "source": [
    "df = df.collect()"
   ]
  },
  {
   "cell_type": "code",
   "execution_count": null,
   "metadata": {},
   "outputs": [],
   "source": [
    "df['vols_s0'][3]"
   ]
  },
  {
   "cell_type": "code",
   "execution_count": null,
   "metadata": {},
   "outputs": [],
   "source": [
    "df.head()"
   ]
  },
  {
   "cell_type": "code",
   "execution_count": null,
   "metadata": {},
   "outputs": [],
   "source": []
  }
 ],
 "metadata": {
  "kernelspec": {
   "display_name": "Python 3 (ipykernel)",
   "language": "python",
   "name": "python3"
  },
  "language_info": {
   "codemirror_mode": {
    "name": "ipython",
    "version": 3
   },
   "file_extension": ".py",
   "mimetype": "text/x-python",
   "name": "python",
   "nbconvert_exporter": "python",
   "pygments_lexer": "ipython3",
   "version": "3.13.2"
  }
 },
 "nbformat": 4,
 "nbformat_minor": 4
}
