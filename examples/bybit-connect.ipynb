{
 "cells": [
  {
   "cell_type": "code",
   "execution_count": null,
   "id": "95a53a42-d9d2-40c7-9f18-ba25b54cbb86",
   "metadata": {},
   "outputs": [],
   "source": [
    "%load_ext autoreload\n",
    "%autoreload 2"
   ]
  },
  {
   "cell_type": "code",
   "execution_count": 2,
   "id": "e6b80319-8551-49aa-9a43-6ad541d59aca",
   "metadata": {},
   "outputs": [],
   "source": [
    "import numpy as np\n",
    "import time\n",
    "import polars as pl\n",
    "import tqdm\n"
   ]
  },
  {
   "cell_type": "code",
   "execution_count": null,
   "id": "28e479ce",
   "metadata": {},
   "outputs": [],
   "source": [
    "from dspy.api import get_api\n",
    "from dspy.api.bybit import Config\n",
    "\n",
    "config = Config()\n",
    "s = get_api('bybit', config=config)\n"
   ]
  },
  {
   "cell_type": "markdown",
   "id": "47181fcf-e826-4fdc-9620-9d171f6480cb",
   "metadata": {},
   "source": [
    "# <font color=\"grey\">ByBit API</font>"
   ]
  },
  {
   "cell_type": "code",
   "execution_count": null,
   "id": "a823580d-a388-426e-bb58-2a04a5f2b128",
   "metadata": {},
   "outputs": [],
   "source": [
    "config"
   ]
  },
  {
   "cell_type": "code",
   "execution_count": 4,
   "id": "13c70e1d-5e19-498d-9bfe-2466b115c7d8",
   "metadata": {},
   "outputs": [],
   "source": [
    "s = ByBitManager(config)"
   ]
  },
  {
   "cell_type": "code",
   "execution_count": 5,
   "id": "9f9335dc-9403-4ffb-aea0-1c5728bebd2c",
   "metadata": {},
   "outputs": [],
   "source": [
    "symbols = ['BTCUSDT', 'ETHUSDT']"
   ]
  },
  {
   "cell_type": "markdown",
   "id": "4f8ac384-b2a9-4903-8d90-0223840ec3c6",
   "metadata": {},
   "source": [
    "### Prices and volumes"
   ]
  },
  {
   "cell_type": "code",
   "execution_count": null,
   "id": "cc984e1e-638c-4cc7-b3e6-40fda8e306a8",
   "metadata": {},
   "outputs": [],
   "source": [
    "mid = s.get_mid(symbols[1])\n",
    "print(\"Last price: \", mid)"
   ]
  },
  {
   "cell_type": "code",
   "execution_count": null,
   "id": "1b8b2e8e-f628-47b4-b9f0-7d0d5033257c",
   "metadata": {},
   "outputs": [],
   "source": [
    "ask = s.get_ask(symbols[0])\n",
    "bid = s.get_bid(symbols[0])\n",
    "print(\"Bid: \", bid)\n",
    "print(\"Ask: \", ask)"
   ]
  },
  {
   "cell_type": "markdown",
   "id": "1b7b65bd-d822-41cf-907b-16e1aa16acd8",
   "metadata": {},
   "source": [
    "### Account info"
   ]
  },
  {
   "cell_type": "code",
   "execution_count": null,
   "id": "48f8c468-a273-4c46-8088-f9c3b02858fc",
   "metadata": {},
   "outputs": [],
   "source": [
    "balance = s.get_wallet_balance()\n",
    "print(\"Balance: \", balance)"
   ]
  },
  {
   "cell_type": "code",
   "execution_count": null,
   "id": "f647bd49-7da7-4a56-856d-9e5a17b574de",
   "metadata": {},
   "outputs": [],
   "source": [
    "fees = s.get_fees('BTCUSDT')\n",
    "print(\"Fees: \", fees)"
   ]
  },
  {
   "cell_type": "markdown",
   "id": "022ea750-73a9-4d34-b921-bc56779f8f79",
   "metadata": {},
   "source": [
    "### Position info"
   ]
  },
  {
   "cell_type": "code",
   "execution_count": null,
   "id": "70055c13-3922-4911-9e9b-bb412edba057",
   "metadata": {},
   "outputs": [],
   "source": [
    "s.s.get_positions(category='linear', \n",
    "            symbol=symbols[0],\n",
    "            )['result']['list'][0]"
   ]
  },
  {
   "cell_type": "code",
   "execution_count": null,
   "id": "d982242d-da5d-4127-83ae-b93a87ab3984",
   "metadata": {},
   "outputs": [],
   "source": [
    "pos = s.get_position(symbols[0])\n",
    "pos is None"
   ]
  },
  {
   "cell_type": "markdown",
   "id": "66f86d1a-5ced-454e-aa79-f7beb56e6468",
   "metadata": {},
   "source": [
    "### Trading"
   ]
  },
  {
   "cell_type": "code",
   "execution_count": null,
   "id": "77291941-b2bb-4fcf-a7b0-52ecffa8747b",
   "metadata": {},
   "outputs": [],
   "source": [
    "# Place market order\n",
    "res = s.place_order('BTCUSDT', 0.005)\n",
    "res"
   ]
  },
  {
   "cell_type": "code",
   "execution_count": null,
   "id": "c3ecf939-cccc-4a8e-a647-2f5612438742",
   "metadata": {},
   "outputs": [],
   "source": [
    "balance = s.get_wallet_balance()\n",
    "print(\"Balance: \", balance)"
   ]
  },
  {
   "cell_type": "code",
   "execution_count": null,
   "id": "1432df3e-2f04-4df4-8802-4ba55d4c52d0",
   "metadata": {},
   "outputs": [],
   "source": [
    "pos = s.get_position(symbols[0])\n",
    "pos"
   ]
  },
  {
   "cell_type": "code",
   "execution_count": null,
   "id": "25805491-d7a4-4385-aca6-c8376b363426",
   "metadata": {},
   "outputs": [],
   "source": [
    "entry = pos['entry_price']\n",
    "entry"
   ]
  },
  {
   "cell_type": "code",
   "execution_count": null,
   "id": "0777782d-07e0-4639-a62b-9e39f7c29979",
   "metadata": {},
   "outputs": [],
   "source": [
    "entry*float(fees[0])*0.005"
   ]
  },
  {
   "cell_type": "code",
   "execution_count": null,
   "id": "4c1fe4e6-20be-4ab6-a744-ea68b660dbbc",
   "metadata": {},
   "outputs": [],
   "source": [
    "liq_price = s.get_bid('BTCUSDT')[0]\n",
    "liq_price-entry"
   ]
  },
  {
   "cell_type": "code",
   "execution_count": null,
   "id": "c0ffeff9-a7b8-46f0-bab5-294aaa906b96",
   "metadata": {},
   "outputs": [],
   "source": [
    "pos = s.get_positions(symbols)['BTCUSDT']\n",
    "diff = (pos['mark_price']-pos['entry_price'])*0.005\n",
    "diff2 = pos['unrealized_pnl']"
   ]
  },
  {
   "cell_type": "code",
   "execution_count": null,
   "id": "560b38b5-5d47-45e8-822a-87f00576d365",
   "metadata": {},
   "outputs": [],
   "source": [
    "(diff-diff2)<1e-8"
   ]
  },
  {
   "cell_type": "code",
   "execution_count": null,
   "id": "9156211d-fc7c-475c-bd35-2563a6eedf4f",
   "metadata": {},
   "outputs": [],
   "source": [
    "(pos['realized_pnl']+fees[0]*pos['entry_price']*0.005)<1e-8"
   ]
  },
  {
   "cell_type": "code",
   "execution_count": null,
   "id": "710e5739-2cc2-4ba1-92d6-be0f9a7016fb",
   "metadata": {},
   "outputs": [],
   "source": [
    "# Close position\n",
    "response = s.close_positions(['BTCUSDT'])\n",
    "response"
   ]
  },
  {
   "cell_type": "code",
   "execution_count": null,
   "id": "0c36bb2f-0ef1-4545-82bf-1e51eacf058e",
   "metadata": {},
   "outputs": [],
   "source": [
    "# Limit orders\n",
    "price = s.get_mid(config.symbol)\n",
    "response = s.place_order(config.symbol,\n",
    "                         -0.002,\n",
    "                         price+10,\n",
    "                         type='Limit')\n",
    "print(response)"
   ]
  },
  {
   "cell_type": "code",
   "execution_count": null,
   "id": "dfb6d503-c06b-47d8-8b06-b85b85388442",
   "metadata": {},
   "outputs": [],
   "source": [
    "price = s.get_mid(symbols[0])\n",
    "response = s.place_order(symbols[0],\n",
    "                         -0.001,\n",
    "                         price+100,\n",
    "                         type='Limit')\n",
    "print(response)"
   ]
  },
  {
   "cell_type": "code",
   "execution_count": null,
   "id": "41918074-6b89-4a30-934b-15803ae6720b",
   "metadata": {},
   "outputs": [],
   "source": [
    "response = s.replace_order(symbols[0], response['order_id'], -0.001, price+100)\n",
    "print(response)"
   ]
  },
  {
   "cell_type": "code",
   "execution_count": null,
   "id": "2fb3817a-484f-42b2-897b-386d83515020",
   "metadata": {},
   "outputs": [],
   "source": [
    "resp = s.cancel_order(symbols[0], response['order_id'])\n",
    "print(resp)"
   ]
  },
  {
   "cell_type": "code",
   "execution_count": null,
   "id": "1447faaf-7fe2-4481-aa90-83a8c841d350",
   "metadata": {},
   "outputs": [],
   "source": [
    "# Batch orders\n",
    "response = s.place_batch_order(symbols[0], [-0.001, -0.001], [price+50, price+100])"
   ]
  },
  {
   "cell_type": "code",
   "execution_count": null,
   "id": "a66b8ee8-71a8-48a9-aa94-f54c4ca77691",
   "metadata": {},
   "outputs": [],
   "source": [
    "s.cancel_batch_order(symbols[0], [x['order_id'] for x in response])"
   ]
  },
  {
   "cell_type": "code",
   "execution_count": null,
   "id": "f45e7293-0736-4516-bdcf-ca9fcdd76c80",
   "metadata": {},
   "outputs": [],
   "source": [
    "s.cancel_all_orders([symbols[0]])"
   ]
  },
  {
   "cell_type": "code",
   "execution_count": null,
   "id": "02a04315-c135-42cf-81c5-0f4bea8128aa",
   "metadata": {},
   "outputs": [],
   "source": [
    "s.close_positions(['BTCUSDT'])"
   ]
  },
  {
   "cell_type": "code",
   "execution_count": null,
   "id": "5d43650f-52f6-4cb0-9792-114b3684985b",
   "metadata": {},
   "outputs": [],
   "source": [
    "mm(s, config)"
   ]
  },
  {
   "cell_type": "code",
   "execution_count": null,
   "id": "61fa54cf-57cf-431c-b550-f700b215a6de",
   "metadata": {},
   "outputs": [],
   "source": [
    "s.cancel_all_orders(config.symbol)\n",
    "last = s.get_mid(config.symbol)\n",
    "price_range = round(config.range * last, 2)\n",
    "balance = s.get_wallet_balance()\n",
    "available_equity = (balance * config.equity) / last\n",
    "# Arithmetic grid\n",
    "nn = 2*available_equity / (config.num_orders * (config.num_orders + 1))\n",
    "long_qtys = np.round([nn * i for i in reversed(range(1, config.num_orders + 1))], \n",
    "                             decimals=3)\n",
    "short_qtys = np.round([-i for i in long_qtys][::-1], decimals=3)\n",
    "long_prices = np.round(\n",
    "            np.linspace(last - price_range/2, \n",
    "                        last - nn, \n",
    "                        config.num_orders), \n",
    "            decimals=1\n",
    "            )\n",
    "short_prices = np.round(\n",
    "            np.linspace(last + nn, \n",
    "                        last + price_range/2, \n",
    "                        config.num_orders), \n",
    "            decimals=1\n",
    "            )\n"
   ]
  },
  {
   "cell_type": "code",
   "execution_count": null,
   "id": "91153803-19e9-479f-8b64-8f26a4ead770",
   "metadata": {},
   "outputs": [],
   "source": [
    "long_order_ids = s.place_batch_order(config.symbol, long_qtys, long_prices)\n",
    "short_order_ids = s.place_batch_order(config.symbol, short_qtys, short_prices)"
   ]
  },
  {
   "cell_type": "code",
   "execution_count": null,
   "id": "a4b56096-bb3e-4059-bc80-ddcd1cd86ddf",
   "metadata": {},
   "outputs": [],
   "source": [
    "s.cancel_all_orders(config.symbol)"
   ]
  },
  {
   "cell_type": "code",
   "execution_count": null,
   "id": "1f92cdb4-597b-4a3f-bf49-a55b8b0d1a76",
   "metadata": {},
   "outputs": [],
   "source": [
    "mm(s, config)"
   ]
  },
  {
   "cell_type": "code",
   "execution_count": null,
   "id": "e3909583-202a-4f49-b549-bc7ecd58fe85",
   "metadata": {},
   "outputs": [],
   "source": [
    "p = s.get_position(config.symbol)\n",
    "p"
   ]
  },
  {
   "cell_type": "code",
   "execution_count": null,
   "id": "fa580663-de66-4480-a04e-30ec4df98f16",
   "metadata": {},
   "outputs": [],
   "source": [
    "int(p['mark_price']*(1+0.005))"
   ]
  },
  {
   "cell_type": "code",
   "execution_count": null,
   "id": "242dddc1-543e-4c48-bf5c-7f563fb5e951",
   "metadata": {},
   "outputs": [],
   "source": [
    "np.linspace(0,1,10)"
   ]
  },
  {
   "cell_type": "code",
   "execution_count": null,
   "id": "7eae4e9a-2a0c-4694-a790-53075e768218",
   "metadata": {},
   "outputs": [],
   "source": []
  }
 ],
 "metadata": {
  "kernelspec": {
   "display_name": ".venv",
   "language": "python",
   "name": "python3"
  },
  "language_info": {
   "codemirror_mode": {
    "name": "ipython",
    "version": 3
   },
   "file_extension": ".py",
   "mimetype": "text/x-python",
   "name": "python",
   "nbconvert_exporter": "python",
   "pygments_lexer": "ipython3",
   "version": "3.12.8"
  }
 },
 "nbformat": 4,
 "nbformat_minor": 5
}
