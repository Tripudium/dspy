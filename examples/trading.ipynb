{
 "cells": [
  {
   "cell_type": "code",
   "execution_count": 1,
   "id": "084e691e",
   "metadata": {},
   "outputs": [],
   "source": [
    "%load_ext autoreload\n",
    "%autoreload 2"
   ]
  },
  {
   "cell_type": "code",
   "execution_count": 4,
   "id": "703f85d7",
   "metadata": {},
   "outputs": [],
   "source": []
  },
  {
   "cell_type": "code",
   "execution_count": 8,
   "id": "f7856b05",
   "metadata": {},
   "outputs": [],
   "source": [
    "from dspy.api.bybit import ByBitManager\n",
    "from dspy.api.bybit.config import config"
   ]
  },
  {
   "cell_type": "markdown",
   "id": "2387e937",
   "metadata": {},
   "source": [
    "# <font color=\"grey\">ByBit Trading</font>"
   ]
  },
  {
   "cell_type": "code",
   "execution_count": 11,
   "id": "709a932e",
   "metadata": {},
   "outputs": [],
   "source": [
    "bybit = ByBitManager(config)\n",
    "symbol = \"BTCUSDT\""
   ]
  },
  {
   "cell_type": "markdown",
   "id": "481f8740",
   "metadata": {},
   "source": [
    "### <font color=\"grey\">Market</font>"
   ]
  },
  {
   "cell_type": "code",
   "execution_count": null,
   "id": "ddf46441",
   "metadata": {},
   "outputs": [
    {
     "name": "stdout",
     "output_type": "stream",
     "text": [
      "Midprice for symbol: BTCUSDT is 119007.5\n",
      "Best bid for BTCUSDT: [119013.5, 3.857]\n",
      "Best ask for BTCUSDT: [119019.2, 0.402]\n",
      "Best bid for BTCUSDT: [119019.1, 17.744]\n",
      "Best ask for BTCUSDT: [119019.2, 3.319]\n",
      "Trades for BTCUSDT at time 1752682959506: 119019.1 0.001 -1\n",
      "Latency for BTCUSDT: 5\n"
     ]
    }
   ],
   "source": [
    "print(f\"Midprice for symbol: {symbol} is {bybit.get_mid(symbol)}\")\n",
    "print(f\"Best bid for BTCUSDT: {bybit.get_bid('BTCUSDT')}\")\n",
    "print(f\"Best ask for BTCUSDT: {bybit.get_ask('BTCUSDT')}\")\n",
    "print(f\"Best bid for BTCUSDT: {bybit.get_bid('BTCUSDT')}\")\n",
    "print(f\"Best ask for BTCUSDT: {bybit.get_ask('BTCUSDT')}\")\n",
    "trades = bybit.get_trades(\"BTCUSDT\")[0]\n",
    "print(\n",
    "    f\"Trades for BTCUSDT at time {trades['ts']}: {trades['price']} {trades['qty']} {trades['side']}\"\n",
    ")\n",
    "print(f\"Latency for BTCUSDT: {bybit.get_latency('BTCUSDT')}\")"
   ]
  },
  {
   "cell_type": "markdown",
   "id": "9e3f8fd4",
   "metadata": {},
   "source": [
    "### <font color=\"grey\">Account</font>"
   ]
  },
  {
   "cell_type": "code",
   "execution_count": 26,
   "id": "55d003c9",
   "metadata": {},
   "outputs": [
    {
     "name": "stdout",
     "output_type": "stream",
     "text": [
      "Wallet balance: 413.0750669\n",
      "Fees for BTCUSDT: [0.00055, 0.0002]\n",
      "Positions for BTCUSDT: {'size': 0.025, 'aep': 117324.88888889, 'mark_price': 119179.09, 'value': 2933.12222223, 'leverage': 5.0, 'position_balance': 0.0, 'unrealized_pnl': 46.35502777, 'realized_pnl': -13.17114151}\n",
      "Positions for XRPUSDT: {'size': 600.0, 'aep': 2.941325, 'mark_price': 2.9917, 'value': 1764.795, 'leverage': 10.0, 'position_balance': 0.0, 'unrealized_pnl': 30.225, 'realized_pnl': 15.15576998}\n",
      "Positions for ETHUSDT: {'size': 0, 'aep': 0, 'mark_price': 3249.52, 'value': 0, 'leverage': 10.0, 'position_balance': 0, 'unrealized_pnl': 0, 'realized_pnl': 0.0}\n"
     ]
    }
   ],
   "source": [
    "print(f\"Wallet balance: {bybit.get_wallet_balance()}\")\n",
    "print(f\"Fees for BTCUSDT: {bybit.get_fees('BTCUSDT')}\")\n",
    "print(f\"Positions for BTCUSDT: {bybit.get_positions(['BTCUSDT'])}\")\n",
    "print(f\"Positions for XRPUSDT: {bybit.get_positions(['XRPUSDT'])}\")\n",
    "print(f\"Positions for ETHUSDT: {bybit.get_positions(['ETHUSDT'])}\")"
   ]
  },
  {
   "cell_type": "markdown",
   "id": "ba067b3a",
   "metadata": {},
   "source": [
    "### <font color=\"grey\">Trading</font>"
   ]
  },
  {
   "cell_type": "code",
   "execution_count": 29,
   "id": "ce864918",
   "metadata": {},
   "outputs": [
    {
     "data": {
      "text/plain": [
       "[{'symbol': 'ETHUSDT',\n",
       "  'order_id': 'a6b07d03-4fb6-4b9a-b9eb-d1d35ea38401',\n",
       "  'side': 'Sell',\n",
       "  'qty': 1.0,\n",
       "  'order_price': 3249.0,\n",
       "  'order_type': 'Limit',\n",
       "  'exec_type': 'Trade',\n",
       "  'closed_size': 1.0,\n",
       "  'cum_entry_value': 3238.33,\n",
       "  'avg_entry_price': 3238.33,\n",
       "  'cum_exit_value': 3249.0,\n",
       "  'avg_exit_price': 3249.0,\n",
       "  'closed_pnl': 7.9146595,\n",
       "  'fill_count': 1,\n",
       "  'leverage': 10.0,\n",
       "  'created_time': 1752681105726,\n",
       "  'updated_time': 1752682506492},\n",
       " {'symbol': 'ETHUSDT',\n",
       "  'order_id': 'b4701984-87f2-438c-b8ae-9db8559fdea2',\n",
       "  'side': 'Sell',\n",
       "  'qty': 8.0,\n",
       "  'order_price': 3172.96,\n",
       "  'order_type': 'Market',\n",
       "  'exec_type': 'Trade',\n",
       "  'closed_size': 8.0,\n",
       "  'cum_entry_value': 25895.8019,\n",
       "  'avg_entry_price': 3236.9753,\n",
       "  'cum_exit_value': 25901.6,\n",
       "  'avg_exit_price': 3237.7,\n",
       "  'closed_pnl': -22.69047105,\n",
       "  'fill_count': 3,\n",
       "  'leverage': 100.0,\n",
       "  'created_time': 1752680994186,\n",
       "  'updated_time': 1752680994188}]"
      ]
     },
     "execution_count": 29,
     "metadata": {},
     "output_type": "execute_result"
    }
   ],
   "source": [
    "trades = bybit.get_pnl(\"ETHUSDT\")\n",
    "trades"
   ]
  },
  {
   "cell_type": "code",
   "execution_count": 1,
   "id": "e85949b3",
   "metadata": {},
   "outputs": [
    {
     "ename": "NameError",
     "evalue": "name 'bybit' is not defined",
     "output_type": "error",
     "traceback": [
      "\u001b[0;31m---------------------------------------------------------------------------\u001b[0m",
      "\u001b[0;31mNameError\u001b[0m                                 Traceback (most recent call last)",
      "Cell \u001b[0;32mIn[1], line 2\u001b[0m\n\u001b[1;32m      1\u001b[0m \u001b[38;5;66;03m# Test market order\u001b[39;00m\n\u001b[0;32m----> 2\u001b[0m price \u001b[38;5;241m=\u001b[39m \u001b[43mbybit\u001b[49m\u001b[38;5;241m.\u001b[39mget_ask(\u001b[38;5;124m'\u001b[39m\u001b[38;5;124mETHUSDT\u001b[39m\u001b[38;5;124m'\u001b[39m)\n",
      "\u001b[0;31mNameError\u001b[0m: name 'bybit' is not defined"
     ]
    }
   ],
   "source": [
    "# Test market order\n",
    "price = bybit.get_ask(\"ETHUSDT\")"
   ]
  },
  {
   "cell_type": "code",
   "execution_count": null,
   "id": "bf0abda6",
   "metadata": {},
   "outputs": [],
   "source": []
  }
 ],
 "metadata": {
  "kernelspec": {
   "display_name": ".venv",
   "language": "python",
   "name": "python3"
  },
  "language_info": {
   "codemirror_mode": {
    "name": "ipython",
    "version": 3
   },
   "file_extension": ".py",
   "mimetype": "text/x-python",
   "name": "python",
   "nbconvert_exporter": "python",
   "pygments_lexer": "ipython3",
   "version": "3.13.5"
  }
 },
 "nbformat": 4,
 "nbformat_minor": 5
}
