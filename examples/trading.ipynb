{
 "cells": [
  {
   "cell_type": "code",
   "execution_count": 1,
   "id": "084e691e",
   "metadata": {},
   "outputs": [],
   "source": [
    "%load_ext autoreload\n",
    "%autoreload 2"
   ]
  },
  {
   "cell_type": "code",
   "execution_count": 3,
   "id": "f7856b05",
   "metadata": {},
   "outputs": [],
   "source": [
    "from dspy.api.bybit import ByBitManager\n",
    "from dspy.api.bybit.config import config"
   ]
  },
  {
   "cell_type": "markdown",
   "id": "2387e937",
   "metadata": {},
   "source": [
    "# <font color=\"grey\">ByBit Trading</font>"
   ]
  },
  {
   "cell_type": "code",
   "execution_count": 4,
   "id": "709a932e",
   "metadata": {},
   "outputs": [],
   "source": [
    "bybit = ByBitManager(config)\n",
    "symbol = \"BTCUSDT\""
   ]
  },
  {
   "cell_type": "markdown",
   "id": "481f8740",
   "metadata": {},
   "source": [
    "### <font color=\"grey\">Market</font>"
   ]
  },
  {
   "cell_type": "code",
   "execution_count": 5,
   "id": "ddf46441",
   "metadata": {},
   "outputs": [
    {
     "name": "stdout",
     "output_type": "stream",
     "text": [
      "Midprice for symbol: BTCUSDT is 119460.1\n",
      "Best bid for BTCUSDT: [119457.0, 0.005]\n",
      "Best ask for BTCUSDT: [119457.1, 32.038]\n",
      "Best bid for BTCUSDT: [119457.0, 1.964]\n",
      "Best ask for BTCUSDT: [119457.1, 27.61]\n",
      "Trades for BTCUSDT at time 1753213104463: 119450.0 0.003 -1\n",
      "Latency for BTCUSDT: 2\n"
     ]
    }
   ],
   "source": [
    "print(f\"Midprice for symbol: {symbol} is {bybit.get_mid(symbol)}\")\n",
    "print(f\"Best bid for BTCUSDT: {bybit.get_bid('BTCUSDT')}\")\n",
    "print(f\"Best ask for BTCUSDT: {bybit.get_ask('BTCUSDT')}\")\n",
    "print(f\"Best bid for BTCUSDT: {bybit.get_bid('BTCUSDT')}\")\n",
    "print(f\"Best ask for BTCUSDT: {bybit.get_ask('BTCUSDT')}\")\n",
    "trades = bybit.get_trades(\"BTCUSDT\")[0]\n",
    "print(\n",
    "    f\"Trades for BTCUSDT at time {trades['ts']}: {trades['price']} {trades['qty']} {trades['side']}\"\n",
    ")\n",
    "print(f\"Latency for BTCUSDT: {bybit.get_latency('BTCUSDT')}\")"
   ]
  },
  {
   "cell_type": "markdown",
   "id": "9e3f8fd4",
   "metadata": {},
   "source": [
    "### <font color=\"grey\">Account</font>"
   ]
  },
  {
   "cell_type": "code",
   "execution_count": 6,
   "id": "55d003c9",
   "metadata": {},
   "outputs": [
    {
     "name": "stdout",
     "output_type": "stream",
     "text": [
      "Wallet balance: 345.59846769\n",
      "Fees for BTCUSDT: [0.00055, 0.0002]\n",
      "Positions for BTCUSDT: {'size': 0.02, 'aep': 117131.84883133, 'mark_price': 119450.0, 'value': 2342.63697664, 'leverage': 10.0, 'position_balance': 0.0, 'unrealized_pnl': 46.36302336, 'realized_pnl': 28.81278645}\n",
      "Positions for XRPUSDT: {'size': 500.0, 'aep': 3.35973265, 'mark_price': 3.5586, 'value': 1679.86632536, 'leverage': 10.0, 'position_balance': 0.0, 'unrealized_pnl': 99.43367464, 'realized_pnl': 236.56787388}\n",
      "Positions for ETHUSDT: {'size': 0.5, 'aep': 3626.29827162, 'mark_price': 3693.9, 'value': 1813.14913581, 'leverage': 10.0, 'position_balance': 0.0, 'unrealized_pnl': 33.80086419, 'realized_pnl': 157.96821851}\n"
     ]
    }
   ],
   "source": [
    "print(f\"Wallet balance: {bybit.get_wallet_balance()}\")\n",
    "print(f\"Fees for BTCUSDT: {bybit.get_fees('BTCUSDT')}\")\n",
    "print(f\"Positions for BTCUSDT: {bybit.get_positions(['BTCUSDT'])}\")\n",
    "print(f\"Positions for XRPUSDT: {bybit.get_positions(['XRPUSDT'])}\")\n",
    "print(f\"Positions for ETHUSDT: {bybit.get_positions(['ETHUSDT'])}\")"
   ]
  },
  {
   "cell_type": "markdown",
   "id": "ba067b3a",
   "metadata": {},
   "source": [
    "### <font color=\"grey\">Trading</font>"
   ]
  },
  {
   "cell_type": "code",
   "execution_count": 7,
   "id": "ce864918",
   "metadata": {},
   "outputs": [
    {
     "data": {
      "text/plain": [
       "[{'symbol': 'ETHUSDT',\n",
       "  'side': 'Sell',\n",
       "  'qty': 0.1,\n",
       "  'order_price': 3820.0,\n",
       "  'order_type': 'Limit',\n",
       "  'exec_type': 'Trade',\n",
       "  'closed_size': 0.1,\n",
       "  'cum_entry_value': 359.53728395,\n",
       "  'avg_entry_price': 3595.3729,\n",
       "  'cum_exit_value': 382.0,\n",
       "  'avg_exit_price': 3820.0,\n",
       "  'closed_pnl': 22.04153222,\n",
       "  'fill_count': 1,\n",
       "  'leverage': 10.0,\n",
       "  'created_time': 1753104028791,\n",
       "  'updated_time': 1753105960582},\n",
       " {'symbol': 'ETHUSDT',\n",
       "  'side': 'Sell',\n",
       "  'qty': 0.1,\n",
       "  'order_price': 3800.0,\n",
       "  'order_type': 'Limit',\n",
       "  'exec_type': 'Trade',\n",
       "  'closed_size': 0.1,\n",
       "  'cum_entry_value': 354.79660494,\n",
       "  'avg_entry_price': 3547.9661,\n",
       "  'cum_exit_value': 380.0,\n",
       "  'avg_exit_price': 3800.0,\n",
       "  'closed_pnl': 24.71534028,\n",
       "  'fill_count': 1,\n",
       "  'leverage': 10.0,\n",
       "  'created_time': 1753089392087,\n",
       "  'updated_time': 1753094681931},\n",
       " {'symbol': 'ETHUSDT',\n",
       "  'side': 'Sell',\n",
       "  'qty': 0.1,\n",
       "  'order_price': 3765.5,\n",
       "  'order_type': 'Limit',\n",
       "  'exec_type': 'Trade',\n",
       "  'closed_size': 0.1,\n",
       "  'cum_entry_value': 354.79660494,\n",
       "  'avg_entry_price': 3547.9661,\n",
       "  'cum_exit_value': 376.55,\n",
       "  'avg_exit_price': 3765.5,\n",
       "  'closed_pnl': 21.30392488,\n",
       "  'fill_count': 1,\n",
       "  'leverage': 10.0,\n",
       "  'created_time': 1753071146481,\n",
       "  'updated_time': 1753071630338},\n",
       " {'symbol': 'ETHUSDT',\n",
       "  'side': 'Sell',\n",
       "  'qty': 0.1,\n",
       "  'order_price': 3710.0,\n",
       "  'order_type': 'Limit',\n",
       "  'exec_type': 'Trade',\n",
       "  'closed_size': 0.1,\n",
       "  'cum_entry_value': 344.94490741,\n",
       "  'avg_entry_price': 3449.4491,\n",
       "  'cum_exit_value': 371.0,\n",
       "  'avg_exit_price': 3710.0,\n",
       "  'closed_pnl': 25.57024928,\n",
       "  'fill_count': 1,\n",
       "  'leverage': 10.0,\n",
       "  'created_time': 1753009863813,\n",
       "  'updated_time': 1753010328071},\n",
       " {'symbol': 'ETHUSDT',\n",
       "  'side': 'Sell',\n",
       "  'qty': 0.1,\n",
       "  'order_price': 3660.0,\n",
       "  'order_type': 'Limit',\n",
       "  'exec_type': 'Trade',\n",
       "  'closed_size': 0.1,\n",
       "  'cum_entry_value': 344.9449074,\n",
       "  'avg_entry_price': 3449.4491,\n",
       "  'cum_exit_value': 366.0,\n",
       "  'avg_exit_price': 3660.0,\n",
       "  'closed_pnl': 20.60793149,\n",
       "  'fill_count': 1,\n",
       "  'leverage': 10.0,\n",
       "  'created_time': 1752987962539,\n",
       "  'updated_time': 1752995265356},\n",
       " {'symbol': 'ETHUSDT',\n",
       "  'side': 'Sell',\n",
       "  'qty': 0.1,\n",
       "  'order_price': 3620.0,\n",
       "  'order_type': 'Limit',\n",
       "  'exec_type': 'Trade',\n",
       "  'closed_size': 0.1,\n",
       "  'cum_entry_value': 339.16736111,\n",
       "  'avg_entry_price': 3391.6737,\n",
       "  'cum_exit_value': 362.0,\n",
       "  'avg_exit_price': 3620.0,\n",
       "  'closed_pnl': 22.41324609,\n",
       "  'fill_count': 1,\n",
       "  'leverage': 10.0,\n",
       "  'created_time': 1752860082306,\n",
       "  'updated_time': 1752860202019},\n",
       " {'symbol': 'ETHUSDT',\n",
       "  'side': 'Sell',\n",
       "  'qty': 0.1,\n",
       "  'order_price': 3600.0,\n",
       "  'order_type': 'Limit',\n",
       "  'exec_type': 'Trade',\n",
       "  'closed_size': 0.1,\n",
       "  'cum_entry_value': 339.16736111,\n",
       "  'avg_entry_price': 3391.6737,\n",
       "  'cum_exit_value': 360.0,\n",
       "  'avg_exit_price': 3600.0,\n",
       "  'closed_pnl': 20.48538179,\n",
       "  'fill_count': 1,\n",
       "  'leverage': 10.0,\n",
       "  'created_time': 1752811410290,\n",
       "  'updated_time': 1752813247394},\n",
       " {'symbol': 'ETHUSDT',\n",
       "  'side': 'Sell',\n",
       "  'qty': 0.1,\n",
       "  'order_price': 3354.0,\n",
       "  'order_type': 'Limit',\n",
       "  'exec_type': 'Trade',\n",
       "  'closed_size': 0.1,\n",
       "  'cum_entry_value': 335.30083333,\n",
       "  'avg_entry_price': 3353.0084,\n",
       "  'cum_exit_value': 335.4,\n",
       "  'avg_exit_price': 3354.0,\n",
       "  'closed_pnl': -0.18041894,\n",
       "  'fill_count': 1,\n",
       "  'leverage': 10.0,\n",
       "  'created_time': 1752725863935,\n",
       "  'updated_time': 1752730177037},\n",
       " {'symbol': 'ETHUSDT',\n",
       "  'side': 'Sell',\n",
       "  'qty': 0.5,\n",
       "  'order_price': 3365.0,\n",
       "  'order_type': 'Limit',\n",
       "  'exec_type': 'Trade',\n",
       "  'closed_size': 0.5,\n",
       "  'cum_entry_value': 1678.065,\n",
       "  'avg_entry_price': 3356.13,\n",
       "  'cum_exit_value': 1682.5,\n",
       "  'avg_exit_price': 3365.0,\n",
       "  'closed_pnl': 3.17556425,\n",
       "  'fill_count': 1,\n",
       "  'leverage': 10.0,\n",
       "  'created_time': 1752691057892,\n",
       "  'updated_time': 1752693913958},\n",
       " {'symbol': 'ETHUSDT',\n",
       "  'side': 'Sell',\n",
       "  'qty': 1.0,\n",
       "  'order_price': 3249.0,\n",
       "  'order_type': 'Limit',\n",
       "  'exec_type': 'Trade',\n",
       "  'closed_size': 1.0,\n",
       "  'cum_entry_value': 3238.33,\n",
       "  'avg_entry_price': 3238.33,\n",
       "  'cum_exit_value': 3249.0,\n",
       "  'avg_exit_price': 3249.0,\n",
       "  'closed_pnl': 7.9146595,\n",
       "  'fill_count': 1,\n",
       "  'leverage': 10.0,\n",
       "  'created_time': 1752681105726,\n",
       "  'updated_time': 1752682506492},\n",
       " {'symbol': 'ETHUSDT',\n",
       "  'side': 'Sell',\n",
       "  'qty': 8.0,\n",
       "  'order_price': 3172.96,\n",
       "  'order_type': 'Market',\n",
       "  'exec_type': 'Trade',\n",
       "  'closed_size': 8.0,\n",
       "  'cum_entry_value': 25895.8019,\n",
       "  'avg_entry_price': 3236.9753,\n",
       "  'cum_exit_value': 25901.6,\n",
       "  'avg_exit_price': 3237.7,\n",
       "  'closed_pnl': -22.69047105,\n",
       "  'fill_count': 3,\n",
       "  'leverage': 100.0,\n",
       "  'created_time': 1752680994186,\n",
       "  'updated_time': 1752680994188}]"
      ]
     },
     "execution_count": 7,
     "metadata": {},
     "output_type": "execute_result"
    }
   ],
   "source": [
    "trades = bybit.get_pnl(\"ETHUSDT\")\n",
    "trades"
   ]
  },
  {
   "cell_type": "code",
   "execution_count": 8,
   "id": "e85949b3",
   "metadata": {},
   "outputs": [],
   "source": [
    "# Test market order\n",
    "price = bybit.get_ask(\"ETHUSDT\")"
   ]
  },
  {
   "cell_type": "code",
   "execution_count": null,
   "id": "bf0abda6",
   "metadata": {},
   "outputs": [],
   "source": []
  }
 ],
 "metadata": {
  "kernelspec": {
   "display_name": ".venv",
   "language": "python",
   "name": "python3"
  },
  "language_info": {
   "codemirror_mode": {
    "name": "ipython",
    "version": 3
   },
   "file_extension": ".py",
   "mimetype": "text/x-python",
   "name": "python",
   "nbconvert_exporter": "python",
   "pygments_lexer": "ipython3",
   "version": "3.13.5"
  }
 },
 "nbformat": 4,
 "nbformat_minor": 5
}
